{
 "cells": [
  {
   "cell_type": "code",
   "execution_count": 4,
   "id": "6bd54a00",
   "metadata": {},
   "outputs": [
    {
     "data": {
      "text/plain": [
       "device(type='cuda')"
      ]
     },
     "execution_count": 4,
     "metadata": {},
     "output_type": "execute_result"
    }
   ],
   "source": [
    "import pandas as pd\n",
    "from rdkit import Chem\n",
    "# from rdkit.Chem import Draw\n",
    "from rdkit.Chem import AllChem\n",
    "from chembl_webresource_client.new_client import new_client\n",
    "import sqlite3\n",
    "import numpy as np\n",
    "import matplotlib.pyplot as plt\n",
    "import torch\n",
    "from tape import ProteinBertModel, TAPETokenizer\n",
    "from tqdm import tqdm\n",
    "# Load MOSES SMILES file\n",
    "# df = pd.read_csv(\"../moses/data/train.smi\", names=[\"smiles\"])\n",
    "device = torch.device(\"cuda\" if torch.cuda.is_available() else \"cpu\")\n",
    "device"
   ]
  },
  {
   "cell_type": "code",
   "execution_count": null,
   "id": "3c5d3cf7",
   "metadata": {},
   "outputs": [
    {
     "name": "stderr",
     "output_type": "stream",
     "text": [
      "/Users/chusanarompo/miniforge3/envs/targetganPlay/lib/python3.10/site-packages/chembl_webresource_client/__init__.py:4: UserWarning: pkg_resources is deprecated as an API. See https://setuptools.pypa.io/en/latest/pkg_resources.html. The pkg_resources package is slated for removal as early as 2025-11-30. Refrain from using this package or pin to Setuptools<81.\n",
      "  __version__ = __import__('pkg_resources').get_distribution('chembl_webresource_client').version\n"
     ]
    }
   ],
   "source": [
    "\n",
    "tcomp_api    = new_client.target_component\n"
   ]
  },
  {
   "cell_type": "code",
   "execution_count": null,
   "id": "d1b22ee5",
   "metadata": {},
   "outputs": [
    {
     "data": {
      "text/plain": [
       "device(type='cuda')"
      ]
     },
     "execution_count": 3,
     "metadata": {},
     "output_type": "execute_result"
    }
   ],
   "source": []
  },
  {
   "cell_type": "code",
   "execution_count": null,
   "id": "82baa8c9",
   "metadata": {},
   "outputs": [
    {
     "name": "stdout",
     "output_type": "stream",
     "text": [
      "False\n"
     ]
    },
    {
     "ename": "AssertionError",
     "evalue": "Torch not compiled with CUDA enabled",
     "output_type": "error",
     "traceback": [
      "\u001b[1;31m---------------------------------------------------------------------------\u001b[0m",
      "\u001b[1;31mAssertionError\u001b[0m                            Traceback (most recent call last)",
      "Cell \u001b[1;32mIn[7], line 2\u001b[0m\n\u001b[0;32m      1\u001b[0m \u001b[38;5;28mprint\u001b[39m(torch\u001b[38;5;241m.\u001b[39mcuda\u001b[38;5;241m.\u001b[39mis_available())\n\u001b[1;32m----> 2\u001b[0m \u001b[43mtorch\u001b[49m\u001b[38;5;241;43m.\u001b[39;49m\u001b[43mzeros\u001b[49m\u001b[43m(\u001b[49m\u001b[38;5;241;43m1\u001b[39;49m\u001b[43m)\u001b[49m\u001b[38;5;241;43m.\u001b[39;49m\u001b[43mcuda\u001b[49m\u001b[43m(\u001b[49m\u001b[43m)\u001b[49m\n",
      "File \u001b[1;32mc:\\Users\\chusa\\miniconda3\\envs\\targetgan\\lib\\site-packages\\torch\\cuda\\__init__.py:310\u001b[0m, in \u001b[0;36m_lazy_init\u001b[1;34m()\u001b[0m\n\u001b[0;32m    305\u001b[0m     \u001b[38;5;28;01mraise\u001b[39;00m \u001b[38;5;167;01mRuntimeError\u001b[39;00m(\n\u001b[0;32m    306\u001b[0m         \u001b[38;5;124m\"\u001b[39m\u001b[38;5;124mCannot re-initialize CUDA in forked subprocess. To use CUDA with \u001b[39m\u001b[38;5;124m\"\u001b[39m\n\u001b[0;32m    307\u001b[0m         \u001b[38;5;124m\"\u001b[39m\u001b[38;5;124mmultiprocessing, you must use the \u001b[39m\u001b[38;5;124m'\u001b[39m\u001b[38;5;124mspawn\u001b[39m\u001b[38;5;124m'\u001b[39m\u001b[38;5;124m start method\u001b[39m\u001b[38;5;124m\"\u001b[39m\n\u001b[0;32m    308\u001b[0m     )\n\u001b[0;32m    309\u001b[0m \u001b[38;5;28;01mif\u001b[39;00m \u001b[38;5;129;01mnot\u001b[39;00m \u001b[38;5;28mhasattr\u001b[39m(torch\u001b[38;5;241m.\u001b[39m_C, \u001b[38;5;124m\"\u001b[39m\u001b[38;5;124m_cuda_getDeviceCount\u001b[39m\u001b[38;5;124m\"\u001b[39m):\n\u001b[1;32m--> 310\u001b[0m     \u001b[38;5;28;01mraise\u001b[39;00m \u001b[38;5;167;01mAssertionError\u001b[39;00m(\u001b[38;5;124m\"\u001b[39m\u001b[38;5;124mTorch not compiled with CUDA enabled\u001b[39m\u001b[38;5;124m\"\u001b[39m)\n\u001b[0;32m    311\u001b[0m \u001b[38;5;28;01mif\u001b[39;00m _cudart \u001b[38;5;129;01mis\u001b[39;00m \u001b[38;5;28;01mNone\u001b[39;00m:\n\u001b[0;32m    312\u001b[0m     \u001b[38;5;28;01mraise\u001b[39;00m \u001b[38;5;167;01mAssertionError\u001b[39;00m(\n\u001b[0;32m    313\u001b[0m         \u001b[38;5;124m\"\u001b[39m\u001b[38;5;124mlibcudart functions unavailable. It looks like you have a broken build?\u001b[39m\u001b[38;5;124m\"\u001b[39m\n\u001b[0;32m    314\u001b[0m     )\n",
      "\u001b[1;31mAssertionError\u001b[0m: Torch not compiled with CUDA enabled"
     ]
    }
   ],
   "source": []
  },
  {
   "cell_type": "code",
   "execution_count": 3,
   "id": "43c9aeae",
   "metadata": {},
   "outputs": [
    {
     "name": "stdout",
     "output_type": "stream",
     "text": [
      "                                              smiles\n",
      "0  [CH2]C1CC(n2ccc3c(-c4cc5cc(OC)ccc5[nH]4)ncnc32...\n",
      "1  [CH2]C1CC(n2ccc3c(-c4cc5ccc(C)cc5[nH]4)ncnc32)...\n",
      "2  [CH2]C1CC(n2ccc3c(-c4cc5ccccc5[nH]4)nc(C)nc32)...\n",
      "3  NS(=O)(=O)OCC1CC(n2ccc3c(-c4cc5ccccc5[nH]4)ncn...\n",
      "4  [CH2]C1CC(n2ccc3c(-c4cc5ccc(Cl)cc5[nH]4)ncnc32...\n",
      "(551223, 1)\n"
     ]
    }
   ],
   "source": [
    "df_drugsmiles = pd.read_csv(\"/Users/chusanarompo/DEV/MASTER/TargetGAN_play/data/CPI/smiles.smi\", names=[\"smiles\"])\n",
    "print(df_drugsmiles.head())\n",
    "print(df_drugsmiles.shape)"
   ]
  },
  {
   "cell_type": "code",
   "execution_count": 4,
   "id": "75ac112f",
   "metadata": {},
   "outputs": [
    {
     "name": "stdout",
     "output_type": "stream",
     "text": [
      "   smiles\n",
      "0  A0AVT1\n",
      "1  A0AVT1\n",
      "2  A0AVT1\n",
      "3  A0AVT1\n",
      "4  A0AVT1\n",
      "(551223, 1)\n"
     ]
    }
   ],
   "source": [
    "df_protein = pd.read_csv(\"/Users/chusanarompo/DEV/MASTER/TargetGAN_play/data/CPI/uniprot_ID.smi\", names=[\"smiles\"])\n",
    "print(df_protein.head())\n",
    "print(df_protein.shape)"
   ]
  },
  {
   "cell_type": "code",
   "execution_count": 14,
   "id": "9e8e2c51",
   "metadata": {},
   "outputs": [
    {
     "data": {
      "text/html": [
       "<div>\n",
       "<style scoped>\n",
       "    .dataframe tbody tr th:only-of-type {\n",
       "        vertical-align: middle;\n",
       "    }\n",
       "\n",
       "    .dataframe tbody tr th {\n",
       "        vertical-align: top;\n",
       "    }\n",
       "\n",
       "    .dataframe thead th {\n",
       "        text-align: right;\n",
       "    }\n",
       "</style>\n",
       "<table border=\"1\" class=\"dataframe\">\n",
       "  <thead>\n",
       "    <tr style=\"text-align: right;\">\n",
       "      <th></th>\n",
       "      <th>drug_smiles</th>\n",
       "      <th>protein_id</th>\n",
       "    </tr>\n",
       "  </thead>\n",
       "  <tbody>\n",
       "    <tr>\n",
       "      <th>0</th>\n",
       "      <td>[CH2]C1CC(n2ccc3c(-c4cc5cc(OC)ccc5[nH]4)ncnc32...</td>\n",
       "      <td>A0AVT1</td>\n",
       "    </tr>\n",
       "    <tr>\n",
       "      <th>1</th>\n",
       "      <td>[CH2]C1CC(n2ccc3c(-c4cc5ccc(C)cc5[nH]4)ncnc32)...</td>\n",
       "      <td>A0AVT1</td>\n",
       "    </tr>\n",
       "    <tr>\n",
       "      <th>2</th>\n",
       "      <td>[CH2]C1CC(n2ccc3c(-c4cc5ccccc5[nH]4)nc(C)nc32)...</td>\n",
       "      <td>A0AVT1</td>\n",
       "    </tr>\n",
       "    <tr>\n",
       "      <th>3</th>\n",
       "      <td>NS(=O)(=O)OCC1CC(n2ccc3c(-c4cc5ccccc5[nH]4)ncn...</td>\n",
       "      <td>A0AVT1</td>\n",
       "    </tr>\n",
       "    <tr>\n",
       "      <th>4</th>\n",
       "      <td>[CH2]C1CC(n2ccc3c(-c4cc5ccc(Cl)cc5[nH]4)ncnc32...</td>\n",
       "      <td>A0AVT1</td>\n",
       "    </tr>\n",
       "    <tr>\n",
       "      <th>...</th>\n",
       "      <td>...</td>\n",
       "      <td>...</td>\n",
       "    </tr>\n",
       "    <tr>\n",
       "      <th>551218</th>\n",
       "      <td>N=C(N)Nc1ccc(CC(NC(=O)OCc2ccccc2)P(=O)(Oc2cccc...</td>\n",
       "      <td>Q9Y5K2</td>\n",
       "    </tr>\n",
       "    <tr>\n",
       "      <th>551219</th>\n",
       "      <td>N=C(N)NCCCC(NC(=O)OCc1ccccc1)P(=O)(Oc1ccccc1)O...</td>\n",
       "      <td>Q9Y5K2</td>\n",
       "    </tr>\n",
       "    <tr>\n",
       "      <th>551220</th>\n",
       "      <td>N=C(N)c1ccc(CCC(NC(=O)OCc2ccccc2)P(=O)(Oc2cccc...</td>\n",
       "      <td>Q9Y5K2</td>\n",
       "    </tr>\n",
       "    <tr>\n",
       "      <th>551221</th>\n",
       "      <td>N=C(N)Nc1ccc(C(NC(=O)OCc2ccccc2)P(=O)(Oc2ccccc...</td>\n",
       "      <td>Q9Y5K2</td>\n",
       "    </tr>\n",
       "    <tr>\n",
       "      <th>551222</th>\n",
       "      <td>N=C(N)c1ccc(C(NC(=O)OCc2ccccc2)P(=O)(Oc2ccccc2...</td>\n",
       "      <td>Q9Y5K2</td>\n",
       "    </tr>\n",
       "  </tbody>\n",
       "</table>\n",
       "<p>551223 rows × 2 columns</p>\n",
       "</div>"
      ],
      "text/plain": [
       "                                              drug_smiles protein_id\n",
       "0       [CH2]C1CC(n2ccc3c(-c4cc5cc(OC)ccc5[nH]4)ncnc32...     A0AVT1\n",
       "1       [CH2]C1CC(n2ccc3c(-c4cc5ccc(C)cc5[nH]4)ncnc32)...     A0AVT1\n",
       "2       [CH2]C1CC(n2ccc3c(-c4cc5ccccc5[nH]4)nc(C)nc32)...     A0AVT1\n",
       "3       NS(=O)(=O)OCC1CC(n2ccc3c(-c4cc5ccccc5[nH]4)ncn...     A0AVT1\n",
       "4       [CH2]C1CC(n2ccc3c(-c4cc5ccc(Cl)cc5[nH]4)ncnc32...     A0AVT1\n",
       "...                                                   ...        ...\n",
       "551218  N=C(N)Nc1ccc(CC(NC(=O)OCc2ccccc2)P(=O)(Oc2cccc...     Q9Y5K2\n",
       "551219  N=C(N)NCCCC(NC(=O)OCc1ccccc1)P(=O)(Oc1ccccc1)O...     Q9Y5K2\n",
       "551220  N=C(N)c1ccc(CCC(NC(=O)OCc2ccccc2)P(=O)(Oc2cccc...     Q9Y5K2\n",
       "551221  N=C(N)Nc1ccc(C(NC(=O)OCc2ccccc2)P(=O)(Oc2ccccc...     Q9Y5K2\n",
       "551222  N=C(N)c1ccc(C(NC(=O)OCc2ccccc2)P(=O)(Oc2ccccc2...     Q9Y5K2\n",
       "\n",
       "[551223 rows x 2 columns]"
      ]
     },
     "execution_count": 14,
     "metadata": {},
     "output_type": "execute_result"
    }
   ],
   "source": [
    "df_all = pd.merge(df_drugsmiles,df_protein, left_index=True, right_index=True)\n",
    "df_all = df_all.rename(columns={'smiles_x': 'drug_smiles', 'smiles_y': 'protein_id'})\n",
    "\n",
    "df_all"
   ]
  },
  {
   "cell_type": "code",
   "execution_count": 31,
   "id": "3888b384",
   "metadata": {},
   "outputs": [],
   "source": [
    "def fetch_sequence(accession_ID):\n",
    "    rows = tcomp_api.filter(accession = accession_ID, organism='Homo sapiens').only(['organism','sequence'])  # accession is UniProt\n",
    "    \n",
    "    if len(rows) == 1:\n",
    "        rows = rows[0]\n",
    "    else: \n",
    "        print(\"SO THERE IS A CASE WHERE 1 ACCESSION is >1 protein sequence???\")\n",
    "        print(accession_ID)\n",
    "\n",
    "    # print(f'AMINO SEQUENCE of Accession {accession_ID}: ', rows['sequence'])\n",
    "\n",
    "    return rows"
   ]
  },
  {
   "cell_type": "code",
   "execution_count": 6,
   "id": "cc6e742b",
   "metadata": {},
   "outputs": [
    {
     "data": {
      "image/png": "[encoded data removed]",
      "text/plain": [
       "<IPython.core.display.Image object>"
      ]
     },
     "execution_count": 6,
     "metadata": {},
     "output_type": "execute_result"
    }
   ],
   "source": [
    "# Convert first few to molecules\n",
    "mols = [Chem.MolFromSmiles(s) for s in df_drugsmiles[\"smiles\"].head(10)]\n",
    "img = Draw.MolsToGridImage(mols, molsPerRow=5, subImgSize=(200,200))\n",
    "img\n",
    "# img.save(\"sample_mols.png\")"
   ]
  },
  {
   "cell_type": "markdown",
   "id": "427ba6ab",
   "metadata": {},
   "source": [
    "### Sample from their dataset"
   ]
  },
  {
   "cell_type": "code",
   "execution_count": 15,
   "id": "4ea8399f",
   "metadata": {},
   "outputs": [
    {
     "name": "stdout",
     "output_type": "stream",
     "text": [
      "Sampled pairs: 5512\n"
     ]
    }
   ],
   "source": [
    "sampled = df_all.sample(frac=0.01, random_state=42)  # \n",
    "print(f\"Sampled pairs: {len(sampled)}\")"
   ]
  },
  {
   "cell_type": "markdown",
   "id": "7bc324c1",
   "metadata": {},
   "source": [
    "### Get protein seq"
   ]
  },
  {
   "cell_type": "code",
   "execution_count": 24,
   "id": "5d73f9af",
   "metadata": {},
   "outputs": [
    {
     "data": {
      "text/plain": [
       "array(['P28845', 'P34972', 'P53350', 'P35372', 'P11511', 'P14416',\n",
       "       'P33032', 'O00311', 'P00338', 'Q06418', 'Q9HC29', 'Q9NS75',\n",
       "       'Q99705', 'P12931', 'Q9BY41', 'P29350', 'P10275', 'O96013',\n",
       "       'P04150', 'O00329', 'P07477', 'P30556', 'Q07343', 'Q9UBF8',\n",
       "       'P00734', 'P00746', 'P03956', 'P21397', 'P26572', 'Q96PD7',\n",
       "       'Q07820', 'P67870', 'P56524', 'P56373', 'Q9Y5Y4', 'P06493',\n",
       "       'P50281', 'Q969S8', 'P48048', 'Q99500', 'P25101', 'P48546',\n",
       "       'P10827', 'Q9HBW0', 'Q92847', 'P20309', 'P00749', 'P25024',\n",
       "       'Q15759', 'P41145', 'P09874', 'P05067', 'P08235', 'P18031',\n",
       "       'Q9UKV0', 'P0DMS8', 'Q96LD8', 'P32245', 'P15907', 'P56817',\n",
       "       'Q08499', 'P33981', 'P14555', 'P78536', 'P49768', 'P00918',\n",
       "       'Q13946', 'P05129', 'P00915', 'P11309', 'P11413', 'O15379',\n",
       "       'P41146', 'Q9UBL9', 'Q02127', 'P08913', 'P24941', 'P14867',\n",
       "       'P20292', 'Q9HBH9', 'P28223', 'P05556', 'P45984', 'P11166',\n",
       "       'Q99720', 'Q9UGN5', 'P25774', 'P51843', 'P17931', 'P22894',\n",
       "       'Q9NWZ3', 'Q5BJF2', 'Q02750', 'P42262', 'P43235', 'P15144',\n",
       "       'P33261', 'O14965', 'P29274', 'P35869', 'P32246', 'P23469',\n",
       "       'O43781', 'P21453', 'P11362', 'P21731', 'Q16539', 'O60563',\n",
       "       'P14174', 'Q16790', 'P08253', 'Q9Y233', 'P49798', 'Q9UGJ0',\n",
       "       'P50750', 'P27487', 'Q9P1W9', 'P24387', 'P22607', 'P16083',\n",
       "       'Q99572', 'Q07869', 'O60741', 'P15538', 'P10145', 'P41143',\n",
       "       'P07947', 'Q9NZ42', 'O76074', 'Q05655', 'P08138', 'P34913',\n",
       "       'Q5TC84', 'O95263', 'P17706', 'P35348', 'Q9Y5N1', 'P35790',\n",
       "       'P43490', 'P41597', 'P34949', 'P00797', 'P06870', 'P32745',\n",
       "       'P20839', 'P49146', 'Q96KB5', 'P21917', 'P55072', 'Q92769',\n",
       "       'P06401', 'P28336', 'O00141', 'P22303', 'O43174', 'Q16678',\n",
       "       'P08842', 'P68371', 'P55263', 'Q99558', 'P13945', 'Q92731',\n",
       "       'P55055', 'P07711', 'P49841', 'P30518', 'O14649', 'O43614',\n",
       "       'Q9H0H5', 'Q9ULX7', 'O43570', 'Q9NYA1', 'Q01959', 'Q8WUI4',\n",
       "       'P00742', 'O75956', 'Q9NPC2', 'P35354', 'P22460', 'P30542',\n",
       "       'P07550', 'P10721', 'P49137', 'P43119', 'Q9NR97', 'O14684',\n",
       "       'O14757', 'P29275', 'Q14416', 'P35368', 'P42336', 'Q13188',\n",
       "       'P53634', 'Q15761', 'Q96JM7', 'P09917', 'Q00987', 'P49840',\n",
       "       'P08514', 'P23219', 'Q05469', 'P34998', 'Q04771', 'P08172',\n",
       "       'Q9UNQ0', 'Q05209', 'O00459', 'P15056', 'P51955', 'Q10469',\n",
       "       'Q9NR96', 'Q13639', 'Q05397', 'Q15910', 'Q15078', 'P50053',\n",
       "       'P24557', 'P11474', 'P30291', 'Q8NER1', 'P37231', 'P24666',\n",
       "       'P08254', 'Q8N1Q1', 'P05771', 'P02753', 'Q9NUW8', 'P21918',\n",
       "       'P14902', 'P25103', 'O76083', 'P50579', 'P31639', 'Q96PF2',\n",
       "       'P48443', 'P31644', 'P08246', 'Q9HC16', 'P23443', 'Q99808',\n",
       "       'Q07001', 'P25440', 'P27338', 'P03952', 'P41279', 'P19838',\n",
       "       'P40763', 'P28482', 'P23975', 'P08588', 'Q06124', 'P16234',\n",
       "       'P14780', 'Q9P0U3', 'P49862', 'P61073', 'P07900', 'B2RXH2',\n",
       "       'P08311', 'P49760', 'Q96RI0', 'P04629', 'P22748', 'P25929',\n",
       "       'P00747', 'Q9Y6K1', 'Q12908', 'P48730', 'Q96IY4', 'P48169',\n",
       "       'P43220', 'Q9HB55', 'Q96DB2', 'P06756', 'Q6V1X1', 'P36888',\n",
       "       'P25105', 'P55211', 'Q9Y5X9', 'P07948', 'P80365', 'P42892',\n",
       "       'Q8TDV5', 'P17252', 'P11387', 'P35462', 'P50613', 'O15151',\n",
       "       'O00408', 'O96017', 'O94925', 'Q96GD4', 'P04637', 'Q08881',\n",
       "       'Q9UNH5', 'O43613', 'P27815', 'O94806', 'Q13237', 'O14672',\n",
       "       'P06730', 'P37288', 'O14786', 'P09871', 'P07437', 'P15428',\n",
       "       'Q14680', 'P24468', 'O15305', 'P48067', 'P29371', 'Q8N5S9',\n",
       "       'P49810', 'Q9UGP5', 'P43115', 'P28335', 'P27986', 'P49759',\n",
       "       'P35367', 'P13866', 'P30874', 'P48449', 'Q15119', 'P30989',\n",
       "       'Q9NRR2', 'P07339', 'P32238', 'Q14289', 'P49674', 'P68400',\n",
       "       'P14635', 'P53582', 'P21554', 'P51449', 'P17516', 'P18825',\n",
       "       'O00519', 'O95470', 'P45983', 'P22736', 'P21728', 'P50406',\n",
       "       'Q86V86', 'Q13258', 'Q15056', 'P30304', 'P18405', 'Q86TI2',\n",
       "       'P08908', 'P12268', 'P53779', 'Q05586', 'Q13547', 'P31645',\n",
       "       'Q9NSD5', 'P10696', 'P25025', 'Q07912', 'P11597', 'P61088',\n",
       "       'P51452', 'Q13285', 'O60341', 'Q00535', 'Q13133', 'P16050',\n",
       "       'P48775', 'P10636', 'Q13976', 'P10398', 'P25106', 'P42685',\n",
       "       'O75907', 'P43403', 'P51582', 'P51677', 'Q9H0K1', 'P22694',\n",
       "       'O75676', 'O43193', 'Q9UHL4', 'P10635', 'Q14790', 'P51681',\n",
       "       'P51812', 'P02766', 'P18858', 'P47898', 'Q08493', 'P53778',\n",
       "       'P49286', 'P11926', 'P06276', 'P06746', 'P46098', 'Q9BZL6',\n",
       "       'Q99538', 'P03372', 'Q12851', 'P28222', 'O95136', 'Q9H3N8',\n",
       "       'P40238', 'P78368', 'P43681', 'O43194', 'P35610', 'P29317',\n",
       "       'P62937', 'Q9UNA0', 'P22455', 'P22612', 'P17787', 'Q9NPH5',\n",
       "       'P54750', 'P21462', 'Q16584', 'P23946', 'P41595', 'O15264',\n",
       "       'O14920', 'O00142', 'P01275', 'P15735', 'P45452', 'P46095',\n",
       "       'O00482', 'O00748', 'P25116', 'P43405', 'O15244', 'Q13627',\n",
       "       'P05177', 'P15085', 'Q92630', 'Q9HBA0', 'Q13554', 'P31751',\n",
       "       'Q01469', 'O43318', 'Q9NTG7', 'P35408', 'P08631', 'P05362',\n",
       "       'O75164', 'P28221', 'P52292', 'Q8IVW4', 'Q13822', 'P03951',\n",
       "       'P08173', 'P05164', 'P0DMS9', 'Q16769', 'P17655', 'P24723',\n",
       "       'Q04759', 'P24864', 'P19099', 'Q8NE63', 'P08912', 'P98073',\n",
       "       'P29376', 'P09467', 'P60568', 'P43166', 'P11940', 'O00400',\n",
       "       'Q14833', 'O95822', 'Q13131', 'P52732', 'Q6L5J4', 'Q13557',\n",
       "       'Q14654', 'P36544', 'P10826', 'P00750', 'Q02083', 'Q9NRG4',\n",
       "       'P30281', 'O95977', 'P42574', 'Q02156', 'Q5XXA6', 'P27448',\n",
       "       'P14222', 'P36897', 'Q14012', 'P53985', 'P63165', 'Q03181',\n",
       "       'Q9BXA7', 'P20248', 'O15530', 'O94782', 'Q9Y2T6', 'P00491',\n",
       "       'O75874', 'Q13509', 'Q9Y271', 'P07099', 'P19367', 'Q16572',\n",
       "       'Q04609', 'P07858', 'Q16445', 'O75173', 'P49336', 'Q01064',\n",
       "       'P04049', 'P14091', 'P04818', 'P30559', 'P35414', 'Q96S37',\n",
       "       'P50416', 'P42338', 'P21802', 'P21452', 'P06239', 'Q09013',\n",
       "       'Q9Y5S8', 'Q8TCW9', 'O15111', 'P49682', 'P07478', 'P23526',\n",
       "       'P34969', 'Q04206', 'P32297', 'P28472', 'P37058', 'P30968',\n",
       "       'P54646', 'Q2TB90', 'P00740', 'Q9BQF6', 'Q9NQS5', 'Q9Y5X4',\n",
       "       'Q15722', 'P47871', 'Q14164', 'Q96Q40', 'P48147', 'P35030',\n",
       "       'P25090', 'Q9P0G3', 'P07384', 'P55210', 'Q9Y4K0', 'P39748',\n",
       "       'P41180', 'P39900', 'P14735', 'Q9Y239', 'Q9HC97', 'P17861',\n",
       "       'Q9UHD2', 'P43250', 'O75460', 'P35398', 'P26010', 'Q6P1M0',\n",
       "       'Q15109', 'P10276', 'P47900', 'O43293', 'Q59H18', 'P51451',\n",
       "       'P37268', 'Q13002', 'P14324', 'Q969V1', 'P07333', 'Q8NHU3',\n",
       "       'P31391', 'P18089', 'Q08188', 'Q9Y5Z0', 'Q9HCP0', 'Q13418',\n",
       "       'P13612', 'P47869', 'P31749', 'P43116', 'Q15717', 'P00492',\n",
       "       'P25100', 'P47712', 'Q9GZU7', 'Q92830', 'Q15139', 'P05023',\n",
       "       'P30419', 'Q9Y4K4', 'P01375', 'Q9GZT9', 'P35218', 'P09960',\n",
       "       'O00444', 'Q92523', 'Q06187', 'Q8TDC3', 'Q9HAZ1', 'Q7L7X3',\n",
       "       'P35236', 'Q8NET8', 'P27361', 'Q86VL8', 'P04406', 'P30530',\n",
       "       'P22309', 'P08709', 'Q9UIQ6', 'P05231', 'O95665', 'P51160',\n",
       "       'P11229', 'Q8TDU6', 'P19801', 'P11802', 'P54760', 'Q2M2I8',\n",
       "       'P13497', 'P16389', 'O14842', 'Q9GZV3', 'O60755', 'Q00613',\n",
       "       'Q16620', 'P04066', 'P32239', 'Q16513', 'P98170', 'O75469',\n",
       "       'Q9HBY8', 'P41235', 'P29353', 'P15121', 'P00374', 'Q16236',\n",
       "       'P48039', 'Q9NZ45', 'P37840', 'Q12852', 'P63096', 'P04054',\n",
       "       'Q07817', 'Q8TCC7', 'P50336', 'O43868', 'O15197', 'Q92560',\n",
       "       'P37059', 'P41968', 'O43521', 'P19634', 'P47901', 'Q9NYK1',\n",
       "       'O60502', 'P63279', 'P16591', 'P19784', 'Q15059', 'Q9H3R0',\n",
       "       'P43003', 'P04062', 'Q9H244', 'Q9UKP6', 'Q96L34', 'P05186',\n",
       "       'P00390', 'P62508', 'Q13887', 'P50052', 'Q99685', 'P42785',\n",
       "       'P23141', 'Q05513', 'Q13393', 'P29466', 'Q96SB4', 'P31213',\n",
       "       'P12644', 'P31941', 'O14744', 'Q8IXJ6', 'P42226', 'P24593',\n",
       "       'P51679', 'Q9Y6L6', 'O15427', 'P28329', 'Q13490', 'P20813',\n",
       "       'Q9UQM7', 'P30536', 'P49720', 'P16581', 'P08238', 'P09211',\n",
       "       'P35557', 'P09237', 'P27707', 'Q9NRA0', 'P06241', 'Q9NYW2',\n",
       "       'P11150', 'Q6P988', 'P05181', 'Q96RI1', 'Q92918', 'Q00796',\n",
       "       'Q13873', 'Q16665', 'Q9UBU3', 'P54764', 'Q96LA8', 'O60911',\n",
       "       'P30305', 'Q9UPZ9', 'Q9NYY3', 'P48729', 'P41743', 'Q12884',\n",
       "       'P29322', 'P49721', 'Q9H4B4', 'P10828', 'P49763', 'Q14123',\n",
       "       'P37088', 'P49238', 'P11168', 'O60658', 'Q13093', 'Q9UEE5',\n",
       "       'P78352', 'Q9Y6K0', 'Q08345', 'Q12931', 'Q7KZI7', 'P15692',\n",
       "       'O95696', 'Q9H7B4', 'P49356', 'Q9H237', 'Q96RJ0', 'O00206',\n",
       "       'Q12866', 'P32247', 'P30307', 'Q16877', 'Q96P20', 'Q8TF76',\n",
       "       'O00487', 'P10415', 'Q99873', 'Q9H4B7', 'O43924', 'Q99527',\n",
       "       'P18054', 'Q9Y4P1', 'Q8NEB9', 'O94768', 'P55212', 'Q9Y2D0',\n",
       "       'P02768', 'Q02779', 'Q06609', 'Q9HCG7', 'P17538', 'P35346',\n",
       "       'P37023', 'O43741', 'Q8TDS4', 'Q92934', 'P42224', 'P27695',\n",
       "       'P19438', 'O43353', 'P30939', 'P34903', 'Q15661', 'P56704',\n",
       "       'P08236', 'Q16288', 'Q13546', 'Q9H228', 'Q9NYL2', 'Q9C0B1',\n",
       "       'Q9H773', 'O60235', 'P15559', 'Q16832', 'O00222', 'Q9NP59',\n",
       "       'Q9UK32', 'Q99759', 'Q9UHC3', 'P0DMV8', 'Q8N752', 'Q13153',\n",
       "       'P53667', 'P05089', 'Q9P289', 'Q99489', 'Q9Y6K9', 'O43283',\n",
       "       'P17612', 'P28074', 'P0C1S8', 'O00574', 'P25021', 'Q9Y478',\n",
       "       'Q92800', 'Q9Y5Y6', 'P22079', 'Q9HCR9', 'Q9UDY8', 'P60953',\n",
       "       'Q9NZK7', 'P04035', 'Q99814', 'P11509', 'Q15750', 'Q13555',\n",
       "       'P53609', 'P30550', 'P34995', 'P18433', 'Q92633', 'Q9Y463',\n",
       "       'P63000', 'Q9UQB9', 'P17752', 'O15075', 'Q13882', 'P14920',\n",
       "       'P09769', 'Q6PIU2', 'P04233', 'Q16873', 'P41240', 'Q5NUL3',\n",
       "       'P33316', 'P22392', 'P43378', 'P00748', 'O75914', 'Q99895',\n",
       "       'Q9Y6M4', 'P17936', 'P06737', 'Q13477', 'Q8N5Z0', 'P24530',\n",
       "       'P00751', 'Q99755', 'P01042', 'Q11128', 'P29320', 'P08473',\n",
       "       'O94956', 'P51617', 'P39877', 'P51589', 'P09668', 'P51817',\n",
       "       'P25098', 'P19793', 'Q00534', 'P09923', 'Q01433', 'Q8IU80',\n",
       "       'Q9H999', 'O75475', 'Q9Y2R2', 'P30411', 'Q9UF33', 'Q16602',\n",
       "       'P00736', 'Q9Y243', 'Q14832', 'O95551', 'P00813', 'O43184',\n",
       "       'P49795', 'Q13126', 'Q9BUB5', 'Q07973', 'P10323', 'P48058',\n",
       "       'Q8TDD5', 'Q9H1R3', 'O00767', 'O60285', 'P23945', 'Q9Y468',\n",
       "       'O95050', 'O60240', 'P30531', 'P05093', 'O75716', 'O00418',\n",
       "       'O14939', 'P21980', 'P46663', 'O75530', 'P23025', 'Q00526',\n",
       "       'P48145', 'P16499', 'Q04760', 'P61019', 'P54829', 'P05413',\n",
       "       'Q13510', 'Q9UQ88', 'Q14994', 'Q9Y5X5', 'O75936', 'Q15118',\n",
       "       'Q8IW41', 'P43005', 'O94953', 'Q01726', 'Q9BPW0', 'P36896',\n",
       "       'Q13164', 'P56192', 'P62942', 'P41231', 'P22001', 'O00255',\n",
       "       'P31939', 'P50747', 'P14679', 'P11217', 'Q9UK17', 'P23415',\n",
       "       'P14618', 'P17658', 'P11473', 'P00558', 'Q02790', 'Q8IY84',\n",
       "       'Q16875', 'P22314'], dtype=object)"
      ]
     },
     "execution_count": 24,
     "metadata": {},
     "output_type": "execute_result"
    }
   ],
   "source": [
    "# Deduplicate to avoid repeated API calls\n",
    "unique_proteins = sampled['protein_id'].unique()\n",
    "unique_proteins"
   ]
  },
  {
   "cell_type": "code",
   "execution_count": 29,
   "id": "e192abfa",
   "metadata": {},
   "outputs": [
    {
     "name": "stderr",
     "output_type": "stream",
     "text": [
      "Fetching sequences:  50%|████▉     | 473/950 [09:29<10:02,  1.26s/it]"
     ]
    },
    {
     "name": "stdout",
     "output_type": "stream",
     "text": [
      "SO THERE IS A CASE WHERE 1 ACCESSION is >1 protein sequence???\n"
     ]
    },
    {
     "name": "stderr",
     "output_type": "stream",
     "text": [
      "Fetching sequences: 100%|██████████| 950/950 [19:20<00:00,  1.22s/it]\n"
     ]
    }
   ],
   "source": [
    "protein_seqs = {}\n",
    "for pid in tqdm(unique_proteins, desc=\"Fetching sequences\"):\n",
    "    seq = fetch_sequence(pid)\n",
    "    protein_seqs[pid] = seq\n",
    "\n",
    "# Append sequences back to the DataFrame\n",
    "sampled['sequence'] = sampled['protein_id'].map(protein_seqs)"
   ]
  },
  {
   "cell_type": "code",
   "execution_count": 32,
   "id": "8816cc79",
   "metadata": {},
   "outputs": [
    {
     "data": {
      "text/html": [
       "<div>\n",
       "<style scoped>\n",
       "    .dataframe tbody tr th:only-of-type {\n",
       "        vertical-align: middle;\n",
       "    }\n",
       "\n",
       "    .dataframe tbody tr th {\n",
       "        vertical-align: top;\n",
       "    }\n",
       "\n",
       "    .dataframe thead th {\n",
       "        text-align: right;\n",
       "    }\n",
       "</style>\n",
       "<table border=\"1\" class=\"dataframe\">\n",
       "  <thead>\n",
       "    <tr style=\"text-align: right;\">\n",
       "      <th></th>\n",
       "      <th>drug_smiles</th>\n",
       "      <th>protein_id</th>\n",
       "      <th>sequence</th>\n",
       "    </tr>\n",
       "  </thead>\n",
       "  <tbody>\n",
       "    <tr>\n",
       "      <th>242237</th>\n",
       "      <td>CN(C(C)(C)C(=O)NC1C2CC3CC1CC(C(N)=O)(C3)C2)S(=...</td>\n",
       "      <td>P28845</td>\n",
       "      <td>{'organism': 'Homo sapiens', 'sequence': 'MAFM...</td>\n",
       "    </tr>\n",
       "    <tr>\n",
       "      <th>275805</th>\n",
       "      <td>O=C(c1ccncn1)N1CCC(O)(c2ccccc2)C2CCCCC21</td>\n",
       "      <td>P34972</td>\n",
       "      <td>{'organism': 'Homo sapiens', 'sequence': 'MEEC...</td>\n",
       "    </tr>\n",
       "    <tr>\n",
       "      <th>378646</th>\n",
       "      <td>CCC1(F)CN(C2CCCC2)c2nc(Nc3ccc(C(=O)NC4CCN(C)CC...</td>\n",
       "      <td>P53350</td>\n",
       "      <td>{'organism': 'Homo sapiens', 'sequence': 'MSAA...</td>\n",
       "    </tr>\n",
       "    <tr>\n",
       "      <th>291446</th>\n",
       "      <td>O=C1N(CCCN2CCCC2)CN(c2ccccc2)C12CCN(C(c1ccccc1...</td>\n",
       "      <td>P35372</td>\n",
       "      <td>{'organism': 'Homo sapiens', 'sequence': 'MDSS...</td>\n",
       "    </tr>\n",
       "    <tr>\n",
       "      <th>140824</th>\n",
       "      <td>N#Cc1ccc(Cn2ccnc2)c2ccccc12</td>\n",
       "      <td>P11511</td>\n",
       "      <td>{'organism': 'Homo sapiens', 'sequence': 'MVLE...</td>\n",
       "    </tr>\n",
       "    <tr>\n",
       "      <th>...</th>\n",
       "      <td>...</td>\n",
       "      <td>...</td>\n",
       "      <td>...</td>\n",
       "    </tr>\n",
       "    <tr>\n",
       "      <th>353962</th>\n",
       "      <td>CS(=O)(=O)Nc1ccc(OC(=O)N2CCC(C(O)(c3ccccc3)c3c...</td>\n",
       "      <td>P49146</td>\n",
       "      <td>{'organism': 'Homo sapiens', 'sequence': 'MGPI...</td>\n",
       "    </tr>\n",
       "    <tr>\n",
       "      <th>282217</th>\n",
       "      <td>O=C(Nc1ccc(I)cc1)C(=O)Nc1ccc(NC(=O)C(c2ccccc2)...</td>\n",
       "      <td>P35236</td>\n",
       "      <td>{'organism': 'Homo sapiens', 'sequence': 'MVQA...</td>\n",
       "    </tr>\n",
       "    <tr>\n",
       "      <th>464372</th>\n",
       "      <td>NS(=O)(=O)c1cccc(-n2c(S)nc3ccc(I)cc3c2=O)c1</td>\n",
       "      <td>Q16790</td>\n",
       "      <td>{'organism': 'Homo sapiens', 'sequence': 'MAPL...</td>\n",
       "    </tr>\n",
       "    <tr>\n",
       "      <th>216729</th>\n",
       "      <td>CC(Nc1ccc(Cl)cc1)C(=O)Nc1nc2ccc3[nH]ncc3c2s1</td>\n",
       "      <td>P25098</td>\n",
       "      <td>{'organism': 'Homo sapiens', 'sequence': 'MADL...</td>\n",
       "    </tr>\n",
       "    <tr>\n",
       "      <th>190284</th>\n",
       "      <td>O=C(Nc1cc(Cl)cc(Cl)c1)Nc1cccc(-c2cccc(N3CCCC3)...</td>\n",
       "      <td>P21554</td>\n",
       "      <td>{'organism': 'Homo sapiens', 'sequence': 'MKSI...</td>\n",
       "    </tr>\n",
       "  </tbody>\n",
       "</table>\n",
       "<p>5512 rows × 3 columns</p>\n",
       "</div>"
      ],
      "text/plain": [
       "                                              drug_smiles protein_id  \\\n",
       "242237  CN(C(C)(C)C(=O)NC1C2CC3CC1CC(C(N)=O)(C3)C2)S(=...     P28845   \n",
       "275805           O=C(c1ccncn1)N1CCC(O)(c2ccccc2)C2CCCCC21     P34972   \n",
       "378646  CCC1(F)CN(C2CCCC2)c2nc(Nc3ccc(C(=O)NC4CCN(C)CC...     P53350   \n",
       "291446  O=C1N(CCCN2CCCC2)CN(c2ccccc2)C12CCN(C(c1ccccc1...     P35372   \n",
       "140824                        N#Cc1ccc(Cn2ccnc2)c2ccccc12     P11511   \n",
       "...                                                   ...        ...   \n",
       "353962  CS(=O)(=O)Nc1ccc(OC(=O)N2CCC(C(O)(c3ccccc3)c3c...     P49146   \n",
       "282217  O=C(Nc1ccc(I)cc1)C(=O)Nc1ccc(NC(=O)C(c2ccccc2)...     P35236   \n",
       "464372        NS(=O)(=O)c1cccc(-n2c(S)nc3ccc(I)cc3c2=O)c1     Q16790   \n",
       "216729       CC(Nc1ccc(Cl)cc1)C(=O)Nc1nc2ccc3[nH]ncc3c2s1     P25098   \n",
       "190284  O=C(Nc1cc(Cl)cc(Cl)c1)Nc1cccc(-c2cccc(N3CCCC3)...     P21554   \n",
       "\n",
       "                                                 sequence  \n",
       "242237  {'organism': 'Homo sapiens', 'sequence': 'MAFM...  \n",
       "275805  {'organism': 'Homo sapiens', 'sequence': 'MEEC...  \n",
       "378646  {'organism': 'Homo sapiens', 'sequence': 'MSAA...  \n",
       "291446  {'organism': 'Homo sapiens', 'sequence': 'MDSS...  \n",
       "140824  {'organism': 'Homo sapiens', 'sequence': 'MVLE...  \n",
       "...                                                   ...  \n",
       "353962  {'organism': 'Homo sapiens', 'sequence': 'MGPI...  \n",
       "282217  {'organism': 'Homo sapiens', 'sequence': 'MVQA...  \n",
       "464372  {'organism': 'Homo sapiens', 'sequence': 'MAPL...  \n",
       "216729  {'organism': 'Homo sapiens', 'sequence': 'MADL...  \n",
       "190284  {'organism': 'Homo sapiens', 'sequence': 'MKSI...  \n",
       "\n",
       "[5512 rows x 3 columns]"
      ]
     },
     "execution_count": 32,
     "metadata": {},
     "output_type": "execute_result"
    }
   ],
   "source": [
    "sampled"
   ]
  },
  {
   "cell_type": "code",
   "execution_count": null,
   "id": "d043faba",
   "metadata": {},
   "outputs": [
    {
     "data": {
      "text/html": [
       "<div>\n",
       "<style scoped>\n",
       "    .dataframe tbody tr th:only-of-type {\n",
       "        vertical-align: middle;\n",
       "    }\n",
       "\n",
       "    .dataframe tbody tr th {\n",
       "        vertical-align: top;\n",
       "    }\n",
       "\n",
       "    .dataframe thead th {\n",
       "        text-align: right;\n",
       "    }\n",
       "</style>\n",
       "<table border=\"1\" class=\"dataframe\">\n",
       "  <thead>\n",
       "    <tr style=\"text-align: right;\">\n",
       "      <th></th>\n",
       "      <th>drug_smiles</th>\n",
       "      <th>protein_id</th>\n",
       "      <th>sequence</th>\n",
       "      <th>sequence_str</th>\n",
       "    </tr>\n",
       "  </thead>\n",
       "  <tbody>\n",
       "    <tr>\n",
       "      <th>242237</th>\n",
       "      <td>CN(C(C)(C)C(=O)NC1C2CC3CC1CC(C(N)=O)(C3)C2)S(=...</td>\n",
       "      <td>P28845</td>\n",
       "      <td>{'organism': 'Homo sapiens', 'sequence': 'MAFM...</td>\n",
       "      <td>MAFMKKYLLPILGLFMAYYYYSANEEFRPEMLQGKKVIVTGASKGI...</td>\n",
       "    </tr>\n",
       "    <tr>\n",
       "      <th>275805</th>\n",
       "      <td>O=C(c1ccncn1)N1CCC(O)(c2ccccc2)C2CCCCC21</td>\n",
       "      <td>P34972</td>\n",
       "      <td>{'organism': 'Homo sapiens', 'sequence': 'MEEC...</td>\n",
       "      <td>MEECWVTEIANGSKDGLDSNPMKDYMILSGPQKTAVAVLCTLLGLL...</td>\n",
       "    </tr>\n",
       "    <tr>\n",
       "      <th>378646</th>\n",
       "      <td>CCC1(F)CN(C2CCCC2)c2nc(Nc3ccc(C(=O)NC4CCN(C)CC...</td>\n",
       "      <td>P53350</td>\n",
       "      <td>{'organism': 'Homo sapiens', 'sequence': 'MSAA...</td>\n",
       "      <td>MSAAVTAGKLARAPADPGKAGVPGVAAPGAPAAAPPAKEIPEVLVD...</td>\n",
       "    </tr>\n",
       "    <tr>\n",
       "      <th>291446</th>\n",
       "      <td>O=C1N(CCCN2CCCC2)CN(c2ccccc2)C12CCN(C(c1ccccc1...</td>\n",
       "      <td>P35372</td>\n",
       "      <td>{'organism': 'Homo sapiens', 'sequence': 'MDSS...</td>\n",
       "      <td>MDSSAAPTNASNCTDALAYSSCSPAPSPGSWVNLSHLDGNLSDPCG...</td>\n",
       "    </tr>\n",
       "    <tr>\n",
       "      <th>140824</th>\n",
       "      <td>N#Cc1ccc(Cn2ccnc2)c2ccccc12</td>\n",
       "      <td>P11511</td>\n",
       "      <td>{'organism': 'Homo sapiens', 'sequence': 'MVLE...</td>\n",
       "      <td>MVLEMLNPIHYNITSIVPEAMPAATMPVLLLTGLFLLVWNYEGTSS...</td>\n",
       "    </tr>\n",
       "    <tr>\n",
       "      <th>...</th>\n",
       "      <td>...</td>\n",
       "      <td>...</td>\n",
       "      <td>...</td>\n",
       "      <td>...</td>\n",
       "    </tr>\n",
       "    <tr>\n",
       "      <th>353962</th>\n",
       "      <td>CS(=O)(=O)Nc1ccc(OC(=O)N2CCC(C(O)(c3ccccc3)c3c...</td>\n",
       "      <td>P49146</td>\n",
       "      <td>{'organism': 'Homo sapiens', 'sequence': 'MGPI...</td>\n",
       "      <td>MGPIGAEADENQTVEEMKVEQYGPQTTPRGELVPDPEPELIDSTKL...</td>\n",
       "    </tr>\n",
       "    <tr>\n",
       "      <th>282217</th>\n",
       "      <td>O=C(Nc1ccc(I)cc1)C(=O)Nc1ccc(NC(=O)C(c2ccccc2)...</td>\n",
       "      <td>P35236</td>\n",
       "      <td>{'organism': 'Homo sapiens', 'sequence': 'MVQA...</td>\n",
       "      <td>MVQAHGGRSRAQPLTLSLGAAMTQPPPEKTPAKKHVRLQERRGSNV...</td>\n",
       "    </tr>\n",
       "    <tr>\n",
       "      <th>464372</th>\n",
       "      <td>NS(=O)(=O)c1cccc(-n2c(S)nc3ccc(I)cc3c2=O)c1</td>\n",
       "      <td>Q16790</td>\n",
       "      <td>{'organism': 'Homo sapiens', 'sequence': 'MAPL...</td>\n",
       "      <td>MAPLCPSPWLPLLIPAPAPGLTVQLLLSLLLLVPVHPQRLPRMQED...</td>\n",
       "    </tr>\n",
       "    <tr>\n",
       "      <th>216729</th>\n",
       "      <td>CC(Nc1ccc(Cl)cc1)C(=O)Nc1nc2ccc3[nH]ncc3c2s1</td>\n",
       "      <td>P25098</td>\n",
       "      <td>{'organism': 'Homo sapiens', 'sequence': 'MADL...</td>\n",
       "      <td>MADLEAVLADVSYLMAMEKSKATPAARASKKILLPEPSIRSVMQKY...</td>\n",
       "    </tr>\n",
       "    <tr>\n",
       "      <th>190284</th>\n",
       "      <td>O=C(Nc1cc(Cl)cc(Cl)c1)Nc1cccc(-c2cccc(N3CCCC3)...</td>\n",
       "      <td>P21554</td>\n",
       "      <td>{'organism': 'Homo sapiens', 'sequence': 'MKSI...</td>\n",
       "      <td>MKSILDGLADTTFRTITTDLLYVGSNDIQYEDIKGDMASKLGYFPQ...</td>\n",
       "    </tr>\n",
       "  </tbody>\n",
       "</table>\n",
       "<p>5512 rows × 4 columns</p>\n",
       "</div>"
      ],
      "text/plain": [
       "                                              drug_smiles protein_id  \\\n",
       "242237  CN(C(C)(C)C(=O)NC1C2CC3CC1CC(C(N)=O)(C3)C2)S(=...     P28845   \n",
       "275805           O=C(c1ccncn1)N1CCC(O)(c2ccccc2)C2CCCCC21     P34972   \n",
       "378646  CCC1(F)CN(C2CCCC2)c2nc(Nc3ccc(C(=O)NC4CCN(C)CC...     P53350   \n",
       "291446  O=C1N(CCCN2CCCC2)CN(c2ccccc2)C12CCN(C(c1ccccc1...     P35372   \n",
       "140824                        N#Cc1ccc(Cn2ccnc2)c2ccccc12     P11511   \n",
       "...                                                   ...        ...   \n",
       "353962  CS(=O)(=O)Nc1ccc(OC(=O)N2CCC(C(O)(c3ccccc3)c3c...     P49146   \n",
       "282217  O=C(Nc1ccc(I)cc1)C(=O)Nc1ccc(NC(=O)C(c2ccccc2)...     P35236   \n",
       "464372        NS(=O)(=O)c1cccc(-n2c(S)nc3ccc(I)cc3c2=O)c1     Q16790   \n",
       "216729       CC(Nc1ccc(Cl)cc1)C(=O)Nc1nc2ccc3[nH]ncc3c2s1     P25098   \n",
       "190284  O=C(Nc1cc(Cl)cc(Cl)c1)Nc1cccc(-c2cccc(N3CCCC3)...     P21554   \n",
       "\n",
       "                                                 sequence  \\\n",
       "242237  {'organism': 'Homo sapiens', 'sequence': 'MAFM...   \n",
       "275805  {'organism': 'Homo sapiens', 'sequence': 'MEEC...   \n",
       "378646  {'organism': 'Homo sapiens', 'sequence': 'MSAA...   \n",
       "291446  {'organism': 'Homo sapiens', 'sequence': 'MDSS...   \n",
       "140824  {'organism': 'Homo sapiens', 'sequence': 'MVLE...   \n",
       "...                                                   ...   \n",
       "353962  {'organism': 'Homo sapiens', 'sequence': 'MGPI...   \n",
       "282217  {'organism': 'Homo sapiens', 'sequence': 'MVQA...   \n",
       "464372  {'organism': 'Homo sapiens', 'sequence': 'MAPL...   \n",
       "216729  {'organism': 'Homo sapiens', 'sequence': 'MADL...   \n",
       "190284  {'organism': 'Homo sapiens', 'sequence': 'MKSI...   \n",
       "\n",
       "                                             sequence_str  \n",
       "242237  MAFMKKYLLPILGLFMAYYYYSANEEFRPEMLQGKKVIVTGASKGI...  \n",
       "275805  MEECWVTEIANGSKDGLDSNPMKDYMILSGPQKTAVAVLCTLLGLL...  \n",
       "378646  MSAAVTAGKLARAPADPGKAGVPGVAAPGAPAAAPPAKEIPEVLVD...  \n",
       "291446  MDSSAAPTNASNCTDALAYSSCSPAPSPGSWVNLSHLDGNLSDPCG...  \n",
       "140824  MVLEMLNPIHYNITSIVPEAMPAATMPVLLLTGLFLLVWNYEGTSS...  \n",
       "...                                                   ...  \n",
       "353962  MGPIGAEADENQTVEEMKVEQYGPQTTPRGELVPDPEPELIDSTKL...  \n",
       "282217  MVQAHGGRSRAQPLTLSLGAAMTQPPPEKTPAKKHVRLQERRGSNV...  \n",
       "464372  MAPLCPSPWLPLLIPAPAPGLTVQLLLSLLLLVPVHPQRLPRMQED...  \n",
       "216729  MADLEAVLADVSYLMAMEKSKATPAARASKKILLPEPSIRSVMQKY...  \n",
       "190284  MKSILDGLADTTFRTITTDLLYVGSNDIQYEDIKGDMASKLGYFPQ...  \n",
       "\n",
       "[5512 rows x 4 columns]"
      ]
     },
     "execution_count": 43,
     "metadata": {},
     "output_type": "execute_result"
    }
   ],
   "source": [
    "sampled['sequence_str'] = sampled['sequence'].apply(lambda x: x.get('sequence') if isinstance(x, dict) else None)\n",
    "sampled\n"
   ]
  },
  {
   "cell_type": "code",
   "execution_count": 45,
   "id": "cdc7ab9c",
   "metadata": {},
   "outputs": [
    {
     "data": {
      "text/plain": [
       "drug_smiles     0\n",
       "protein_id      0\n",
       "sequence        0\n",
       "sequence_str    0\n",
       "dtype: int64"
      ]
     },
     "execution_count": 45,
     "metadata": {},
     "output_type": "execute_result"
    }
   ],
   "source": [
    "sampled.isna().sum()"
   ]
  },
  {
   "cell_type": "code",
   "execution_count": 49,
   "id": "217a6b58",
   "metadata": {},
   "outputs": [
    {
     "data": {
      "text/html": [
       "<div>\n",
       "<style scoped>\n",
       "    .dataframe tbody tr th:only-of-type {\n",
       "        vertical-align: middle;\n",
       "    }\n",
       "\n",
       "    .dataframe tbody tr th {\n",
       "        vertical-align: top;\n",
       "    }\n",
       "\n",
       "    .dataframe thead th {\n",
       "        text-align: right;\n",
       "    }\n",
       "</style>\n",
       "<table border=\"1\" class=\"dataframe\">\n",
       "  <thead>\n",
       "    <tr style=\"text-align: right;\">\n",
       "      <th></th>\n",
       "      <th>drug_smiles</th>\n",
       "      <th>protein_id</th>\n",
       "      <th>sequence</th>\n",
       "      <th>sequence_str</th>\n",
       "    </tr>\n",
       "  </thead>\n",
       "  <tbody>\n",
       "    <tr>\n",
       "      <th>count</th>\n",
       "      <td>5508</td>\n",
       "      <td>5508</td>\n",
       "      <td>5508</td>\n",
       "      <td>5508</td>\n",
       "    </tr>\n",
       "    <tr>\n",
       "      <th>unique</th>\n",
       "      <td>5422</td>\n",
       "      <td>949</td>\n",
       "      <td>949</td>\n",
       "      <td>949</td>\n",
       "    </tr>\n",
       "    <tr>\n",
       "      <th>top</th>\n",
       "      <td>CNC1CC2OC(C)(C1OC)n1c3ccccc3c3c4c(c5c6ccccc6n2...</td>\n",
       "      <td>P00742</td>\n",
       "      <td>{'organism': 'Homo sapiens', 'sequence': 'MGRP...</td>\n",
       "      <td>MGRPLHLVLLSASLAGLLLLGESLFIRREQANNILARVTRANSFLE...</td>\n",
       "    </tr>\n",
       "    <tr>\n",
       "      <th>freq</th>\n",
       "      <td>7</td>\n",
       "      <td>50</td>\n",
       "      <td>50</td>\n",
       "      <td>50</td>\n",
       "    </tr>\n",
       "  </tbody>\n",
       "</table>\n",
       "</div>"
      ],
      "text/plain": [
       "                                              drug_smiles protein_id  \\\n",
       "count                                                5508       5508   \n",
       "unique                                               5422        949   \n",
       "top     CNC1CC2OC(C)(C1OC)n1c3ccccc3c3c4c(c5c6ccccc6n2...     P00742   \n",
       "freq                                                    7         50   \n",
       "\n",
       "                                                 sequence  \\\n",
       "count                                                5508   \n",
       "unique                                                949   \n",
       "top     {'organism': 'Homo sapiens', 'sequence': 'MGRP...   \n",
       "freq                                                   50   \n",
       "\n",
       "                                             sequence_str  \n",
       "count                                                5508  \n",
       "unique                                                949  \n",
       "top     MGRPLHLVLLSASLAGLLLLGESLFIRREQANNILARVTRANSFLE...  \n",
       "freq                                                   50  "
      ]
     },
     "execution_count": 49,
     "metadata": {},
     "output_type": "execute_result"
    }
   ],
   "source": [
    "sampled.describe()"
   ]
  },
  {
   "cell_type": "markdown",
   "id": "d99b407e",
   "metadata": {},
   "source": [
    "### Save sampled drug-sequence pair"
   ]
  },
  {
   "cell_type": "code",
   "execution_count": 50,
   "id": "4e2104e8",
   "metadata": {},
   "outputs": [],
   "source": [
    "sampled.to_csv('sampled_pairs_with_sequence_310825.csv', index=False)\n"
   ]
  },
  {
   "cell_type": "markdown",
   "id": "d1ce2df2",
   "metadata": {},
   "source": [
    "### Load sampled drug-sequence pair"
   ]
  },
  {
   "cell_type": "code",
   "execution_count": 5,
   "id": "a012e6c7",
   "metadata": {},
   "outputs": [
    {
     "data": {
      "text/html": [
       "<div>\n",
       "<style scoped>\n",
       "    .dataframe tbody tr th:only-of-type {\n",
       "        vertical-align: middle;\n",
       "    }\n",
       "\n",
       "    .dataframe tbody tr th {\n",
       "        vertical-align: top;\n",
       "    }\n",
       "\n",
       "    .dataframe thead th {\n",
       "        text-align: right;\n",
       "    }\n",
       "</style>\n",
       "<table border=\"1\" class=\"dataframe\">\n",
       "  <thead>\n",
       "    <tr style=\"text-align: right;\">\n",
       "      <th></th>\n",
       "      <th>drug_smiles</th>\n",
       "      <th>protein_id</th>\n",
       "      <th>sequence</th>\n",
       "      <th>sequence_str</th>\n",
       "    </tr>\n",
       "  </thead>\n",
       "  <tbody>\n",
       "    <tr>\n",
       "      <th>0</th>\n",
       "      <td>CN(C(C)(C)C(=O)NC1C2CC3CC1CC(C(N)=O)(C3)C2)S(=...</td>\n",
       "      <td>P28845</td>\n",
       "      <td>{'organism': 'Homo sapiens', 'sequence': 'MAFM...</td>\n",
       "      <td>MAFMKKYLLPILGLFMAYYYYSANEEFRPEMLQGKKVIVTGASKGI...</td>\n",
       "    </tr>\n",
       "    <tr>\n",
       "      <th>1</th>\n",
       "      <td>O=C(c1ccncn1)N1CCC(O)(c2ccccc2)C2CCCCC21</td>\n",
       "      <td>P34972</td>\n",
       "      <td>{'organism': 'Homo sapiens', 'sequence': 'MEEC...</td>\n",
       "      <td>MEECWVTEIANGSKDGLDSNPMKDYMILSGPQKTAVAVLCTLLGLL...</td>\n",
       "    </tr>\n",
       "    <tr>\n",
       "      <th>2</th>\n",
       "      <td>CCC1(F)CN(C2CCCC2)c2nc(Nc3ccc(C(=O)NC4CCN(C)CC...</td>\n",
       "      <td>P53350</td>\n",
       "      <td>{'organism': 'Homo sapiens', 'sequence': 'MSAA...</td>\n",
       "      <td>MSAAVTAGKLARAPADPGKAGVPGVAAPGAPAAAPPAKEIPEVLVD...</td>\n",
       "    </tr>\n",
       "    <tr>\n",
       "      <th>3</th>\n",
       "      <td>O=C1N(CCCN2CCCC2)CN(c2ccccc2)C12CCN(C(c1ccccc1...</td>\n",
       "      <td>P35372</td>\n",
       "      <td>{'organism': 'Homo sapiens', 'sequence': 'MDSS...</td>\n",
       "      <td>MDSSAAPTNASNCTDALAYSSCSPAPSPGSWVNLSHLDGNLSDPCG...</td>\n",
       "    </tr>\n",
       "    <tr>\n",
       "      <th>4</th>\n",
       "      <td>N#Cc1ccc(Cn2ccnc2)c2ccccc12</td>\n",
       "      <td>P11511</td>\n",
       "      <td>{'organism': 'Homo sapiens', 'sequence': 'MVLE...</td>\n",
       "      <td>MVLEMLNPIHYNITSIVPEAMPAATMPVLLLTGLFLLVWNYEGTSS...</td>\n",
       "    </tr>\n",
       "    <tr>\n",
       "      <th>...</th>\n",
       "      <td>...</td>\n",
       "      <td>...</td>\n",
       "      <td>...</td>\n",
       "      <td>...</td>\n",
       "    </tr>\n",
       "    <tr>\n",
       "      <th>5503</th>\n",
       "      <td>CS(=O)(=O)Nc1ccc(OC(=O)N2CCC(C(O)(c3ccccc3)c3c...</td>\n",
       "      <td>P49146</td>\n",
       "      <td>{'organism': 'Homo sapiens', 'sequence': 'MGPI...</td>\n",
       "      <td>MGPIGAEADENQTVEEMKVEQYGPQTTPRGELVPDPEPELIDSTKL...</td>\n",
       "    </tr>\n",
       "    <tr>\n",
       "      <th>5504</th>\n",
       "      <td>O=C(Nc1ccc(I)cc1)C(=O)Nc1ccc(NC(=O)C(c2ccccc2)...</td>\n",
       "      <td>P35236</td>\n",
       "      <td>{'organism': 'Homo sapiens', 'sequence': 'MVQA...</td>\n",
       "      <td>MVQAHGGRSRAQPLTLSLGAAMTQPPPEKTPAKKHVRLQERRGSNV...</td>\n",
       "    </tr>\n",
       "    <tr>\n",
       "      <th>5505</th>\n",
       "      <td>NS(=O)(=O)c1cccc(-n2c(S)nc3ccc(I)cc3c2=O)c1</td>\n",
       "      <td>Q16790</td>\n",
       "      <td>{'organism': 'Homo sapiens', 'sequence': 'MAPL...</td>\n",
       "      <td>MAPLCPSPWLPLLIPAPAPGLTVQLLLSLLLLVPVHPQRLPRMQED...</td>\n",
       "    </tr>\n",
       "    <tr>\n",
       "      <th>5506</th>\n",
       "      <td>CC(Nc1ccc(Cl)cc1)C(=O)Nc1nc2ccc3[nH]ncc3c2s1</td>\n",
       "      <td>P25098</td>\n",
       "      <td>{'organism': 'Homo sapiens', 'sequence': 'MADL...</td>\n",
       "      <td>MADLEAVLADVSYLMAMEKSKATPAARASKKILLPEPSIRSVMQKY...</td>\n",
       "    </tr>\n",
       "    <tr>\n",
       "      <th>5507</th>\n",
       "      <td>O=C(Nc1cc(Cl)cc(Cl)c1)Nc1cccc(-c2cccc(N3CCCC3)...</td>\n",
       "      <td>P21554</td>\n",
       "      <td>{'organism': 'Homo sapiens', 'sequence': 'MKSI...</td>\n",
       "      <td>MKSILDGLADTTFRTITTDLLYVGSNDIQYEDIKGDMASKLGYFPQ...</td>\n",
       "    </tr>\n",
       "  </tbody>\n",
       "</table>\n",
       "<p>5508 rows × 4 columns</p>\n",
       "</div>"
      ],
      "text/plain": [
       "                                            drug_smiles protein_id  \\\n",
       "0     CN(C(C)(C)C(=O)NC1C2CC3CC1CC(C(N)=O)(C3)C2)S(=...     P28845   \n",
       "1              O=C(c1ccncn1)N1CCC(O)(c2ccccc2)C2CCCCC21     P34972   \n",
       "2     CCC1(F)CN(C2CCCC2)c2nc(Nc3ccc(C(=O)NC4CCN(C)CC...     P53350   \n",
       "3     O=C1N(CCCN2CCCC2)CN(c2ccccc2)C12CCN(C(c1ccccc1...     P35372   \n",
       "4                           N#Cc1ccc(Cn2ccnc2)c2ccccc12     P11511   \n",
       "...                                                 ...        ...   \n",
       "5503  CS(=O)(=O)Nc1ccc(OC(=O)N2CCC(C(O)(c3ccccc3)c3c...     P49146   \n",
       "5504  O=C(Nc1ccc(I)cc1)C(=O)Nc1ccc(NC(=O)C(c2ccccc2)...     P35236   \n",
       "5505        NS(=O)(=O)c1cccc(-n2c(S)nc3ccc(I)cc3c2=O)c1     Q16790   \n",
       "5506       CC(Nc1ccc(Cl)cc1)C(=O)Nc1nc2ccc3[nH]ncc3c2s1     P25098   \n",
       "5507  O=C(Nc1cc(Cl)cc(Cl)c1)Nc1cccc(-c2cccc(N3CCCC3)...     P21554   \n",
       "\n",
       "                                               sequence  \\\n",
       "0     {'organism': 'Homo sapiens', 'sequence': 'MAFM...   \n",
       "1     {'organism': 'Homo sapiens', 'sequence': 'MEEC...   \n",
       "2     {'organism': 'Homo sapiens', 'sequence': 'MSAA...   \n",
       "3     {'organism': 'Homo sapiens', 'sequence': 'MDSS...   \n",
       "4     {'organism': 'Homo sapiens', 'sequence': 'MVLE...   \n",
       "...                                                 ...   \n",
       "5503  {'organism': 'Homo sapiens', 'sequence': 'MGPI...   \n",
       "5504  {'organism': 'Homo sapiens', 'sequence': 'MVQA...   \n",
       "5505  {'organism': 'Homo sapiens', 'sequence': 'MAPL...   \n",
       "5506  {'organism': 'Homo sapiens', 'sequence': 'MADL...   \n",
       "5507  {'organism': 'Homo sapiens', 'sequence': 'MKSI...   \n",
       "\n",
       "                                           sequence_str  \n",
       "0     MAFMKKYLLPILGLFMAYYYYSANEEFRPEMLQGKKVIVTGASKGI...  \n",
       "1     MEECWVTEIANGSKDGLDSNPMKDYMILSGPQKTAVAVLCTLLGLL...  \n",
       "2     MSAAVTAGKLARAPADPGKAGVPGVAAPGAPAAAPPAKEIPEVLVD...  \n",
       "3     MDSSAAPTNASNCTDALAYSSCSPAPSPGSWVNLSHLDGNLSDPCG...  \n",
       "4     MVLEMLNPIHYNITSIVPEAMPAATMPVLLLTGLFLLVWNYEGTSS...  \n",
       "...                                                 ...  \n",
       "5503  MGPIGAEADENQTVEEMKVEQYGPQTTPRGELVPDPEPELIDSTKL...  \n",
       "5504  MVQAHGGRSRAQPLTLSLGAAMTQPPPEKTPAKKHVRLQERRGSNV...  \n",
       "5505  MAPLCPSPWLPLLIPAPAPGLTVQLLLSLLLLVPVHPQRLPRMQED...  \n",
       "5506  MADLEAVLADVSYLMAMEKSKATPAARASKKILLPEPSIRSVMQKY...  \n",
       "5507  MKSILDGLADTTFRTITTDLLYVGSNDIQYEDIKGDMASKLGYFPQ...  \n",
       "\n",
       "[5508 rows x 4 columns]"
      ]
     },
     "execution_count": 5,
     "metadata": {},
     "output_type": "execute_result"
    }
   ],
   "source": [
    "sampled = pd.read_csv('sampled_pairs_with_sequence_310825.csv')\n",
    "sampled"
   ]
  },
  {
   "cell_type": "markdown",
   "id": "03a1678a",
   "metadata": {},
   "source": [
    "### Init TAPE model to embed protein sequence"
   ]
  },
  {
   "cell_type": "code",
   "execution_count": 6,
   "id": "4f91eab4",
   "metadata": {},
   "outputs": [
    {
     "data": {
      "text/plain": [
       "ProteinBertModel(\n",
       "  (embeddings): ProteinBertEmbeddings(\n",
       "    (word_embeddings): Embedding(30, 768, padding_idx=0)\n",
       "    (position_embeddings): Embedding(8192, 768)\n",
       "    (token_type_embeddings): Embedding(1, 768)\n",
       "    (LayerNorm): LayerNorm()\n",
       "    (dropout): Dropout(p=0.1, inplace=False)\n",
       "  )\n",
       "  (encoder): ProteinBertEncoder(\n",
       "    (layer): ModuleList(\n",
       "      (0-11): 12 x ProteinBertLayer(\n",
       "        (attention): ProteinBertAttention(\n",
       "          (self): ProteinBertSelfAttention(\n",
       "            (query): Linear(in_features=768, out_features=768, bias=True)\n",
       "            (key): Linear(in_features=768, out_features=768, bias=True)\n",
       "            (value): Linear(in_features=768, out_features=768, bias=True)\n",
       "            (dropout): Dropout(p=0.1, inplace=False)\n",
       "          )\n",
       "          (output): ProteinBertSelfOutput(\n",
       "            (dense): Linear(in_features=768, out_features=768, bias=True)\n",
       "            (LayerNorm): LayerNorm()\n",
       "            (dropout): Dropout(p=0.1, inplace=False)\n",
       "          )\n",
       "        )\n",
       "        (intermediate): ProteinBertIntermediate(\n",
       "          (dense): Linear(in_features=768, out_features=3072, bias=True)\n",
       "        )\n",
       "        (output): ProteinBertOutput(\n",
       "          (dense): Linear(in_features=3072, out_features=768, bias=True)\n",
       "          (LayerNorm): LayerNorm()\n",
       "          (dropout): Dropout(p=0.1, inplace=False)\n",
       "        )\n",
       "      )\n",
       "    )\n",
       "  )\n",
       "  (pooler): ProteinBertPooler(\n",
       "    (dense): Linear(in_features=768, out_features=768, bias=True)\n",
       "    (activation): Tanh()\n",
       "  )\n",
       ")"
      ]
     },
     "execution_count": 6,
     "metadata": {},
     "output_type": "execute_result"
    }
   ],
   "source": [
    "model = ProteinBertModel.from_pretrained('bert-base')\n",
    "tokenizer = TAPETokenizer(vocab='iupac')  # iupac is the vocab for TAPE models, use unirep for the UniRep model\n",
    "model.eval()"
   ]
  },
  {
   "cell_type": "code",
   "execution_count": 7,
   "id": "ed3ed18b",
   "metadata": {},
   "outputs": [
    {
     "name": "stdout",
     "output_type": "stream",
     "text": [
      "True\n"
     ]
    }
   ],
   "source": [
    "print(torch.cuda.is_available())\n",
    "model = model.to(device)\n",
    "# tokenizer = tokenizer.to(device)"
   ]
  },
  {
   "cell_type": "markdown",
   "id": "c35951f4",
   "metadata": {},
   "source": [
    "### Protein Sequence Embedding"
   ]
  },
  {
   "cell_type": "code",
   "execution_count": 10,
   "id": "a88fdf65",
   "metadata": {},
   "outputs": [
    {
     "name": "stderr",
     "output_type": "stream",
     "text": [
      "100%|██████████| 5508/5508 [00:22<00:00, 240.28it/s]\n"
     ]
    }
   ],
   "source": [
    "embeddings = {}\n",
    "seq_cache = {}\n",
    "\n",
    "for pid, seq in zip(tqdm(sampled['protein_id']), sampled['sequence_str']):\n",
    "    if seq not in seq_cache:\n",
    "        ids = torch.tensor([tokenizer.encode(seq)]).to(device)\n",
    "        with torch.no_grad():\n",
    "            pooled = model(ids)[1].squeeze(0).cpu().numpy()\n",
    "        seq_cache[seq] = pooled\n",
    "\n",
    "    embeddings[pid] = seq_cache[seq]\n"
   ]
  },
  {
   "cell_type": "markdown",
   "id": "2b25f19a",
   "metadata": {},
   "source": [
    "### Drug smiles embedding to morgan fingerprint, 2048 bits"
   ]
  },
  {
   "cell_type": "code",
   "execution_count": null,
   "id": "69fab6c0",
   "metadata": {},
   "outputs": [],
   "source": [
    "fingerprints = {}\n",
    "for smi in sampled['drug_smiles']:\n",
    "    mol = Chem.MolFromSmiles(smi)\n",
    "    if mol:\n",
    "        fp = AllChem.GetMorganFingerprintAsBitVect(mol, 2, nBits=2048)\n",
    "        fingerprints[smi] = np.array(fp)"
   ]
  },
  {
   "cell_type": "markdown",
   "id": "39faaf68",
   "metadata": {},
   "source": [
    "### Save npz of embedding [Protein] and fingerprints [Drug]"
   ]
  },
  {
   "cell_type": "code",
   "execution_count": 13,
   "id": "d8d6f466",
   "metadata": {},
   "outputs": [],
   "source": [
    "np.savez('protein_embeddings.npz', **embeddings)\n",
    "np.savez('drug_fingerprints.npz', **fingerprints)"
   ]
  },
  {
   "cell_type": "code",
   "execution_count": 8,
   "id": "10dd544d",
   "metadata": {},
   "outputs": [
    {
     "ename": "NameError",
     "evalue": "name 'fingerprints' is not defined",
     "output_type": "error",
     "traceback": [
      "\u001b[1;31m---------------------------------------------------------------------------\u001b[0m",
      "\u001b[1;31mNameError\u001b[0m                                 Traceback (most recent call last)",
      "Cell \u001b[1;32mIn[8], line 1\u001b[0m\n\u001b[1;32m----> 1\u001b[0m \u001b[38;5;28mprint\u001b[39m(\u001b[43mfingerprints\u001b[49m)\n\u001b[0;32m      2\u001b[0m \u001b[38;5;28mprint\u001b[39m(embeddings)\n",
      "\u001b[1;31mNameError\u001b[0m: name 'fingerprints' is not defined"
     ]
    }
   ],
   "source": [
    "print(fingerprints)\n",
    "print(embeddings)"
   ]
  },
  {
   "cell_type": "markdown",
   "id": "01d1d8eb",
   "metadata": {},
   "source": [
    "### Activation pair DF"
   ]
  },
  {
   "cell_type": "code",
   "execution_count": 9,
   "id": "30f0d1a5",
   "metadata": {},
   "outputs": [
    {
     "data": {
      "text/html": [
       "<div>\n",
       "<style scoped>\n",
       "    .dataframe tbody tr th:only-of-type {\n",
       "        vertical-align: middle;\n",
       "    }\n",
       "\n",
       "    .dataframe tbody tr th {\n",
       "        vertical-align: top;\n",
       "    }\n",
       "\n",
       "    .dataframe thead th {\n",
       "        text-align: right;\n",
       "    }\n",
       "</style>\n",
       "<table border=\"1\" class=\"dataframe\">\n",
       "  <thead>\n",
       "    <tr style=\"text-align: right;\">\n",
       "      <th></th>\n",
       "      <th>drug_smiles</th>\n",
       "      <th>protein_id</th>\n",
       "      <th>sequence</th>\n",
       "      <th>sequence_str</th>\n",
       "    </tr>\n",
       "  </thead>\n",
       "  <tbody>\n",
       "    <tr>\n",
       "      <th>0</th>\n",
       "      <td>CN(C(C)(C)C(=O)NC1C2CC3CC1CC(C(N)=O)(C3)C2)S(=...</td>\n",
       "      <td>P28845</td>\n",
       "      <td>{'organism': 'Homo sapiens', 'sequence': 'MAFM...</td>\n",
       "      <td>MAFMKKYLLPILGLFMAYYYYSANEEFRPEMLQGKKVIVTGASKGI...</td>\n",
       "    </tr>\n",
       "    <tr>\n",
       "      <th>1</th>\n",
       "      <td>O=C(c1ccncn1)N1CCC(O)(c2ccccc2)C2CCCCC21</td>\n",
       "      <td>P34972</td>\n",
       "      <td>{'organism': 'Homo sapiens', 'sequence': 'MEEC...</td>\n",
       "      <td>MEECWVTEIANGSKDGLDSNPMKDYMILSGPQKTAVAVLCTLLGLL...</td>\n",
       "    </tr>\n",
       "    <tr>\n",
       "      <th>2</th>\n",
       "      <td>CCC1(F)CN(C2CCCC2)c2nc(Nc3ccc(C(=O)NC4CCN(C)CC...</td>\n",
       "      <td>P53350</td>\n",
       "      <td>{'organism': 'Homo sapiens', 'sequence': 'MSAA...</td>\n",
       "      <td>MSAAVTAGKLARAPADPGKAGVPGVAAPGAPAAAPPAKEIPEVLVD...</td>\n",
       "    </tr>\n",
       "    <tr>\n",
       "      <th>3</th>\n",
       "      <td>O=C1N(CCCN2CCCC2)CN(c2ccccc2)C12CCN(C(c1ccccc1...</td>\n",
       "      <td>P35372</td>\n",
       "      <td>{'organism': 'Homo sapiens', 'sequence': 'MDSS...</td>\n",
       "      <td>MDSSAAPTNASNCTDALAYSSCSPAPSPGSWVNLSHLDGNLSDPCG...</td>\n",
       "    </tr>\n",
       "    <tr>\n",
       "      <th>4</th>\n",
       "      <td>N#Cc1ccc(Cn2ccnc2)c2ccccc12</td>\n",
       "      <td>P11511</td>\n",
       "      <td>{'organism': 'Homo sapiens', 'sequence': 'MVLE...</td>\n",
       "      <td>MVLEMLNPIHYNITSIVPEAMPAATMPVLLLTGLFLLVWNYEGTSS...</td>\n",
       "    </tr>\n",
       "    <tr>\n",
       "      <th>...</th>\n",
       "      <td>...</td>\n",
       "      <td>...</td>\n",
       "      <td>...</td>\n",
       "      <td>...</td>\n",
       "    </tr>\n",
       "    <tr>\n",
       "      <th>5503</th>\n",
       "      <td>CS(=O)(=O)Nc1ccc(OC(=O)N2CCC(C(O)(c3ccccc3)c3c...</td>\n",
       "      <td>P49146</td>\n",
       "      <td>{'organism': 'Homo sapiens', 'sequence': 'MGPI...</td>\n",
       "      <td>MGPIGAEADENQTVEEMKVEQYGPQTTPRGELVPDPEPELIDSTKL...</td>\n",
       "    </tr>\n",
       "    <tr>\n",
       "      <th>5504</th>\n",
       "      <td>O=C(Nc1ccc(I)cc1)C(=O)Nc1ccc(NC(=O)C(c2ccccc2)...</td>\n",
       "      <td>P35236</td>\n",
       "      <td>{'organism': 'Homo sapiens', 'sequence': 'MVQA...</td>\n",
       "      <td>MVQAHGGRSRAQPLTLSLGAAMTQPPPEKTPAKKHVRLQERRGSNV...</td>\n",
       "    </tr>\n",
       "    <tr>\n",
       "      <th>5505</th>\n",
       "      <td>NS(=O)(=O)c1cccc(-n2c(S)nc3ccc(I)cc3c2=O)c1</td>\n",
       "      <td>Q16790</td>\n",
       "      <td>{'organism': 'Homo sapiens', 'sequence': 'MAPL...</td>\n",
       "      <td>MAPLCPSPWLPLLIPAPAPGLTVQLLLSLLLLVPVHPQRLPRMQED...</td>\n",
       "    </tr>\n",
       "    <tr>\n",
       "      <th>5506</th>\n",
       "      <td>CC(Nc1ccc(Cl)cc1)C(=O)Nc1nc2ccc3[nH]ncc3c2s1</td>\n",
       "      <td>P25098</td>\n",
       "      <td>{'organism': 'Homo sapiens', 'sequence': 'MADL...</td>\n",
       "      <td>MADLEAVLADVSYLMAMEKSKATPAARASKKILLPEPSIRSVMQKY...</td>\n",
       "    </tr>\n",
       "    <tr>\n",
       "      <th>5507</th>\n",
       "      <td>O=C(Nc1cc(Cl)cc(Cl)c1)Nc1cccc(-c2cccc(N3CCCC3)...</td>\n",
       "      <td>P21554</td>\n",
       "      <td>{'organism': 'Homo sapiens', 'sequence': 'MKSI...</td>\n",
       "      <td>MKSILDGLADTTFRTITTDLLYVGSNDIQYEDIKGDMASKLGYFPQ...</td>\n",
       "    </tr>\n",
       "  </tbody>\n",
       "</table>\n",
       "<p>5508 rows × 4 columns</p>\n",
       "</div>"
      ],
      "text/plain": [
       "                                            drug_smiles protein_id  \\\n",
       "0     CN(C(C)(C)C(=O)NC1C2CC3CC1CC(C(N)=O)(C3)C2)S(=...     P28845   \n",
       "1              O=C(c1ccncn1)N1CCC(O)(c2ccccc2)C2CCCCC21     P34972   \n",
       "2     CCC1(F)CN(C2CCCC2)c2nc(Nc3ccc(C(=O)NC4CCN(C)CC...     P53350   \n",
       "3     O=C1N(CCCN2CCCC2)CN(c2ccccc2)C12CCN(C(c1ccccc1...     P35372   \n",
       "4                           N#Cc1ccc(Cn2ccnc2)c2ccccc12     P11511   \n",
       "...                                                 ...        ...   \n",
       "5503  CS(=O)(=O)Nc1ccc(OC(=O)N2CCC(C(O)(c3ccccc3)c3c...     P49146   \n",
       "5504  O=C(Nc1ccc(I)cc1)C(=O)Nc1ccc(NC(=O)C(c2ccccc2)...     P35236   \n",
       "5505        NS(=O)(=O)c1cccc(-n2c(S)nc3ccc(I)cc3c2=O)c1     Q16790   \n",
       "5506       CC(Nc1ccc(Cl)cc1)C(=O)Nc1nc2ccc3[nH]ncc3c2s1     P25098   \n",
       "5507  O=C(Nc1cc(Cl)cc(Cl)c1)Nc1cccc(-c2cccc(N3CCCC3)...     P21554   \n",
       "\n",
       "                                               sequence  \\\n",
       "0     {'organism': 'Homo sapiens', 'sequence': 'MAFM...   \n",
       "1     {'organism': 'Homo sapiens', 'sequence': 'MEEC...   \n",
       "2     {'organism': 'Homo sapiens', 'sequence': 'MSAA...   \n",
       "3     {'organism': 'Homo sapiens', 'sequence': 'MDSS...   \n",
       "4     {'organism': 'Homo sapiens', 'sequence': 'MVLE...   \n",
       "...                                                 ...   \n",
       "5503  {'organism': 'Homo sapiens', 'sequence': 'MGPI...   \n",
       "5504  {'organism': 'Homo sapiens', 'sequence': 'MVQA...   \n",
       "5505  {'organism': 'Homo sapiens', 'sequence': 'MAPL...   \n",
       "5506  {'organism': 'Homo sapiens', 'sequence': 'MADL...   \n",
       "5507  {'organism': 'Homo sapiens', 'sequence': 'MKSI...   \n",
       "\n",
       "                                           sequence_str  \n",
       "0     MAFMKKYLLPILGLFMAYYYYSANEEFRPEMLQGKKVIVTGASKGI...  \n",
       "1     MEECWVTEIANGSKDGLDSNPMKDYMILSGPQKTAVAVLCTLLGLL...  \n",
       "2     MSAAVTAGKLARAPADPGKAGVPGVAAPGAPAAAPPAKEIPEVLVD...  \n",
       "3     MDSSAAPTNASNCTDALAYSSCSPAPSPGSWVNLSHLDGNLSDPCG...  \n",
       "4     MVLEMLNPIHYNITSIVPEAMPAATMPVLLLTGLFLLVWNYEGTSS...  \n",
       "...                                                 ...  \n",
       "5503  MGPIGAEADENQTVEEMKVEQYGPQTTPRGELVPDPEPELIDSTKL...  \n",
       "5504  MVQAHGGRSRAQPLTLSLGAAMTQPPPEKTPAKKHVRLQERRGSNV...  \n",
       "5505  MAPLCPSPWLPLLIPAPAPGLTVQLLLSLLLLVPVHPQRLPRMQED...  \n",
       "5506  MADLEAVLADVSYLMAMEKSKATPAARASKKILLPEPSIRSVMQKY...  \n",
       "5507  MKSILDGLADTTFRTITTDLLYVGSNDIQYEDIKGDMASKLGYFPQ...  \n",
       "\n",
       "[5508 rows x 4 columns]"
      ]
     },
     "execution_count": 9,
     "metadata": {},
     "output_type": "execute_result"
    }
   ],
   "source": [
    "sampled"
   ]
  },
  {
   "cell_type": "markdown",
   "id": "642befd3",
   "metadata": {},
   "source": [
    "### Get Activity Column"
   ]
  },
  {
   "cell_type": "code",
   "execution_count": 10,
   "id": "9c01434c",
   "metadata": {},
   "outputs": [],
   "source": [
    "activity = new_client.activity # API endpoint"
   ]
  },
  {
   "cell_type": "code",
   "execution_count": 11,
   "id": "ae56a3b4",
   "metadata": {},
   "outputs": [],
   "source": [
    "def fetch_activities_for_proteins(df, standard_type=\"IC50\"):\n",
    "    all_records = []\n",
    "    \n",
    "    for pid in tqdm(df['protein_id'].unique()):\n",
    "        # Fetch IC50 activities for this protein\n",
    "        acts = activity.filter(target_chembl_id=pid, standard_type=standard_type) \\\n",
    "                           .only(['molecule_chembl_id','canonical_smiles','standard_value','standard_units'])\n",
    "        acts = list(acts)\n",
    "\n",
    "        if not acts:\n",
    "            continue\n",
    "    acts_df = pd.DataFrame(acts)\n",
    "    acts_df = acts_df.dropna(subset=['canonical_smiles','standard_value'])\n",
    "\n",
    "    # Compute median per protein\n",
    "    median_val = acts_df['standard_value'].median()\n",
    "\n",
    "    # Assign label: active if value < median\n",
    "    acts_df['label'] = (acts_df['standard_value'] < median_val).astype(int)\n",
    "\n",
    "    # Keep only positives (DeepTarget style)\n",
    "    acts_df = acts_df[acts_df['label'] == 1]\n",
    "\n",
    "    # Append\n",
    "    for _, row in acts_df.iterrows():\n",
    "        all_records.append({\n",
    "            'protein_id': pid,\n",
    "            'drug_smiles': row['canonical_smiles'],\n",
    "            'label': row['label']\n",
    "        })\n",
    "\n",
    "    return pd.DataFrame(all_records)"
   ]
  },
  {
   "cell_type": "code",
   "execution_count": 12,
   "id": "5091e5ad",
   "metadata": {},
   "outputs": [],
   "source": [
    "# Path to your ChEMBL SQLite DB\n",
    "db_path = \"D:/MASTER/chembl_35_sqlite/chembl_35/chembl_35_sqlite/chembl_35.db\"\n",
    "conn = sqlite3.connect(db_path)\n"
   ]
  },
  {
   "cell_type": "code",
   "execution_count": 20,
   "id": "5967278d",
   "metadata": {},
   "outputs": [],
   "source": [
    "query = \"show tables\""
   ]
  },
  {
   "cell_type": "code",
   "execution_count": 26,
   "id": "9acf8eda",
   "metadata": {},
   "outputs": [],
   "source": [
    "query = \"\"\"\n",
    "SELECT\n",
    "    act.activity_id,\n",
    "    act.standard_value,\n",
    "    act.standard_units,\n",
    "    act.standard_type,\n",
    "    cs.canonical_smiles,\n",
    "    md.chembl_id AS molecule_chembl_id,\n",
    "    td.chembl_id AS target_chembl_id,\n",
    "    td.pref_name AS target_name,\n",
    "    csq.accession AS protein_accession,\n",
    "    csq.sequence AS protein_sequence\n",
    "FROM activities act\n",
    "JOIN assays a ON act.assay_id = a.assay_id\n",
    "JOIN molecule_dictionary md ON act.molregno = md.molregno\n",
    "JOIN compound_structures cs ON md.molregno = cs.molregno\n",
    "JOIN target_dictionary td ON a.tid = td.tid\n",
    "JOIN target_components tc ON td.tid = tc.tid\n",
    "JOIN component_sequences csq ON tc.component_id = csq.component_id\n",
    "WHERE act.standard_type = 'IC50'\n",
    "  AND act.standard_value IS NOT NULL\n",
    "  AND cs.canonical_smiles IS NOT NULL\n",
    "  AND csq.sequence IS NOT NULL\n",
    "LIMIT 50000;\n",
    "\n",
    "\"\"\""
   ]
  },
  {
   "cell_type": "code",
   "execution_count": 27,
   "id": "767a71bb",
   "metadata": {},
   "outputs": [
    {
     "name": "stdout",
     "output_type": "stream",
     "text": [
      "Raw records: (50000, 10)\n",
      "   activity_id  standard_value standard_units standard_type  \\\n",
      "0        31863        100000.0             nM          IC50   \n",
      "1        31864          2500.0             nM          IC50   \n",
      "2        31866          9000.0             nM          IC50   \n",
      "3        31868          4000.0             nM          IC50   \n",
      "4        31870         17000.0             nM          IC50   \n",
      "\n",
      "                                    canonical_smiles molecule_chembl_id  \\\n",
      "0           c1ccc(-c2nc3c(-c4nc5ccccc5o4)cccc3o2)cc1       CHEMBL113081   \n",
      "1  Cc1ccc2oc(-c3cccc(N4C(=O)c5ccc(C(=O)O)cc5C4=O)...       CHEMBL324340   \n",
      "2  COc1ccccc1-c1ccc2oc(-c3ccc(OC)c(N4C(=O)c5ccc(C...       CHEMBL109600   \n",
      "3  Cc1nc2cc(OC[C@H](O)CN3CCN(CC(=O)Nc4ccc(Cl)c(C(...       CHEMBL357278   \n",
      "4  Cc1nc2cc(OC[C@H](O)CN3CCN(CC(=O)NCCc4ccccc4)CC...       CHEMBL357119   \n",
      "\n",
      "  target_chembl_id                 target_name protein_accession  \\\n",
      "0       CHEMBL1806  DNA topoisomerase II alpha            P11388   \n",
      "1       CHEMBL3921                  Heparanase            Q9Y251   \n",
      "2       CHEMBL3921                  Heparanase            Q9Y251   \n",
      "3       CHEMBL4632       Palmitoyl-CoA oxidase            P07872   \n",
      "4       CHEMBL4632       Palmitoyl-CoA oxidase            P07872   \n",
      "\n",
      "                                    protein_sequence  \n",
      "0  MEVSPLQPVNENMQVNKIKKNEDAKKRLSVERIYQKKTQLEHILLR...  \n",
      "1  MLLRSKPALPPPLMLLLLGPLGPLSPGALPRPAQAQDVVDLDFFTQ...  \n",
      "2  MLLRSKPALPPPLMLLLLGPLGPLSPGALPRPAQAQDVVDLDFFTQ...  \n",
      "3  MNPDLRKERASATFNPELITHILDGSPENTRRRREIENLILNDPDF...  \n",
      "4  MNPDLRKERASATFNPELITHILDGSPENTRRRREIENLILNDPDF...  \n"
     ]
    }
   ],
   "source": [
    "result = pd.read_sql(query, conn)\n",
    "print(\"Raw records:\", result.shape)\n",
    "print(result.head())"
   ]
  },
  {
   "cell_type": "code",
   "execution_count": 29,
   "id": "2bf70716",
   "metadata": {},
   "outputs": [
    {
     "name": "stdout",
     "output_type": "stream",
     "text": [
      "Saved pairs.csv with shape: (23922, 3)\n"
     ]
    }
   ],
   "source": [
    "result['median_val'] = result.groupby('target_chembl_id')['standard_value'].transform('median')\n",
    "result['label'] = (result['standard_value'] < result['median_val']).astype(int)\n",
    "\n",
    "# Keep only positives\n",
    "pairs = result[result['label'] == 1].copy()\n",
    "\n",
    "# Select only TargetGAN-required columns\n",
    "pairs = pairs[['target_chembl_id','canonical_smiles','label']]\n",
    "pairs = pairs.rename(columns={'target_chembl_id':'protein_id','canonical_smiles':'drug_smiles'})\n",
    "\n",
    "pairs.to_csv(\"pairs.csv\", index=False)\n",
    "print(\"Saved pairs.csv with shape:\", pairs.shape)"
   ]
  }
 ],
 "metadata": {
  "kernelspec": {
   "display_name": "DeepTarget",
   "language": "python",
   "name": "python3"
  },
  "language_info": {
   "codemirror_mode": {
    "name": "ipython",
    "version": 3
   },
   "file_extension": ".py",
   "mimetype": "text/x-python",
   "name": "python",
   "nbconvert_exporter": "python",
   "pygments_lexer": "ipython3",
   "version": "3.7.1"
  }
 },
 "nbformat": 4,
 "nbformat_minor": 5
}
