{
 "cells": [
  {
   "cell_type": "markdown",
   "id": "c1ffef04",
   "metadata": {},
   "source": [
    "# TARGETGAN learn"
   ]
  },
  {
   "cell_type": "markdown",
   "id": "3b96dfb7",
   "metadata": {},
   "source": [
    "Predict drug ligand for specific protein, "
   ]
  },
  {
   "cell_type": "code",
   "execution_count": 6,
   "id": "b305f352",
   "metadata": {},
   "outputs": [],
   "source": [
    "import pandas as pd\n",
    "from rdkit import Chem\n",
    "from rdkit.Chem import Draw\n",
    "import matplotlib.pyplot as plt\n",
    "import os\n",
    "import torch\n",
    "import json\n",
    "import sqlite3\n",
    "from tqdm import tqdm\n",
    "import random\n",
    "from collections import defaultdict"
   ]
  },
  {
   "cell_type": "code",
   "execution_count": null,
   "id": "08d7b21f",
   "metadata": {},
   "outputs": [],
   "source": [
    "# ---------- knobs (tune scale here) ----------\n",
    "# wt\n",
    "RAND_SEED              = 42\n",
    "# --------------------------------------------\n",
    "\n",
    "random.seed(RAND_SEED)\n"
   ]
  },
  {
   "cell_type": "code",
   "execution_count": null,
   "id": "7b07eb74",
   "metadata": {},
   "outputs": [
    {
     "name": "stdout",
     "output_type": "stream",
     "text": [
      "['activity', 'activity_supplementary_data_by_activity', 'assay', 'assay_class', 'atc_class', 'binding_site', 'biotherapeutic', 'cell_line', 'chembl_id_lookup', 'chembl_release', 'compound_record', 'compound_structural_alert', 'description', 'document', 'document_similarity', 'drug', 'drug_indication', 'drug_warning', 'go_slim', 'image', 'mechanism', 'metabolism', 'molecule', 'molecule_form', 'official', 'organism', 'protein_classification', 'similarity', 'source', 'substructure', 'target', 'target_component', 'target_relation', 'tissue', 'xref_source']\n"
     ]
    }
   ],
   "source": [
    "sqlite_db_path = \"/Users/chusanarompo/xxx.db\""
   ]
  },
  {
   "cell_type": "code",
   "execution_count": null,
   "id": "d8da90f1",
   "metadata": {},
   "outputs": [],
   "source": [
    "sqlitecon = sqlite3.connect(sqlite_db_path)"
   ]
  }
 ],
 "metadata": {
  "kernelspec": {
   "display_name": "targetganPlay",
   "language": "python",
   "name": "python3"
  },
  "language_info": {
   "codemirror_mode": {
    "name": "ipython",
    "version": 3
   },
   "file_extension": ".py",
   "mimetype": "text/x-python",
   "name": "python",
   "nbconvert_exporter": "python",
   "pygments_lexer": "ipython3",
   "version": "3.10.18"
  }
 },
 "nbformat": 4,
 "nbformat_minor": 5
}
