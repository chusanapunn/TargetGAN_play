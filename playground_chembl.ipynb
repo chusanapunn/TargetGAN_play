{
 "cells": [
  {
   "cell_type": "code",
   "execution_count": 5,
   "id": "6bd54a00",
   "metadata": {},
   "outputs": [],
   "source": [
    "import pandas as pd\n",
    "from rdkit import Chem\n",
    "from rdkit.Chem import Draw\n",
    "import matplotlib.pyplot as plt\n",
    "import os\n",
    "import torch\n",
    "import json\n"
   ]
  },
  {
   "cell_type": "code",
   "execution_count": 4,
   "id": "64bf4526",
   "metadata": {},
   "outputs": [
    {
     "name": "stdout",
     "output_type": "stream",
     "text": [
      "['activity', 'activity_supplementary_data_by_activity', 'assay', 'assay_class', 'atc_class', 'binding_site', 'biotherapeutic', 'cell_line', 'chembl_id_lookup', 'chembl_release', 'compound_record', 'compound_structural_alert', 'description', 'document', 'document_similarity', 'drug', 'drug_indication', 'drug_warning', 'go_slim', 'image', 'mechanism', 'metabolism', 'molecule', 'molecule_form', 'official', 'organism', 'protein_classification', 'similarity', 'source', 'substructure', 'target', 'target_component', 'target_relation', 'tissue', 'xref_source']\n"
     ]
    }
   ],
   "source": [
    "from chembl_webresource_client.new_client import new_client\n",
    "\n",
    "available_resources = [resource for resource in dir(new_client) if not resource.startswith('_')]\n",
    "print(available_resources)"
   ]
  },
  {
   "cell_type": "code",
   "execution_count": 4,
   "id": "2198b66e",
   "metadata": {},
   "outputs": [
    {
     "data": {
      "text/plain": [
       "[{'atc_classifications': ['B01AC06', 'N02BA01', 'N02BA51', 'A01AD05', 'N02BA71'], 'availability_type': 2, 'biotherapeutic': None, 'black_box_warning': 0, 'chebi_par_id': 15365, 'chemical_probe': 0, 'chirality': 2, 'cross_references': [{'xref_id': 'aspirin', 'xref_name': 'aspirin', 'xref_src': 'DailyMed'}], 'dosed_ingredient': True, 'first_approval': 1950, 'first_in_class': 0, 'helm_notation': None, 'indication_class': 'Analgesic; Antirheumatic; Antipyretic', 'inorganic_flag': 0, 'max_phase': '4.0', 'molecule_chembl_id': 'CHEMBL25', 'molecule_hierarchy': {'active_chembl_id': 'CHEMBL25', 'molecule_chembl_id': 'CHEMBL25', 'parent_chembl_id': 'CHEMBL25'}, 'molecule_properties': {'alogp': '1.31', 'aromatic_rings': 1, 'cx_logd': '-2.16', 'cx_logp': '1.24', 'cx_most_apka': '3.41', 'cx_most_bpka': None, 'full_molformula': 'C9H8O4', 'full_mwt': '180.16', 'hba': 3, 'hba_lipinski': 4, 'hbd': 1, 'hbd_lipinski': 1, 'heavy_atoms': 13, 'molecular_species': 'ACID', 'mw_freebase': '180.16', 'mw_monoisotopic': '180.0423', 'np_likeness_score': '0.12', 'num_lipinski_ro5_violations': 0, 'num_ro5_violations': 0, 'psa': '63.60', 'qed_weighted': '0.55', 'ro3_pass': 'N', 'rtb': 2}, 'molecule_structures': {'canonical_smiles': 'CC(=O)Oc1ccccc1C(=O)O', 'molfile': '\\n     RDKit          2D\\n\\n 13 13  0  0  0  0  0  0  0  0999 V2000\\n   19.8052   -4.2758    0.0000 C   0  0  0  0  0  0  0  0  0  0  0  0\\n   19.8040   -5.0953    0.0000 C   0  0  0  0  0  0  0  0  0  0  0  0\\n   20.5121   -5.5043    0.0000 C   0  0  0  0  0  0  0  0  0  0  0  0\\n   21.2217   -5.0948    0.0000 C   0  0  0  0  0  0  0  0  0  0  0  0\\n   21.2189   -4.2722    0.0000 C   0  0  0  0  0  0  0  0  0  0  0  0\\n   20.5103   -3.8669    0.0000 C   0  0  0  0  0  0  0  0  0  0  0  0\\n   20.5078   -3.0497    0.0000 C   0  0  0  0  0  0  0  0  0  0  0  0\\n   21.2143   -2.6390    0.0000 O   0  0  0  0  0  0  0  0  0  0  0  0\\n   19.7989   -2.6432    0.0000 O   0  0  0  0  0  0  0  0  0  0  0  0\\n   21.9250   -3.8609    0.0000 O   0  0  0  0  0  0  0  0  0  0  0  0\\n   22.6343   -4.2668    0.0000 C   0  0  0  0  0  0  0  0  0  0  0  0\\n   23.3405   -3.8556    0.0000 C   0  0  0  0  0  0  0  0  0  0  0  0\\n   22.6374   -5.0840    0.0000 O   0  0  0  0  0  0  0  0  0  0  0  0\\n  1  2  2  0\\n  2  3  1  0\\n  3  4  2  0\\n  4  5  1  0\\n  5  6  2  0\\n  6  1  1  0\\n  6  7  1  0\\n  7  8  1  0\\n  7  9  2  0\\n  5 10  1  0\\n 10 11  1  0\\n 11 12  1  0\\n 11 13  2  0\\nM  END\\n> <chembl_id>\\nCHEMBL25\\n\\n> <chembl_pref_name>\\nASPIRIN', 'standard_inchi': 'InChI=1S/C9H8O4/c1-6(10)13-8-5-3-2-4-7(8)9(11)12/h2-5H,1H3,(H,11,12)', 'standard_inchi_key': 'BSYNRYMUTXBXSQ-UHFFFAOYSA-N'}, 'molecule_synonyms': [{'molecule_synonym': '8-hour bayer', 'syn_type': 'TRADE_NAME', 'synonyms': '8-HOUR BAYER'}, {'molecule_synonym': 'Acetosalic Acid', 'syn_type': 'TRADE_NAME', 'synonyms': 'Acetosalic Acid'}, {'molecule_synonym': 'Acetylsalic acid', 'syn_type': 'TRADE_NAME', 'synonyms': 'ACETYLSALIC ACID'}, {'molecule_synonym': 'Acetyl salicylate', 'syn_type': 'OTHER', 'synonyms': 'ACETYL SALICYLATE'}, {'molecule_synonym': 'Acetylsalicylic Acid', 'syn_type': 'INN', 'synonyms': 'Acetylsalicylic Acid'}, {'molecule_synonym': 'Acetylsalicylic Acid', 'syn_type': 'TRADE_NAME', 'synonyms': 'Acetylsalicylic Acid'}, {'molecule_synonym': 'Acetylsalicylic acid', 'syn_type': 'ATC', 'synonyms': 'ACETYLSALICYLIC ACID'}, {'molecule_synonym': 'Acetylsalicylic acid', 'syn_type': 'OTHER', 'synonyms': 'ACETYLSALICYLIC ACID'}, {'molecule_synonym': 'Acetylsalicylic acid (who-ip)', 'syn_type': 'OTHER', 'synonyms': 'ACETYLSALICYLIC ACID (WHO-IP)'}, {'molecule_synonym': 'Acetylsalicylicum acidum', 'syn_type': 'OTHER', 'synonyms': 'ACETYLSALICYLICUM ACIDUM'}, {'molecule_synonym': 'Acidum acetylsalicylicum', 'syn_type': 'OTHER', 'synonyms': 'ACIDUM ACETYLSALICYLICUM'}, {'molecule_synonym': 'Acidum acetylsalicylicum (who-ip)', 'syn_type': 'OTHER', 'synonyms': 'ACIDUM ACETYLSALICYLICUM (WHO-IP)'}, {'molecule_synonym': 'Alka rapid', 'syn_type': 'TRADE_NAME', 'synonyms': 'ALKA RAPID'}, {'molecule_synonym': 'Anadin all night', 'syn_type': 'TRADE_NAME', 'synonyms': 'ANADIN ALL NIGHT'}, {'molecule_synonym': 'Angettes 75', 'syn_type': 'TRADE_NAME', 'synonyms': 'ANGETTES 75'}, {'molecule_synonym': 'Aspirin', 'syn_type': 'USAN', 'synonyms': 'Aspirin'}, {'molecule_synonym': 'Aspirin', 'syn_type': 'BAN', 'synonyms': 'ASPIRIN'}, {'molecule_synonym': 'Aspirin', 'syn_type': 'BNF', 'synonyms': 'ASPIRIN'}, {'molecule_synonym': 'Aspirin', 'syn_type': 'FDA', 'synonyms': 'ASPIRIN'}, {'molecule_synonym': 'Aspirin', 'syn_type': 'JAN', 'synonyms': 'ASPIRIN'}, {'molecule_synonym': 'Aspirin', 'syn_type': 'MERCK_INDEX', 'synonyms': 'ASPIRIN'}, {'molecule_synonym': 'Aspirin', 'syn_type': 'OTHER', 'synonyms': 'ASPIRIN'}, {'molecule_synonym': 'Aspirin', 'syn_type': 'TRADE_NAME', 'synonyms': 'ASPIRIN'}, {'molecule_synonym': 'Aspirin', 'syn_type': 'USP', 'synonyms': 'ASPIRIN'}, {'molecule_synonym': 'Aspro clr', 'syn_type': 'TRADE_NAME', 'synonyms': 'ASPRO CLR'}, {'molecule_synonym': 'BAY1019036', 'syn_type': 'RESEARCH_CODE', 'synonyms': 'BAY1019036'}, {'molecule_synonym': 'Bayer extra strength aspirin for migraine pain', 'syn_type': 'TRADE_NAME', 'synonyms': 'BAYER EXTRA STRENGTH ASPIRIN FOR MIGRAINE PAIN'}, {'molecule_synonym': 'Benzoic acid, 2-(acetyloxy)-', 'syn_type': 'OTHER', 'synonyms': 'BENZOIC ACID, 2-(ACETYLOXY)-'}, {'molecule_synonym': 'Danamep', 'syn_type': 'TRADE_NAME', 'synonyms': 'DANAMEP'}, {'molecule_synonym': 'Disprin cv', 'syn_type': 'TRADE_NAME', 'synonyms': 'DISPRIN CV'}, {'molecule_synonym': 'Disprin direct', 'syn_type': 'TRADE_NAME', 'synonyms': 'DISPRIN DIRECT'}, {'molecule_synonym': 'Durlaza', 'syn_type': 'TRADE_NAME', 'synonyms': 'DURLAZA'}, {'molecule_synonym': 'Ecotrin', 'syn_type': 'TRADE_NAME', 'synonyms': 'Ecotrin'}, {'molecule_synonym': 'Enprin', 'syn_type': 'TRADE_NAME', 'synonyms': 'ENPRIN'}, {'molecule_synonym': 'Equi-Prin', 'syn_type': 'TRADE_NAME', 'synonyms': 'Equi-Prin'}, {'molecule_synonym': 'Gencardia', 'syn_type': 'TRADE_NAME', 'synonyms': 'GENCARDIA'}, {'molecule_synonym': 'Levius', 'syn_type': 'TRADE_NAME', 'synonyms': 'LEVIUS'}, {'molecule_synonym': 'Max strgh aspro clr', 'syn_type': 'TRADE_NAME', 'synonyms': 'MAX STRGH ASPRO CLR'}, {'molecule_synonym': 'Measurin', 'syn_type': 'TRADE_NAME', 'synonyms': 'MEASURIN'}, {'molecule_synonym': 'Micropirin ec', 'syn_type': 'TRADE_NAME', 'synonyms': 'MICROPIRIN EC'}, {'molecule_synonym': 'NSC-27223', 'syn_type': 'RESEARCH_CODE', 'synonyms': 'NSC-27223'}, {'molecule_synonym': 'NSC-406186', 'syn_type': 'RESEARCH_CODE', 'synonyms': 'NSC-406186'}, {'molecule_synonym': 'Nu-seals 300', 'syn_type': 'TRADE_NAME', 'synonyms': 'NU-SEALS 300'}, {'molecule_synonym': 'Nu-seals 600', 'syn_type': 'TRADE_NAME', 'synonyms': 'NU-SEALS 600'}, {'molecule_synonym': 'Nu-seals 75', 'syn_type': 'TRADE_NAME', 'synonyms': 'NU-SEALS 75'}, {'molecule_synonym': 'Nu-seals cardio 75', 'syn_type': 'TRADE_NAME', 'synonyms': 'NU-SEALS CARDIO 75'}, {'molecule_synonym': 'Paynocil', 'syn_type': 'TRADE_NAME', 'synonyms': 'PAYNOCIL'}, {'molecule_synonym': 'Platet', 'syn_type': 'TRADE_NAME', 'synonyms': 'PLATET'}, {'molecule_synonym': 'Platet 300', 'syn_type': 'TRADE_NAME', 'synonyms': 'PLATET 300'}, {'molecule_synonym': 'Postmi 300', 'syn_type': 'TRADE_NAME', 'synonyms': 'POSTMI 300'}, {'molecule_synonym': 'Postmi 75', 'syn_type': 'TRADE_NAME', 'synonyms': 'POSTMI 75'}, {'molecule_synonym': 'Salicylic Acid Acetate', 'syn_type': 'TRADE_NAME', 'synonyms': 'Salicylic Acid Acetate'}, {'molecule_synonym': 'Vazalore', 'syn_type': 'TRADE_NAME', 'synonyms': 'VAZALORE'}], 'molecule_type': 'Small molecule', 'natural_product': 1, 'oral': True, 'orphan': 0, 'parenteral': False, 'polymer_flag': 0, 'pref_name': 'ASPIRIN', 'prodrug': 0, 'structure_type': 'MOL', 'therapeutic_flag': True, 'topical': False, 'usan_stem': None, 'usan_stem_definition': None, 'usan_substem': None, 'usan_year': None, 'withdrawn_flag': False}]"
      ]
     },
     "execution_count": 4,
     "metadata": {},
     "output_type": "execute_result"
    }
   ],
   "source": [
    "from chembl_webresource_client.new_client import new_client\n",
    "\n",
    "molecule = new_client.molecule\n",
    "mols = molecule.filter(pref_name__iexact='aspirin')\n",
    "mols"
   ]
  },
  {
   "cell_type": "markdown",
   "id": "78bfa886",
   "metadata": {},
   "source": [
    "## DRUG - PROTEIN PAIR"
   ]
  },
  {
   "cell_type": "code",
   "execution_count": 8,
   "id": "7911ddfe",
   "metadata": {},
   "outputs": [
    {
     "name": "stdout",
     "output_type": "stream",
     "text": [
      "[{'pref_name': 'Maltase-glucoamylase', 'target_chembl_id': 'CHEMBL2074', 'target_components': [{'accession': 'O43451', 'component_description': 'Maltase-glucoamylase', 'component_id': 434, 'component_type': 'PROTEIN', 'relationship': 'SINGLE PROTEIN', 'target_component_synonyms': [{'component_synonym': '3.2.1.20', 'syn_type': 'EC_NUMBER'}, {'component_synonym': 'Alpha-1,4-glucosidase', 'syn_type': 'UNIPROT'}, {'component_synonym': 'Maltase-glucoamylase', 'syn_type': 'UNIPROT'}, {'component_synonym': 'MGA', 'syn_type': 'GENE_SYMBOL_OTHER'}, {'component_synonym': 'MGAM', 'syn_type': 'GENE_SYMBOL'}, {'component_synonym': 'MGAML', 'syn_type': 'GENE_SYMBOL_OTHER'}, {'component_synonym': 'Synonyms=MGA', 'syn_type': 'GENE_SYMBOL_OTHER'}], 'target_component_xrefs': [{'xref_id': 'O43451', 'xref_name': None, 'xref_src_db': 'AlphaFoldDB'}, {'xref_id': 'O43451', 'xref_name': None, 'xref_src_db': 'ExpressionAtlas'}, {'xref_id': 'GO:0005886', 'xref_name': 'plasma membrane', 'xref_src_db': 'GoComponent'}, {'xref_id': 'GO:0016324', 'xref_name': 'apical plasma membrane', 'xref_src_db': 'GoComponent'}, {'xref_id': 'GO:0070062', 'xref_name': 'extracellular exosome', 'xref_src_db': 'GoComponent'}, {'xref_id': 'GO:0070821', 'xref_name': 'tertiary granule membrane', 'xref_src_db': 'GoComponent'}, {'xref_id': 'GO:0101003', 'xref_name': 'ficolin-1-rich granule membrane', 'xref_src_db': 'GoComponent'}, {'xref_id': 'GO:0003824', 'xref_name': 'catalytic activity', 'xref_src_db': 'GoFunction'}, {'xref_id': 'GO:0004339', 'xref_name': 'glucan 1,4-alpha-glucosidase activity', 'xref_src_db': 'GoFunction'}, {'xref_id': 'GO:0004553', 'xref_name': 'hydrolase activity, hydrolyzing O-glycosyl compounds', 'xref_src_db': 'GoFunction'}, {'xref_id': 'GO:0004558', 'xref_name': 'alpha-1,4-glucosidase activity', 'xref_src_db': 'GoFunction'}, {'xref_id': 'GO:0004574', 'xref_name': 'oligo-1,6-glucosidase activity', 'xref_src_db': 'GoFunction'}, {'xref_id': 'GO:0005515', 'xref_name': 'protein binding', 'xref_src_db': 'GoFunction'}, {'xref_id': 'GO:0016160', 'xref_name': 'amylase activity', 'xref_src_db': 'GoFunction'}, {'xref_id': 'GO:0016798', 'xref_name': 'hydrolase activity, acting on glycosyl bonds', 'xref_src_db': 'GoFunction'}, {'xref_id': 'GO:0030246', 'xref_name': 'carbohydrate binding', 'xref_src_db': 'GoFunction'}, {'xref_id': 'GO:0090599', 'xref_name': 'alpha-glucosidase activity', 'xref_src_db': 'GoFunction'}, {'xref_id': 'GO:0000025', 'xref_name': 'maltose catabolic process', 'xref_src_db': 'GoProcess'}, {'xref_id': 'GO:0005975', 'xref_name': 'carbohydrate metabolic process', 'xref_src_db': 'GoProcess'}, {'xref_id': 'GO:0005983', 'xref_name': 'starch catabolic process', 'xref_src_db': 'GoProcess'}, {'xref_id': 'GO:1901027', 'xref_name': 'dextrin catabolic process', 'xref_src_db': 'GoProcess'}, {'xref_id': 'HGNC:7043', 'xref_name': 'MGAM', 'xref_src_db': 'HGNC'}, {'xref_id': 'O43451', 'xref_name': None, 'xref_src_db': 'IntAct'}, {'xref_id': 'IPR000322', 'xref_name': 'Glyco_hydro_31_TIM', 'xref_src_db': 'InterPro'}, {'xref_id': 'IPR000519', 'xref_name': 'P_trefoil_dom', 'xref_src_db': 'InterPro'}, {'xref_id': 'IPR011013', 'xref_name': 'Gal_mutarotase_sf_dom', 'xref_src_db': 'InterPro'}, {'xref_id': 'IPR013780', 'xref_name': 'Glyco_hydro_b', 'xref_src_db': 'InterPro'}, {'xref_id': 'IPR017853', 'xref_name': 'Glycoside_hydrolase_SF', 'xref_src_db': 'InterPro'}, {'xref_id': 'IPR017957', 'xref_name': 'P_trefoil_CS', 'xref_src_db': 'InterPro'}, {'xref_id': 'IPR025887', 'xref_name': 'Glyco_hydro_31_N_dom', 'xref_src_db': 'InterPro'}, {'xref_id': 'IPR030458', 'xref_name': 'Glyco_hydro_31_AS', 'xref_src_db': 'InterPro'}, {'xref_id': 'IPR030459', 'xref_name': 'Glyco_hydro_31_CS', 'xref_src_db': 'InterPro'}, {'xref_id': 'IPR044913', 'xref_name': 'P_trefoil_dom_sf', 'xref_src_db': 'InterPro'}, {'xref_id': 'IPR048395', 'xref_name': 'Glyco_hydro_31_C', 'xref_src_db': 'InterPro'}, {'xref_id': 'PTHR22762', 'xref_name': 'ALPHA-GLUCOSIDASE', 'xref_src_db': 'PANTHER'}, {'xref_id': 'PTHR22762:SF168', 'xref_name': 'P-TYPE DOMAIN-CONTAINING PROTEIN', 'xref_src_db': 'PANTHER'}, {'xref_id': '2QLY', 'xref_name': None, 'xref_src_db': 'PDB'}, {'xref_id': '2QMJ', 'xref_name': None, 'xref_src_db': 'PDB'}, {'xref_id': '3CTT', 'xref_name': None, 'xref_src_db': 'PDB'}, {'xref_id': '3L4T', 'xref_name': None, 'xref_src_db': 'PDB'}, {'xref_id': '3L4U', 'xref_name': None, 'xref_src_db': 'PDB'}, {'xref_id': '3L4V', 'xref_name': None, 'xref_src_db': 'PDB'}, {'xref_id': '3L4W', 'xref_name': None, 'xref_src_db': 'PDB'}, {'xref_id': '3L4X', 'xref_name': None, 'xref_src_db': 'PDB'}, {'xref_id': '3L4Y', 'xref_name': None, 'xref_src_db': 'PDB'}, {'xref_id': '3L4Z', 'xref_name': None, 'xref_src_db': 'PDB'}, {'xref_id': '3TON', 'xref_name': None, 'xref_src_db': 'PDB'}, {'xref_id': '3TOP', 'xref_name': None, 'xref_src_db': 'PDB'}, {'xref_id': 'PF00088', 'xref_name': 'Trefoil', 'xref_src_db': 'Pfam'}, {'xref_id': 'PF01055', 'xref_name': 'Glyco_hydro_31_2nd', 'xref_src_db': 'Pfam'}, {'xref_id': 'PF13802', 'xref_name': 'Gal_mutarotas_2', 'xref_src_db': 'Pfam'}, {'xref_id': 'PF21365', 'xref_name': 'Glyco_hydro_31_3rd', 'xref_src_db': 'Pfam'}, {'xref_id': 'PA30778', 'xref_name': 'maltase-glucoamylase', 'xref_src_db': 'PharmGKB'}, {'xref_id': 'O43451', 'xref_name': None, 'xref_src_db': 'Pharos'}, {'xref_id': 'R-HSA-189085', 'xref_name': 'Digestion of dietary carbohydrate', 'xref_src_db': 'Reactome'}, {'xref_id': 'R-HSA-6798695', 'xref_name': 'Neutrophil degranulation', 'xref_src_db': 'Reactome'}, {'xref_id': 'E7ER45', 'xref_name': 'Maltase-glucoamylase', 'xref_src_db': 'UniProt'}, {'xref_id': 'O43451', 'xref_name': 'Maltase-glucoamylase', 'xref_src_db': 'UniProt'}, {'xref_id': 'Q0VAX6', 'xref_name': 'Maltase-glucoamylase', 'xref_src_db': 'UniProt'}, {'xref_id': 'Q75ME7', 'xref_name': 'Maltase-glucoamylase', 'xref_src_db': 'UniProt'}, {'xref_id': 'Q86UM5', 'xref_name': 'Maltase-glucoamylase', 'xref_src_db': 'UniProt'}]}]}, {'pref_name': 'Sulfonylurea receptor 2', 'target_chembl_id': 'CHEMBL1971', 'target_components': [{'accession': 'O60706', 'component_description': 'ATP-binding cassette sub-family C member 9', 'component_id': 294, 'component_type': 'PROTEIN', 'relationship': 'SINGLE PROTEIN', 'target_component_synonyms': [{'component_synonym': 'ABCC9', 'syn_type': 'GENE_SYMBOL'}, {'component_synonym': 'ATP-binding cassette sub-family C member 9', 'syn_type': 'UNIPROT'}, {'component_synonym': 'Sulfonylurea receptor 2', 'syn_type': 'UNIPROT'}, {'component_synonym': 'SUR2', 'syn_type': 'GENE_SYMBOL_OTHER'}], 'target_component_xrefs': [{'xref_id': 'O60706', 'xref_name': None, 'xref_src_db': 'AlphaFoldDB'}, {'xref_id': 'O60706', 'xref_name': None, 'xref_src_db': 'ExpressionAtlas'}, {'xref_id': 'GO:0005737', 'xref_name': 'cytoplasm', 'xref_src_db': 'GoComponent'}, {'xref_id': 'GO:0005739', 'xref_name': 'mitochondrion', 'xref_src_db': 'GoComponent'}, {'xref_id': 'GO:0005886', 'xref_name': 'plasma membrane', 'xref_src_db': 'GoComponent'}, {'xref_id': 'GO:0008282', 'xref_name': 'inward rectifying potassium channel', 'xref_src_db': 'GoComponent'}, {'xref_id': 'GO:0016020', 'xref_name': 'membrane', 'xref_src_db': 'GoComponent'}, {'xref_id': 'GO:0030017', 'xref_name': 'sarcomere', 'xref_src_db': 'GoComponent'}, {'xref_id': 'GO:0031004', 'xref_name': 'potassium ion-transporting ATPase complex', 'xref_src_db': 'GoComponent'}, {'xref_id': 'GO:0032991', 'xref_name': 'protein-containing complex', 'xref_src_db': 'GoComponent'}, {'xref_id': 'GO:0042383', 'xref_name': 'sarcolemma', 'xref_src_db': 'GoComponent'}, {'xref_id': 'GO:0005267', 'xref_name': 'potassium channel activity', 'xref_src_db': 'GoFunction'}, {'xref_id': 'GO:0005524', 'xref_name': 'ATP binding', 'xref_src_db': 'GoFunction'}, {'xref_id': 'GO:0008281', 'xref_name': 'sulfonylurea receptor activity', 'xref_src_db': 'GoFunction'}, {'xref_id': 'GO:0015272', 'xref_name': 'ATP-activated inward rectifier potassium channel activity', 'xref_src_db': 'GoFunction'}, {'xref_id': 'GO:0016887', 'xref_name': 'ATP hydrolysis activity', 'xref_src_db': 'GoFunction'}, {'xref_id': 'GO:0019829', 'xref_name': 'ATPase-coupled monoatomic cation transmembrane transporter activity', 'xref_src_db': 'GoFunction'}, {'xref_id': 'GO:0042626', 'xref_name': 'ATPase-coupled transmembrane transporter activity', 'xref_src_db': 'GoFunction'}, {'xref_id': 'GO:0043225', 'xref_name': 'ATPase-coupled inorganic anion transmembrane transporter activity', 'xref_src_db': 'GoFunction'}, {'xref_id': 'GO:0044325', 'xref_name': 'transmembrane transporter binding', 'xref_src_db': 'GoFunction'}, {'xref_id': 'GO:0140359', 'xref_name': 'ABC-type transporter activity', 'xref_src_db': 'GoFunction'}, {'xref_id': 'GO:0000165', 'xref_name': 'MAPK cascade', 'xref_src_db': 'GoProcess'}, {'xref_id': 'GO:0001508', 'xref_name': 'action potential', 'xref_src_db': 'GoProcess'}, {'xref_id': 'GO:0001568', 'xref_name': 'blood vessel development', 'xref_src_db': 'GoProcess'}, {'xref_id': 'GO:0001666', 'xref_name': 'response to hypoxia', 'xref_src_db': 'GoProcess'}, {'xref_id': 'GO:0003007', 'xref_name': 'heart morphogenesis', 'xref_src_db': 'GoProcess'}, {'xref_id': 'GO:0003018', 'xref_name': 'vascular process in circulatory system', 'xref_src_db': 'GoProcess'}, {'xref_id': 'GO:0006813', 'xref_name': 'potassium ion transport', 'xref_src_db': 'GoProcess'}, {'xref_id': 'GO:0006950', 'xref_name': 'response to stress', 'xref_src_db': 'GoProcess'}, {'xref_id': 'GO:0007005', 'xref_name': 'mitochondrion organization', 'xref_src_db': 'GoProcess'}, {'xref_id': 'GO:0007507', 'xref_name': 'heart development', 'xref_src_db': 'GoProcess'}, {'xref_id': 'GO:0007519', 'xref_name': 'skeletal muscle tissue development', 'xref_src_db': 'GoProcess'}, {'xref_id': 'GO:0008015', 'xref_name': 'blood circulation', 'xref_src_db': 'GoProcess'}, {'xref_id': 'GO:0008217', 'xref_name': 'regulation of blood pressure', 'xref_src_db': 'GoProcess'}, {'xref_id': 'GO:0019395', 'xref_name': 'fatty acid oxidation', 'xref_src_db': 'GoProcess'}, {'xref_id': 'GO:0035865', 'xref_name': 'cellular response to potassium ion', 'xref_src_db': 'GoProcess'}, {'xref_id': 'GO:0042311', 'xref_name': 'vasodilation', 'xref_src_db': 'GoProcess'}, {'xref_id': 'GO:0042391', 'xref_name': 'regulation of membrane potential', 'xref_src_db': 'GoProcess'}, {'xref_id': 'GO:0042542', 'xref_name': 'response to hydrogen peroxide', 'xref_src_db': 'GoProcess'}, {'xref_id': 'GO:0043066', 'xref_name': 'negative regulation of apoptotic process', 'xref_src_db': 'GoProcess'}, {'xref_id': 'GO:0045333', 'xref_name': 'cellular respiration', 'xref_src_db': 'GoProcess'}, {'xref_id': 'GO:0045776', 'xref_name': 'negative regulation of blood pressure', 'xref_src_db': 'GoProcess'}, {'xref_id': 'GO:0046034', 'xref_name': 'ATP metabolic process', 'xref_src_db': 'GoProcess'}, {'xref_id': 'GO:0048144', 'xref_name': 'fibroblast proliferation', 'xref_src_db': 'GoProcess'}, {'xref_id': 'GO:0055085', 'xref_name': 'transmembrane transport', 'xref_src_db': 'GoProcess'}, {'xref_id': 'GO:0060976', 'xref_name': 'coronary vasculature development', 'xref_src_db': 'GoProcess'}, {'xref_id': 'GO:0061337', 'xref_name': 'cardiac conduction', 'xref_src_db': 'GoProcess'}, {'xref_id': 'GO:0062197', 'xref_name': 'cellular response to chemical stress', 'xref_src_db': 'GoProcess'}, {'xref_id': 'GO:0071277', 'xref_name': 'cellular response to calcium ion', 'xref_src_db': 'GoProcess'}, {'xref_id': 'GO:0071318', 'xref_name': 'cellular response to ATP', 'xref_src_db': 'GoProcess'}, {'xref_id': 'GO:0071466', 'xref_name': 'cellular response to xenobiotic stimulus', 'xref_src_db': 'GoProcess'}, {'xref_id': 'GO:0071805', 'xref_name': 'potassium ion transmembrane transport', 'xref_src_db': 'GoProcess'}, {'xref_id': 'GO:0072359', 'xref_name': 'circulatory system development', 'xref_src_db': 'GoProcess'}, {'xref_id': 'GO:0072592', 'xref_name': 'oxygen metabolic process', 'xref_src_db': 'GoProcess'}, {'xref_id': 'GO:0086003', 'xref_name': 'cardiac muscle cell contraction', 'xref_src_db': 'GoProcess'}, {'xref_id': 'GO:0097746', 'xref_name': 'blood vessel diameter maintenance', 'xref_src_db': 'GoProcess'}, {'xref_id': 'GO:0098655', 'xref_name': 'monoatomic cation transmembrane transport', 'xref_src_db': 'GoProcess'}, {'xref_id': 'GO:0098656', 'xref_name': 'monoatomic anion transmembrane transport', 'xref_src_db': 'GoProcess'}, {'xref_id': 'GO:0098662', 'xref_name': 'inorganic cation transmembrane transport', 'xref_src_db': 'GoProcess'}, {'xref_id': 'GO:0150104', 'xref_name': 'transport across blood-brain barrier', 'xref_src_db': 'GoProcess'}, {'xref_id': 'GO:1901379', 'xref_name': 'regulation of potassium ion transmembrane transport', 'xref_src_db': 'GoProcess'}, {'xref_id': 'GO:1903409', 'xref_name': 'reactive oxygen species biosynthetic process', 'xref_src_db': 'GoProcess'}, {'xref_id': 'GO:1990573', 'xref_name': 'potassium ion import across plasma membrane', 'xref_src_db': 'GoProcess'}, {'xref_id': 'HGNC:60', 'xref_name': 'ABCC9', 'xref_src_db': 'HGNC'}, {'xref_id': 'O60706', 'xref_name': None, 'xref_src_db': 'IntAct'}, {'xref_id': 'IPR000388', 'xref_name': 'ABCC8/9', 'xref_src_db': 'InterPro'}, {'xref_id': 'IPR001475', 'xref_name': 'ABCC9', 'xref_src_db': 'InterPro'}, {'xref_id': 'IPR003439', 'xref_name': 'ABC_transporter-like_ATP-bd', 'xref_src_db': 'InterPro'}, {'xref_id': 'IPR003593', 'xref_name': 'AAA+_ATPase', 'xref_src_db': 'InterPro'}, {'xref_id': 'IPR011527', 'xref_name': 'ABC1_TM_dom', 'xref_src_db': 'InterPro'}, {'xref_id': 'IPR017871', 'xref_name': 'ABC_transporter-like_CS', 'xref_src_db': 'InterPro'}, {'xref_id': 'IPR027417', 'xref_name': 'P-loop_NTPase', 'xref_src_db': 'InterPro'}, {'xref_id': 'IPR036640', 'xref_name': 'ABC1_TM_sf', 'xref_src_db': 'InterPro'}, {'xref_id': 'IPR047080', 'xref_name': 'ABCC9_ATP-bd_dom1', 'xref_src_db': 'InterPro'}, {'xref_id': 'IPR050173', 'xref_name': 'ABC_transporter_C', 'xref_src_db': 'InterPro'}, {'xref_id': 'PTHR24223', 'xref_name': 'ATP-BINDING CASSETTE SUB-FAMILY C', 'xref_src_db': 'PANTHER'}, {'xref_id': 'PTHR24223:SF173', 'xref_name': 'ATP-BINDING CASSETTE SUB-FAMILY C MEMBER 9', 'xref_src_db': 'PANTHER'}, {'xref_id': 'PF00005', 'xref_name': 'ABC_tran', 'xref_src_db': 'Pfam'}, {'xref_id': 'PF00664', 'xref_name': 'ABC_membrane', 'xref_src_db': 'Pfam'}, {'xref_id': 'PA396', 'xref_name': 'ATP binding cassette subfamily C member 9', 'xref_src_db': 'PharmGKB'}, {'xref_id': 'O60706', 'xref_name': None, 'xref_src_db': 'Pharos'}, {'xref_id': 'R-HSA-1296025', 'xref_name': 'ATP sensitive Potassium channels', 'xref_src_db': 'Reactome'}, {'xref_id': 'R-HSA-382556', 'xref_name': 'ABC-family proteins mediated transport', 'xref_src_db': 'Reactome'}, {'xref_id': 'R-HSA-5578775', 'xref_name': 'Ion homeostasis', 'xref_src_db': 'Reactome'}, {'xref_id': 'R-HSA-5678420', 'xref_name': 'Defective ABCC9 causes CMD10, ATFB12 and Cantu syndrome', 'xref_src_db': 'Reactome'}, {'xref_id': 'O60706', 'xref_name': 'ATP-binding cassette sub-family C member 9', 'xref_src_db': 'UniProt'}, {'xref_id': 'O60707', 'xref_name': 'ATP-binding cassette sub-family C member 9', 'xref_src_db': 'UniProt'}]}]}, {'pref_name': 'Phosphodiesterase 5A', 'target_chembl_id': 'CHEMBL1827', 'target_components': [{'accession': 'O76074', 'component_description': \"cGMP-specific 3',5'-cyclic phosphodiesterase\", 'component_id': 124, 'component_type': 'PROTEIN', 'relationship': 'SINGLE PROTEIN', 'target_component_synonyms': [{'component_synonym': '3.1.4.35', 'syn_type': 'EC_NUMBER'}, {'component_synonym': 'CGB-PDE', 'syn_type': 'UNIPROT'}, {'component_synonym': 'cGMP-binding cGMP-specific phosphodiesterase', 'syn_type': 'UNIPROT'}, {'component_synonym': \"cGMP-specific 3',5'-cyclic phosphodiesterase\", 'syn_type': 'UNIPROT'}, {'component_synonym': 'PDE5', 'syn_type': 'GENE_SYMBOL_OTHER'}, {'component_synonym': 'PDE5A', 'syn_type': 'GENE_SYMBOL'}], 'target_component_xrefs': [{'xref_id': 'O76074', 'xref_name': None, 'xref_src_db': 'AlphaFoldDB'}, {'xref_id': 'O76074', 'xref_name': None, 'xref_src_db': 'ExpressionAtlas'}, {'xref_id': 'GO:0005829', 'xref_name': 'cytosol', 'xref_src_db': 'GoComponent'}, {'xref_id': 'GO:0004112', 'xref_name': 'cyclic-nucleotide phosphodiesterase activity', 'xref_src_db': 'GoFunction'}, {'xref_id': 'GO:0004114', 'xref_name': \"3',5'-cyclic-nucleotide phosphodiesterase activity\", 'xref_src_db': 'GoFunction'}, {'xref_id': 'GO:0004115', 'xref_name': \"3',5'-cyclic-AMP phosphodiesterase activity\", 'xref_src_db': 'GoFunction'}, {'xref_id': 'GO:0004117', 'xref_name': \"calmodulin-activated dual specificity 3',5'-cyclic-GMP, 3',5'-cyclic-AMP phosphodiesterase activity\", 'xref_src_db': 'GoFunction'}, {'xref_id': 'GO:0005515', 'xref_name': 'protein binding', 'xref_src_db': 'GoFunction'}, {'xref_id': 'GO:0016787', 'xref_name': 'hydrolase activity', 'xref_src_db': 'GoFunction'}, {'xref_id': 'GO:0030553', 'xref_name': 'cGMP binding', 'xref_src_db': 'GoFunction'}, {'xref_id': 'GO:0046872', 'xref_name': 'metal ion binding', 'xref_src_db': 'GoFunction'}, {'xref_id': 'GO:0047555', 'xref_name': \"3',5'-cyclic-GMP phosphodiesterase activity\", 'xref_src_db': 'GoFunction'}, {'xref_id': 'GO:0048101', 'xref_name': \"calmodulin-activated 3',5'-cyclic-GMP phosphodiesterase activity\", 'xref_src_db': 'GoFunction'}, {'xref_id': 'GO:0007165', 'xref_name': 'signal transduction', 'xref_src_db': 'GoProcess'}, {'xref_id': 'GO:0010613', 'xref_name': 'positive regulation of cardiac muscle hypertrophy', 'xref_src_db': 'GoProcess'}, {'xref_id': 'GO:0010749', 'xref_name': 'regulation of nitric oxide mediated signal transduction', 'xref_src_db': 'GoProcess'}, {'xref_id': 'GO:0019933', 'xref_name': 'cAMP-mediated signaling', 'xref_src_db': 'GoProcess'}, {'xref_id': 'GO:0042098', 'xref_name': 'T cell proliferation', 'xref_src_db': 'GoProcess'}, {'xref_id': 'GO:0042130', 'xref_name': 'negative regulation of T cell proliferation', 'xref_src_db': 'GoProcess'}, {'xref_id': 'GO:0046068', 'xref_name': 'cGMP metabolic process', 'xref_src_db': 'GoProcess'}, {'xref_id': 'GO:0046069', 'xref_name': 'cGMP catabolic process', 'xref_src_db': 'GoProcess'}, {'xref_id': 'GO:0048599', 'xref_name': 'oocyte development', 'xref_src_db': 'GoProcess'}, {'xref_id': 'GO:0055118', 'xref_name': 'negative regulation of cardiac muscle contraction', 'xref_src_db': 'GoProcess'}, {'xref_id': 'GO:0060282', 'xref_name': 'positive regulation of oocyte development', 'xref_src_db': 'GoProcess'}, {'xref_id': 'HGNC:8784', 'xref_name': 'PDE5A', 'xref_src_db': 'HGNC'}, {'xref_id': 'O76074', 'xref_name': None, 'xref_src_db': 'IntAct'}, {'xref_id': 'IPR002073', 'xref_name': 'PDEase_catalytic_dom', 'xref_src_db': 'InterPro'}, {'xref_id': 'IPR003018', 'xref_name': 'GAF', 'xref_src_db': 'InterPro'}, {'xref_id': 'IPR003607', 'xref_name': 'HD/PDEase_dom', 'xref_src_db': 'InterPro'}, {'xref_id': 'IPR023088', 'xref_name': 'PDEase', 'xref_src_db': 'InterPro'}, {'xref_id': 'IPR023174', 'xref_name': 'PDEase_CS', 'xref_src_db': 'InterPro'}, {'xref_id': 'IPR029016', 'xref_name': 'GAF-like_dom_sf', 'xref_src_db': 'InterPro'}, {'xref_id': 'IPR036971', 'xref_name': 'PDEase_catalytic_dom_sf', 'xref_src_db': 'InterPro'}, {'xref_id': 'PTHR11347', 'xref_name': 'CYCLIC NUCLEOTIDE PHOSPHODIESTERASE', 'xref_src_db': 'PANTHER'}, {'xref_id': 'PTHR11347:SF230', 'xref_name': \"HIGH AFFINITY CGMP-SPECIFIC 3',5'-CYCLIC PHOSPHODIESTERASE 9A\", 'xref_src_db': 'PANTHER'}, {'xref_id': '1RKP', 'xref_name': None, 'xref_src_db': 'PDB'}, {'xref_id': '1T9R', 'xref_name': None, 'xref_src_db': 'PDB'}, {'xref_id': '1T9S', 'xref_name': None, 'xref_src_db': 'PDB'}, {'xref_id': '1TBF', 'xref_name': None, 'xref_src_db': 'PDB'}, {'xref_id': '1UDT', 'xref_name': None, 'xref_src_db': 'PDB'}, {'xref_id': '1UDU', 'xref_name': None, 'xref_src_db': 'PDB'}, {'xref_id': '1UHO', 'xref_name': None, 'xref_src_db': 'PDB'}, {'xref_id': '1XOZ', 'xref_name': None, 'xref_src_db': 'PDB'}, {'xref_id': '1XP0', 'xref_name': None, 'xref_src_db': 'PDB'}, {'xref_id': '2CHM', 'xref_name': None, 'xref_src_db': 'PDB'}, {'xref_id': '2H40', 'xref_name': None, 'xref_src_db': 'PDB'}, {'xref_id': '2H42', 'xref_name': None, 'xref_src_db': 'PDB'}, {'xref_id': '2H44', 'xref_name': None, 'xref_src_db': 'PDB'}, {'xref_id': '2XSS', 'xref_name': None, 'xref_src_db': 'PDB'}, {'xref_id': '3B2R', 'xref_name': None, 'xref_src_db': 'PDB'}, {'xref_id': '3BJC', 'xref_name': None, 'xref_src_db': 'PDB'}, {'xref_id': '3HC8', 'xref_name': None, 'xref_src_db': 'PDB'}, {'xref_id': '3HDZ', 'xref_name': None, 'xref_src_db': 'PDB'}, {'xref_id': '3JWQ', 'xref_name': None, 'xref_src_db': 'PDB'}, {'xref_id': '3JWR', 'xref_name': None, 'xref_src_db': 'PDB'}, {'xref_id': '3LFV', 'xref_name': None, 'xref_src_db': 'PDB'}, {'xref_id': '3MF0', 'xref_name': None, 'xref_src_db': 'PDB'}, {'xref_id': '3SHY', 'xref_name': None, 'xref_src_db': 'PDB'}, {'xref_id': '3SHZ', 'xref_name': None, 'xref_src_db': 'PDB'}, {'xref_id': '3SIE', 'xref_name': None, 'xref_src_db': 'PDB'}, {'xref_id': '3TGE', 'xref_name': None, 'xref_src_db': 'PDB'}, {'xref_id': '3TGG', 'xref_name': None, 'xref_src_db': 'PDB'}, {'xref_id': '4G2W', 'xref_name': None, 'xref_src_db': 'PDB'}, {'xref_id': '4G2Y', 'xref_name': None, 'xref_src_db': 'PDB'}, {'xref_id': '4I9Z', 'xref_name': None, 'xref_src_db': 'PDB'}, {'xref_id': '4IA0', 'xref_name': None, 'xref_src_db': 'PDB'}, {'xref_id': '4MD6', 'xref_name': None, 'xref_src_db': 'PDB'}, {'xref_id': '4OEW', 'xref_name': None, 'xref_src_db': 'PDB'}, {'xref_id': '4OEX', 'xref_name': None, 'xref_src_db': 'PDB'}, {'xref_id': '5JO3', 'xref_name': None, 'xref_src_db': 'PDB'}, {'xref_id': '5ZZ2', 'xref_name': None, 'xref_src_db': 'PDB'}, {'xref_id': '6ACB', 'xref_name': None, 'xref_src_db': 'PDB'}, {'xref_id': '6IWI', 'xref_name': None, 'xref_src_db': 'PDB'}, {'xref_id': '6L6E', 'xref_name': None, 'xref_src_db': 'PDB'}, {'xref_id': '6VBI', 'xref_name': None, 'xref_src_db': 'PDB'}, {'xref_id': '7FAQ', 'xref_name': None, 'xref_src_db': 'PDB'}, {'xref_id': '7FAR', 'xref_name': None, 'xref_src_db': 'PDB'}, {'xref_id': '8W4S', 'xref_name': None, 'xref_src_db': 'PDB'}, {'xref_id': '8W4T', 'xref_name': None, 'xref_src_db': 'PDB'}, {'xref_id': 'PF00233', 'xref_name': 'PDEase_I', 'xref_src_db': 'Pfam'}, {'xref_id': 'PF01590', 'xref_name': 'GAF', 'xref_src_db': 'Pfam'}, {'xref_id': 'PA33132', 'xref_name': 'phosphodiesterase 5A', 'xref_src_db': 'PharmGKB'}, {'xref_id': 'O76074', 'xref_name': None, 'xref_src_db': 'Pharos'}, {'xref_id': 'R-HSA-418457', 'xref_name': 'cGMP effects', 'xref_src_db': 'Reactome'}, {'xref_id': 'R-HSA-445355', 'xref_name': 'Smooth Muscle Contraction', 'xref_src_db': 'Reactome'}, {'xref_id': 'R-HSA-9013422', 'xref_name': 'RHOBTB1 GTPase cycle', 'xref_src_db': 'Reactome'}, {'xref_id': 'A0AV69', 'xref_name': \"cGMP-specific 3',5'-cyclic phosphodiesterase\", 'xref_src_db': 'UniProt'}, {'xref_id': 'A8K2C4', 'xref_name': \"cGMP-specific 3',5'-cyclic phosphodiesterase\", 'xref_src_db': 'UniProt'}, {'xref_id': 'O75026', 'xref_name': \"cGMP-specific 3',5'-cyclic phosphodiesterase\", 'xref_src_db': 'UniProt'}, {'xref_id': 'O75887', 'xref_name': \"cGMP-specific 3',5'-cyclic phosphodiesterase\", 'xref_src_db': 'UniProt'}, {'xref_id': 'O76074', 'xref_name': \"cGMP-specific 3',5'-cyclic phosphodiesterase\", 'xref_src_db': 'UniProt'}, {'xref_id': 'Q86UI0', 'xref_name': \"cGMP-specific 3',5'-cyclic phosphodiesterase\", 'xref_src_db': 'UniProt'}, {'xref_id': 'Q86V66', 'xref_name': \"cGMP-specific 3',5'-cyclic phosphodiesterase\", 'xref_src_db': 'UniProt'}, {'xref_id': 'Q9Y6Z6', 'xref_name': \"cGMP-specific 3',5'-cyclic phosphodiesterase\", 'xref_src_db': 'UniProt'}]}]}, {'pref_name': 'Voltage-gated T-type calcium channel alpha-1H subunit', 'target_chembl_id': 'CHEMBL1859', 'target_components': [{'accession': 'O95180', 'component_description': 'Voltage-dependent T-type calcium channel subunit alpha-1H', 'component_id': 167, 'component_type': 'PROTEIN', 'relationship': 'SINGLE PROTEIN', 'target_component_synonyms': [{'component_synonym': 'CACNA1H', 'syn_type': 'GENE_SYMBOL'}, {'component_synonym': 'Low-voltage-activated calcium channel alpha1 3.2 subunit', 'syn_type': 'UNIPROT'}, {'component_synonym': 'Voltage-dependent T-type calcium channel subunit alpha-1H', 'syn_type': 'UNIPROT'}, {'component_synonym': 'Voltage-gated calcium channel subunit alpha Cav3.2', 'syn_type': 'UNIPROT'}], 'target_component_xrefs': [{'xref_id': 'O95180', 'xref_name': None, 'xref_src_db': 'AlphaFoldDB'}, {'xref_id': 'O95180', 'xref_name': None, 'xref_src_db': 'ExpressionAtlas'}, {'xref_id': 'GO:0005886', 'xref_name': 'plasma membrane', 'xref_src_db': 'GoComponent'}, {'xref_id': 'GO:0005891', 'xref_name': 'voltage-gated calcium channel complex', 'xref_src_db': 'GoComponent'}, {'xref_id': 'GO:0016020', 'xref_name': 'membrane', 'xref_src_db': 'GoComponent'}, {'xref_id': 'GO:0034702', 'xref_name': 'monoatomic ion channel complex', 'xref_src_db': 'GoComponent'}, {'xref_id': 'GO:0005244', 'xref_name': 'voltage-gated monoatomic ion channel activity', 'xref_src_db': 'GoFunction'}, {'xref_id': 'GO:0005245', 'xref_name': 'voltage-gated calcium channel activity', 'xref_src_db': 'GoFunction'}, {'xref_id': 'GO:0005261', 'xref_name': 'monoatomic cation channel activity', 'xref_src_db': 'GoFunction'}, {'xref_id': 'GO:0005262', 'xref_name': 'calcium channel activity', 'xref_src_db': 'GoFunction'}, {'xref_id': 'GO:0005515', 'xref_name': 'protein binding', 'xref_src_db': 'GoFunction'}, {'xref_id': 'GO:0008331', 'xref_name': 'high voltage-gated calcium channel activity', 'xref_src_db': 'GoFunction'}, {'xref_id': 'GO:0008332', 'xref_name': 'low voltage-gated calcium channel activity', 'xref_src_db': 'GoFunction'}, {'xref_id': 'GO:0046872', 'xref_name': 'metal ion binding', 'xref_src_db': 'GoFunction'}, {'xref_id': 'GO:0046873', 'xref_name': 'metal ion transmembrane transporter activity', 'xref_src_db': 'GoFunction'}, {'xref_id': 'GO:0097110', 'xref_name': 'scaffold protein binding', 'xref_src_db': 'GoFunction'}, {'xref_id': 'GO:0007517', 'xref_name': 'muscle organ development', 'xref_src_db': 'GoProcess'}, {'xref_id': 'GO:0007520', 'xref_name': 'myoblast fusion', 'xref_src_db': 'GoProcess'}, {'xref_id': 'GO:0008016', 'xref_name': 'regulation of heart contraction', 'xref_src_db': 'GoProcess'}, {'xref_id': 'GO:0032342', 'xref_name': 'aldosterone biosynthetic process', 'xref_src_db': 'GoProcess'}, {'xref_id': 'GO:0032870', 'xref_name': 'cellular response to hormone stimulus', 'xref_src_db': 'GoProcess'}, {'xref_id': 'GO:0034651', 'xref_name': 'cortisol biosynthetic process', 'xref_src_db': 'GoProcess'}, {'xref_id': 'GO:0035865', 'xref_name': 'cellular response to potassium ion', 'xref_src_db': 'GoProcess'}, {'xref_id': 'GO:0042391', 'xref_name': 'regulation of membrane potential', 'xref_src_db': 'GoProcess'}, {'xref_id': 'GO:0070509', 'xref_name': 'calcium ion import', 'xref_src_db': 'GoProcess'}, {'xref_id': 'GO:0070588', 'xref_name': 'calcium ion transmembrane transport', 'xref_src_db': 'GoProcess'}, {'xref_id': 'GO:0098662', 'xref_name': 'inorganic cation transmembrane transport', 'xref_src_db': 'GoProcess'}, {'xref_id': 'GO:0098703', 'xref_name': 'calcium ion import across plasma membrane', 'xref_src_db': 'GoProcess'}, {'xref_id': 'GO:2000344', 'xref_name': 'positive regulation of acrosome reaction', 'xref_src_db': 'GoProcess'}, {'xref_id': 'HGNC:1395', 'xref_name': 'CACNA1H', 'xref_src_db': 'HGNC'}, {'xref_id': 'O95180', 'xref_name': None, 'xref_src_db': 'IntAct'}, {'xref_id': 'IPR005445', 'xref_name': 'VDCC_T_a1', 'xref_src_db': 'InterPro'}, {'xref_id': 'IPR005821', 'xref_name': 'Ion_trans_dom', 'xref_src_db': 'InterPro'}, {'xref_id': 'IPR027359', 'xref_name': 'Volt_channel_dom_sf', 'xref_src_db': 'InterPro'}, {'xref_id': 'IPR043203', 'xref_name': 'VGCC_Ca_Na', 'xref_src_db': 'InterPro'}, {'xref_id': 'PTHR10037', 'xref_name': 'VOLTAGE-GATED CATION CHANNEL CALCIUM AND SODIUM', 'xref_src_db': 'PANTHER'}, {'xref_id': 'PTHR10037:SF192', 'xref_name': 'VOLTAGE-DEPENDENT T-TYPE CALCIUM CHANNEL SUBUNIT ALPHA-1H', 'xref_src_db': 'PANTHER'}, {'xref_id': '9AYG', 'xref_name': None, 'xref_src_db': 'PDB'}, {'xref_id': '9AYH', 'xref_name': None, 'xref_src_db': 'PDB'}, {'xref_id': '9AYJ', 'xref_name': None, 'xref_src_db': 'PDB'}, {'xref_id': '9AYK', 'xref_name': None, 'xref_src_db': 'PDB'}, {'xref_id': '9AYL', 'xref_name': None, 'xref_src_db': 'PDB'}, {'xref_id': 'PF00520', 'xref_name': 'Ion_trans', 'xref_src_db': 'Pfam'}, {'xref_id': 'PA380', 'xref_name': 'calcium voltage-gated channel subunit alpha1 H', 'xref_src_db': 'PharmGKB'}, {'xref_id': 'O95180', 'xref_name': None, 'xref_src_db': 'Pharos'}, {'xref_id': 'R-HSA-419037', 'xref_name': 'NCAM1 interactions', 'xref_src_db': 'Reactome'}, {'xref_id': 'R-HSA-445355', 'xref_name': 'Smooth Muscle Contraction', 'xref_src_db': 'Reactome'}, {'xref_id': 'B5ME00', 'xref_name': 'Voltage-dependent T-type calcium channel subunit alpha-1H', 'xref_src_db': 'UniProt'}, {'xref_id': 'F8WFD1', 'xref_name': 'Voltage-dependent T-type calcium channel subunit alpha-1H', 'xref_src_db': 'UniProt'}, {'xref_id': 'O95180', 'xref_name': 'Voltage-dependent T-type calcium channel subunit alpha-1H', 'xref_src_db': 'UniProt'}, {'xref_id': 'O95802', 'xref_name': 'Voltage-dependent T-type calcium channel subunit alpha-1H', 'xref_src_db': 'UniProt'}, {'xref_id': 'Q8WWI6', 'xref_name': 'Voltage-dependent T-type calcium channel subunit alpha-1H', 'xref_src_db': 'UniProt'}, {'xref_id': 'Q96QI6', 'xref_name': 'Voltage-dependent T-type calcium channel subunit alpha-1H', 'xref_src_db': 'UniProt'}, {'xref_id': 'Q96RZ9', 'xref_name': 'Voltage-dependent T-type calcium channel subunit alpha-1H', 'xref_src_db': 'UniProt'}, {'xref_id': 'Q9NYY4', 'xref_name': 'Voltage-dependent T-type calcium channel subunit alpha-1H', 'xref_src_db': 'UniProt'}, {'xref_id': 'Q9NYY5', 'xref_name': 'Voltage-dependent T-type calcium channel subunit alpha-1H', 'xref_src_db': 'UniProt'}]}]}, '...(remaining elements truncated)...']\n",
      "<class 'chembl_webresource_client.query_set.QuerySet'>\n"
     ]
    }
   ],
   "source": [
    "# pip install chembl-webresource-client pandas tqdm rdkit-pypi\n",
    "from chembl_webresource_client.new_client import new_client\n",
    "import pandas as pd\n",
    "from tqdm import tqdm\n",
    "import random\n",
    "from collections import defaultdict\n",
    "\n",
    "# ---------- knobs (tune scale here) ----------\n",
    "MAX_TARGETS            = 20      # ~80 human single proteins\n",
    "MIN_ACTS_PER_TARGET    = 80      # skip sparse targets\n",
    "MAX_ACTS_PER_TARGET    = 400     # cap per target to keep it light\n",
    "MAKE_BALANCED_1TO1     = True    # add random negatives to balance\n",
    "RAND_SEED              = 42\n",
    "# --------------------------------------------\n",
    "\n",
    "random.seed(RAND_SEED)\n",
    "\n",
    "# Sanity: show that 'target_component' exists (not 'component')\n",
    "# print('has target_component?', hasattr(new_client, 'target_component'))\n",
    "\n",
    "target_api   = new_client.target\n",
    "act_api      = new_client.activity\n",
    "assay_api    = new_client.assay\n",
    "mol_api      = new_client.molecule\n",
    "tcomp_api    = new_client.target_component\n",
    "\n",
    "# 1) pick human single-protein targets\n",
    "targets = target_api.filter(target_type='SINGLE PROTEIN', organism='Homo sapiens') \\\n",
    "                    .only(['target_chembl_id','pref_name','target_components'])\n",
    "\n",
    "print(targets)\n",
    "print(type(targets))\n",
    "\n",
    "# Shuffle for diversity and iterate\n",
    "# targets = list(targets)\n"
   ]
  },
  {
   "cell_type": "code",
   "execution_count": 10,
   "id": "d08d4fcd",
   "metadata": {},
   "outputs": [
    {
     "name": "stdout",
     "output_type": "stream",
     "text": [
      "TOTAL SINGLE PROTEIN organism 'Homo sapiens':  4387\n",
      "sample : {'pref_name': 'Maltase-glucoamylase', 'target_chembl_id': 'CHEMBL2074', 'target_components': [{'accession': 'O43451', 'component_description': 'Maltase-glucoamylase', 'component_id': 434, 'component_type': 'PROTEIN', 'relationship': 'SINGLE PROTEIN', 'target_component_synonyms': [{'component_synonym': '3.2.1.20', 'syn_type': 'EC_NUMBER'}, {'component_synonym': 'Alpha-1,4-glucosidase', 'syn_type': 'UNIPROT'}, {'component_synonym': 'Maltase-glucoamylase', 'syn_type': 'UNIPROT'}, {'component_synonym': 'MGA', 'syn_type': 'GENE_SYMBOL_OTHER'}, {'component_synonym': 'MGAM', 'syn_type': 'GENE_SYMBOL'}, {'component_synonym': 'MGAML', 'syn_type': 'GENE_SYMBOL_OTHER'}, {'component_synonym': 'Synonyms=MGA', 'syn_type': 'GENE_SYMBOL_OTHER'}], 'target_component_xrefs': [{'xref_id': 'O43451', 'xref_name': None, 'xref_src_db': 'AlphaFoldDB'}, {'xref_id': 'O43451', 'xref_name': None, 'xref_src_db': 'ExpressionAtlas'}, {'xref_id': 'GO:0005886', 'xref_name': 'plasma membrane', 'xref_src_db': 'GoComponent'}, {'xref_id': 'GO:0016324', 'xref_name': 'apical plasma membrane', 'xref_src_db': 'GoComponent'}, {'xref_id': 'GO:0070062', 'xref_name': 'extracellular exosome', 'xref_src_db': 'GoComponent'}, {'xref_id': 'GO:0070821', 'xref_name': 'tertiary granule membrane', 'xref_src_db': 'GoComponent'}, {'xref_id': 'GO:0101003', 'xref_name': 'ficolin-1-rich granule membrane', 'xref_src_db': 'GoComponent'}, {'xref_id': 'GO:0003824', 'xref_name': 'catalytic activity', 'xref_src_db': 'GoFunction'}, {'xref_id': 'GO:0004339', 'xref_name': 'glucan 1,4-alpha-glucosidase activity', 'xref_src_db': 'GoFunction'}, {'xref_id': 'GO:0004553', 'xref_name': 'hydrolase activity, hydrolyzing O-glycosyl compounds', 'xref_src_db': 'GoFunction'}, {'xref_id': 'GO:0004558', 'xref_name': 'alpha-1,4-glucosidase activity', 'xref_src_db': 'GoFunction'}, {'xref_id': 'GO:0004574', 'xref_name': 'oligo-1,6-glucosidase activity', 'xref_src_db': 'GoFunction'}, {'xref_id': 'GO:0005515', 'xref_name': 'protein binding', 'xref_src_db': 'GoFunction'}, {'xref_id': 'GO:0016160', 'xref_name': 'amylase activity', 'xref_src_db': 'GoFunction'}, {'xref_id': 'GO:0016798', 'xref_name': 'hydrolase activity, acting on glycosyl bonds', 'xref_src_db': 'GoFunction'}, {'xref_id': 'GO:0030246', 'xref_name': 'carbohydrate binding', 'xref_src_db': 'GoFunction'}, {'xref_id': 'GO:0090599', 'xref_name': 'alpha-glucosidase activity', 'xref_src_db': 'GoFunction'}, {'xref_id': 'GO:0000025', 'xref_name': 'maltose catabolic process', 'xref_src_db': 'GoProcess'}, {'xref_id': 'GO:0005975', 'xref_name': 'carbohydrate metabolic process', 'xref_src_db': 'GoProcess'}, {'xref_id': 'GO:0005983', 'xref_name': 'starch catabolic process', 'xref_src_db': 'GoProcess'}, {'xref_id': 'GO:1901027', 'xref_name': 'dextrin catabolic process', 'xref_src_db': 'GoProcess'}, {'xref_id': 'HGNC:7043', 'xref_name': 'MGAM', 'xref_src_db': 'HGNC'}, {'xref_id': 'O43451', 'xref_name': None, 'xref_src_db': 'IntAct'}, {'xref_id': 'IPR000322', 'xref_name': 'Glyco_hydro_31_TIM', 'xref_src_db': 'InterPro'}, {'xref_id': 'IPR000519', 'xref_name': 'P_trefoil_dom', 'xref_src_db': 'InterPro'}, {'xref_id': 'IPR011013', 'xref_name': 'Gal_mutarotase_sf_dom', 'xref_src_db': 'InterPro'}, {'xref_id': 'IPR013780', 'xref_name': 'Glyco_hydro_b', 'xref_src_db': 'InterPro'}, {'xref_id': 'IPR017853', 'xref_name': 'Glycoside_hydrolase_SF', 'xref_src_db': 'InterPro'}, {'xref_id': 'IPR017957', 'xref_name': 'P_trefoil_CS', 'xref_src_db': 'InterPro'}, {'xref_id': 'IPR025887', 'xref_name': 'Glyco_hydro_31_N_dom', 'xref_src_db': 'InterPro'}, {'xref_id': 'IPR030458', 'xref_name': 'Glyco_hydro_31_AS', 'xref_src_db': 'InterPro'}, {'xref_id': 'IPR030459', 'xref_name': 'Glyco_hydro_31_CS', 'xref_src_db': 'InterPro'}, {'xref_id': 'IPR044913', 'xref_name': 'P_trefoil_dom_sf', 'xref_src_db': 'InterPro'}, {'xref_id': 'IPR048395', 'xref_name': 'Glyco_hydro_31_C', 'xref_src_db': 'InterPro'}, {'xref_id': 'PTHR22762', 'xref_name': 'ALPHA-GLUCOSIDASE', 'xref_src_db': 'PANTHER'}, {'xref_id': 'PTHR22762:SF168', 'xref_name': 'P-TYPE DOMAIN-CONTAINING PROTEIN', 'xref_src_db': 'PANTHER'}, {'xref_id': '2QLY', 'xref_name': None, 'xref_src_db': 'PDB'}, {'xref_id': '2QMJ', 'xref_name': None, 'xref_src_db': 'PDB'}, {'xref_id': '3CTT', 'xref_name': None, 'xref_src_db': 'PDB'}, {'xref_id': '3L4T', 'xref_name': None, 'xref_src_db': 'PDB'}, {'xref_id': '3L4U', 'xref_name': None, 'xref_src_db': 'PDB'}, {'xref_id': '3L4V', 'xref_name': None, 'xref_src_db': 'PDB'}, {'xref_id': '3L4W', 'xref_name': None, 'xref_src_db': 'PDB'}, {'xref_id': '3L4X', 'xref_name': None, 'xref_src_db': 'PDB'}, {'xref_id': '3L4Y', 'xref_name': None, 'xref_src_db': 'PDB'}, {'xref_id': '3L4Z', 'xref_name': None, 'xref_src_db': 'PDB'}, {'xref_id': '3TON', 'xref_name': None, 'xref_src_db': 'PDB'}, {'xref_id': '3TOP', 'xref_name': None, 'xref_src_db': 'PDB'}, {'xref_id': 'PF00088', 'xref_name': 'Trefoil', 'xref_src_db': 'Pfam'}, {'xref_id': 'PF01055', 'xref_name': 'Glyco_hydro_31_2nd', 'xref_src_db': 'Pfam'}, {'xref_id': 'PF13802', 'xref_name': 'Gal_mutarotas_2', 'xref_src_db': 'Pfam'}, {'xref_id': 'PF21365', 'xref_name': 'Glyco_hydro_31_3rd', 'xref_src_db': 'Pfam'}, {'xref_id': 'PA30778', 'xref_name': 'maltase-glucoamylase', 'xref_src_db': 'PharmGKB'}, {'xref_id': 'O43451', 'xref_name': None, 'xref_src_db': 'Pharos'}, {'xref_id': 'R-HSA-189085', 'xref_name': 'Digestion of dietary carbohydrate', 'xref_src_db': 'Reactome'}, {'xref_id': 'R-HSA-6798695', 'xref_name': 'Neutrophil degranulation', 'xref_src_db': 'Reactome'}, {'xref_id': 'E7ER45', 'xref_name': 'Maltase-glucoamylase', 'xref_src_db': 'UniProt'}, {'xref_id': 'O43451', 'xref_name': 'Maltase-glucoamylase', 'xref_src_db': 'UniProt'}, {'xref_id': 'Q0VAX6', 'xref_name': 'Maltase-glucoamylase', 'xref_src_db': 'UniProt'}, {'xref_id': 'Q75ME7', 'xref_name': 'Maltase-glucoamylase', 'xref_src_db': 'UniProt'}, {'xref_id': 'Q86UM5', 'xref_name': 'Maltase-glucoamylase', 'xref_src_db': 'UniProt'}]}]}\n",
      "<class 'dict'>\n"
     ]
    }
   ],
   "source": [
    "print(\"TOTAL SINGLE PROTEIN organism 'Homo sapiens': \",len(targets))\n",
    "\n",
    "sample_target = targets[0]\n",
    "print('sample :',sample_target)\n",
    "print(type(sample_target))"
   ]
  },
  {
   "cell_type": "code",
   "execution_count": 11,
   "id": "5f9e4c12",
   "metadata": {},
   "outputs": [
    {
     "data": {
      "text/plain": [
       "[{'target_chembl_id': 'CHEMBL2074',\n",
       "  'pref_name': 'Maltase-glucoamylase',\n",
       "  'accession': 'O43451',\n",
       "  'component_id': 434,\n",
       "  'component_type': 'PROTEIN',\n",
       "  'relationship': 'SINGLE PROTEIN'},\n",
       " {'target_chembl_id': 'CHEMBL1971',\n",
       "  'pref_name': 'Sulfonylurea receptor 2',\n",
       "  'accession': 'O60706',\n",
       "  'component_id': 294,\n",
       "  'component_type': 'PROTEIN',\n",
       "  'relationship': 'SINGLE PROTEIN'},\n",
       " {'target_chembl_id': 'CHEMBL1827',\n",
       "  'pref_name': 'Phosphodiesterase 5A',\n",
       "  'accession': 'O76074',\n",
       "  'component_id': 124,\n",
       "  'component_type': 'PROTEIN',\n",
       "  'relationship': 'SINGLE PROTEIN'},\n",
       " {'target_chembl_id': 'CHEMBL1859',\n",
       "  'pref_name': 'Voltage-gated T-type calcium channel alpha-1H subunit',\n",
       "  'accession': 'O95180',\n",
       "  'component_id': 167,\n",
       "  'component_type': 'PROTEIN',\n",
       "  'relationship': 'SINGLE PROTEIN'},\n",
       " {'target_chembl_id': 'CHEMBL202',\n",
       "  'pref_name': 'Dihydrofolate reductase',\n",
       "  'accession': 'P00374',\n",
       "  'component_id': 396,\n",
       "  'component_type': 'PROTEIN',\n",
       "  'relationship': 'SINGLE PROTEIN'},\n",
       " {'target_chembl_id': 'CHEMBL1862',\n",
       "  'pref_name': 'Tyrosine-protein kinase ABL',\n",
       "  'accession': 'P00519',\n",
       "  'component_id': 173,\n",
       "  'component_type': 'PROTEIN',\n",
       "  'relationship': 'SINGLE PROTEIN'},\n",
       " {'target_chembl_id': 'CHEMBL203',\n",
       "  'pref_name': 'Epidermal growth factor receptor erbB1',\n",
       "  'accession': 'P00533',\n",
       "  'component_id': 147,\n",
       "  'component_type': 'PROTEIN',\n",
       "  'relationship': 'SINGLE PROTEIN'},\n",
       " {'target_chembl_id': 'CHEMBL204',\n",
       "  'pref_name': 'Thrombin',\n",
       "  'accession': 'P00734',\n",
       "  'component_id': 92,\n",
       "  'component_type': 'PROTEIN',\n",
       "  'relationship': 'SINGLE PROTEIN'},\n",
       " {'target_chembl_id': 'CHEMBL1801',\n",
       "  'pref_name': 'Plasminogen',\n",
       "  'accession': 'P00747',\n",
       "  'component_id': 93,\n",
       "  'component_type': 'PROTEIN',\n",
       "  'relationship': 'SINGLE PROTEIN'},\n",
       " {'target_chembl_id': 'CHEMBL1910',\n",
       "  'pref_name': 'Adenosine deaminase',\n",
       "  'accession': 'P00813',\n",
       "  'component_id': 223,\n",
       "  'component_type': 'PROTEIN',\n",
       "  'relationship': 'SINGLE PROTEIN'},\n",
       " {'target_chembl_id': 'CHEMBL205',\n",
       "  'pref_name': 'Carbonic anhydrase II',\n",
       "  'accession': 'P00918',\n",
       "  'component_id': 94,\n",
       "  'component_type': 'PROTEIN',\n",
       "  'relationship': 'SINGLE PROTEIN'},\n",
       " {'target_chembl_id': 'CHEMBL1950',\n",
       "  'pref_name': 'Antithrombin-III',\n",
       "  'accession': 'P01008',\n",
       "  'component_id': 273,\n",
       "  'component_type': 'PROTEIN',\n",
       "  'relationship': 'SINGLE PROTEIN'},\n",
       " {'target_chembl_id': 'CHEMBL2066',\n",
       "  'pref_name': 'Troponin C',\n",
       "  'accession': 'P63316',\n",
       "  'component_id': 406,\n",
       "  'component_type': 'PROTEIN',\n",
       "  'relationship': 'SINGLE PROTEIN'},\n",
       " {'target_chembl_id': 'CHEMBL206',\n",
       "  'pref_name': 'Estrogen receptor alpha',\n",
       "  'accession': 'P03372',\n",
       "  'component_id': 410,\n",
       "  'component_type': 'PROTEIN',\n",
       "  'relationship': 'SINGLE PROTEIN'},\n",
       " {'target_chembl_id': 'CHEMBL2000',\n",
       "  'pref_name': 'Plasma kallikrein',\n",
       "  'accession': 'P03952',\n",
       "  'component_id': 331,\n",
       "  'component_type': 'PROTEIN',\n",
       "  'relationship': 'SINGLE PROTEIN'},\n",
       " {'target_chembl_id': 'CHEMBL402',\n",
       "  'pref_name': 'HMG-CoA reductase',\n",
       "  'accession': 'P04035',\n",
       "  'component_id': 312,\n",
       "  'component_type': 'PROTEIN',\n",
       "  'relationship': 'SINGLE PROTEIN'},\n",
       " {'target_chembl_id': 'CHEMBL2034',\n",
       "  'pref_name': 'Glucocorticoid receptor',\n",
       "  'accession': 'P04150',\n",
       "  'component_id': 371,\n",
       "  'component_type': 'PROTEIN',\n",
       "  'relationship': 'SINGLE PROTEIN'},\n",
       " {'target_chembl_id': 'CHEMBL1952',\n",
       "  'pref_name': 'Thymidylate synthase',\n",
       "  'accession': 'P04818',\n",
       "  'component_id': 276,\n",
       "  'component_type': 'PROTEIN',\n",
       "  'relationship': 'SINGLE PROTEIN'},\n",
       " {'target_chembl_id': 'CHEMBL1807',\n",
       "  'pref_name': 'Sodium/potassium-transporting ATPase alpha-1 chain',\n",
       "  'accession': 'P05023',\n",
       "  'component_id': 101,\n",
       "  'component_type': 'PROTEIN',\n",
       "  'relationship': 'SINGLE PROTEIN'},\n",
       " {'target_chembl_id': 'CHEMBL1935',\n",
       "  'pref_name': 'Aldehyde dehydrogenase',\n",
       "  'accession': 'P05091',\n",
       "  'component_id': 254,\n",
       "  'component_type': 'PROTEIN',\n",
       "  'relationship': 'SINGLE PROTEIN'}]"
      ]
     },
     "execution_count": 11,
     "metadata": {},
     "output_type": "execute_result"
    }
   ],
   "source": [
    "PICKED_TARGETS = []\n",
    "for t in targets:\n",
    "    if len(PICKED_TARGETS) >= MAX_TARGETS:\n",
    "        break\n",
    "    PICKED_TARGETS.append({'target_chembl_id': t['target_chembl_id'],\n",
    "                   'pref_name': t.get('pref_name', None),\n",
    "                   'accession':t['target_components'][0]['accession'],\n",
    "                   'component_id':t['target_components'][0]['component_id'],\n",
    "                   'component_type':t['target_components'][0]['component_type'],\n",
    "                   'relationship':t['target_components'][0]['relationship'],\n",
    "\n",
    "                   })\n",
    "PICKED_TARGETS"
   ]
  },
  {
   "cell_type": "code",
   "execution_count": null,
   "id": "9da72b30",
   "metadata": {},
   "outputs": [],
   "source": [
    "picked_sample_target = PICKED_TARGETS[3]\n",
    "# picked_sample_target['accession']"
   ]
  },
  {
   "cell_type": "markdown",
   "id": "1ce1dcb4",
   "metadata": {},
   "source": [
    "## Get sequence - organism from accession id: TESTER"
   ]
  },
  {
   "cell_type": "code",
   "execution_count": 14,
   "id": "491f0a00",
   "metadata": {},
   "outputs": [
    {
     "name": "stdout",
     "output_type": "stream",
     "text": [
      "leng 1\n",
      "[{'organism': 'Homo sapiens', 'sequence': 'MKSVHSSPQNTSHTIMTFYPTMEEFADFNTYVAYMESQGAHQAGLAKVIPPKEWKARQMYDDIEDILIATPLQQVTSGQGGVFTQYHKKKKAMRVGQYRRLANSKKYQTPPHQNFADLEQRYWKSHPGNPPIYGADISGSLFEESTKQWNLGHLGTILDLLEQECGVVIEGVNTPYLYFGMWKTTFAWHTEDMDLYSINYLHFGEPKTWYVVPPEHGQHLERLARELFPDISRGCEAFLRHKVALISPTVLKENGIPFNCMTQEAGEFMVTFPYGYHAGFNHGFNCAEAINFATPRWIDYGKMASQCSCGESTVTFSMDPFVRIVQPESYELWKHRQDLAIVEHTEPRVAESQELSNWRDDIVLRRAALGLRLLPNLTAQCPTQPVSSGHCYNPKGCGTDAVPGSAFQSSAYHTQTQSLTLGMSARVLLPSTGSWGSGRGRGRGQGQGRGCSRGRGHGCCTRELGTEEPTVQPASKRRLLMGTRSRAQGHRPQLPLANDLMTNLSL'}]\n"
     ]
    }
   ],
   "source": [
    "all_seq = tcomp_api.filter(accession= 'B2RXH2').only(['organism','sequence'])\n",
    "print(\"leng\" ,len(all_seq))\n",
    "print(all_seq)"
   ]
  },
  {
   "cell_type": "code",
   "execution_count": 9,
   "id": "16a117ba",
   "metadata": {},
   "outputs": [
    {
     "data": {
      "text/plain": [
       "[{'organism': 'Homo sapiens', 'sequence': 'MEPWPLLLLFSLCSAGLVLGSEHETRLVAKLFKDYSSVVRPVEDHRQVVEVTVGLQLIQLINVDEVNQIVTTNVRLKQQWVDYNLKWNPDDYGGVKKIHIPSEKIWRPDLVLYNNADGDFAIVKFTKVLLQYTGHITWTPPAIFKSYCEIIVTHFPFDEQNCSMKLGTWTYDGSVVAINPESDQPDLSNFMESGEWVIKESRGWKHSVTYSCCPDTPYLDITYHFVMQRLPLYFIVNVIIPCLLFSFLTGLVFYLPTDSGEKMTLSISVLLSLTVFLLVIVELIPSTSSAVPLIGKYMLFTMVFVIASIIITVIVINTHHRSPSTHVMPNWVRKVFIDTIPNIMFFSTMKRPSREKQDKKIFTEDIDISDISGKPGPPPMGFHSPLIKHPEVKSAIEGIKYIAETMKSDQESNNAAAEWKYVAMVMDHILLGVFMLVCIIGTLAVFAGRLIELNQQG'}, {'organism': 'Homo sapiens', 'sequence': 'MEEPQSDPSVEPPLSQETFSDLWKLLPENNVLSPLPSQAMDDLMLSPDDIEQWFTEDPGPDEAPRMPEAAPPVAPAPAAPTPAAPAPAPSWPLSSSVPSQKTYQGSYGFRLGFLHSGTAKSVTCTYSPALNKMFCQLAKTCPVQLWVDSTPPPGTRVRAMAIYKQSQHMTEVVRRCPHHERCSDSDGLAPPQHLIRVEGNLRVEYLDDRNTFRHSVVVPYEPPEVGSDCTTIHYNYMCNSSCMGGMNRRPILTIITLEDSSGNLLGRNSFEVRVCACPGRDRRTEEENLRKKGEPHHELPPGSTKRALPNNTSSSPQPKKKPLDGEYFTLQIRGRERFEMFRELNEALELKDAQAGKEPGGSRAHSSHLKSKKGQSTSRHKKLMFKTEGPDSD'}, {'organism': 'Homo sapiens', 'sequence': 'MRARPRPRPLWATVLALGALAGVGVGGPNICTTRGVSSCQQCLAVSPMCAWCSDEALPLGSPRCDLKENLLKDNCAPESIEFPVSEARVLEDRPLSDKGSGDSSQVTQVSPQRIALRLRPDDSKNFSIQVRQVEDYPVDIYYLMDLSYSMKDDLWSIQNLGTKLATQMRKLTSNLRIGFGAFVDKPVSPYMYISPPEALENPCYDMKTTCLPMFGYKHVLTLTDQVTRFNEEVKKQSVSRNRDAPEGGFDAIMQATVCDEKIGWRNDASHLLVFTTDAKTHIALDGRLAGIVQPNDGQCHVGSDNHYSASTTMDYPSLGLMTEKLSQKNINLIFAVTENVVNLYQNYSELIPGTTVGVLSMDSSNVLQLIVDAYGKIRSKVELEVRDLPEELSLSFNATCLNNEVIPGLKSCMGLKIGDTVSFSIEAKVRGCPQEKEKSFTIKPVGFKDSLIVQVTFDCDCACQAQAEPNSHRCNNGNGTFECGVCRCGPGWLGSQCECSEEDYRPSQQDECSPREGQPVCSQRGECLCGQCVCHSSDFGKITGKYCECDDFSCVRYKGEMCSGHGQCSCGDCLCDSDWTGYYCNCTTRTDTCMSSNGLLCSGRGKCECGSCVCIQPGSYGDTCEKCPTCPDACTFKKECVECKKFDRGALHDENTCNRYCRDEIESVKELKDTGKDAVNCTYKNEDDCVVRFQYYEDSSGKSILYVVEEPECPKGPDILVVLLSVMGAILLIGLAALLIWKLLITIHDRKEFAKFEEERARAKWDTANNPLYKEATSTFTNITYRGT'}, {'organism': 'Homo sapiens', 'sequence': 'MNLQPIFWIGLISSVCCVFAQTDENRCLKANAKSCGECIQAGPNCGWCTNSTFLQEGMPTSARCDDLEALKKKGCPPDDIENPRGSKDIKKNKNVTNRSKGTAEKLKPEDITQIQPQQLVLRLRSGEPQTFTLKFKRAEDYPIDLYYLMDLSYSMKDDLENVKSLGTDLMNEMRRITSDFRIGFGSFVEKTVMPYISTTPAKLRNPCTSEQNCTSPFSYKNVLSLTNKGEVFNELVGKQRISGNLDSPEGGFDAIMQVAVCGSLIGWRNVTRLLVFSTDAGFHFAGDGKLGGIVLPNDGQCHLENNMYTMSHYYDYPSIAHLVQKLSENNIQTIFAVTEEFQPVYKELKNLIPKSAVGTLSANSSNVIQLIIDAYNSLSSEVILENGKLSEGVTISYKSYCKNGVNGTGENGRKCSNISIGDEVQFEISITSNKCPKKDSDSFKIRPLGFTEEVEVILQYICECECQSEGIPESPKCHEGNGTFECGACRCNEGRVGRHCECSTDEVNSEDMDAYCRKENSSEICSNNGECVCGQCVCRKRDNTNEIYSGKFCECDNFNCDRSNGLICGGNGVCKCRVCECNPNYTGSACDCSLDTSTCEASNGQICNGRGICECGVCKCTDPKFQGQTCEMCQTCLGVCAEHKECVQCRAFNKGEKKDTCTQECSYFNITKVESRDKLPQPVQPDPVSHCKEKDVDDCWFYFTYSVNGNNEVMVHVVENPECPTGPDIIPIVAGVVAGIVLIGLALLLIWKLLMIIHDRREFAKFEKEKMNAKWDTGENPIYKSAVTTVVNPKYEGK'}, '...(remaining elements truncated)...']"
      ]
     },
     "execution_count": 9,
     "metadata": {},
     "output_type": "execute_result"
    }
   ],
   "source": [
    "homosep_seq = tcomp_api.filter(organism='Homo sapiens',target_chembl_id=picked_sample_target['component_id']).only(['organism','sequence'])\n",
    "homosep_seq"
   ]
  },
  {
   "cell_type": "markdown",
   "id": "70db228e",
   "metadata": {},
   "source": [
    "## PULL amino seq info list based on accession list"
   ]
  },
  {
   "cell_type": "code",
   "execution_count": 16,
   "id": "507616f3",
   "metadata": {},
   "outputs": [],
   "source": [
    "# pull amino sequence info\n",
    "# Accession = UniProtein ID\n",
    "def fetch_sequence_bundle(accession_ID):\n",
    "    rows = tcomp_api.filter(accession = accession_ID, organism='Homo sapiens').only(['organism','sequence'])  # accession is UniProt\n",
    "    \n",
    "    if len(rows) == 1:\n",
    "        rows = rows[0]\n",
    "    else: \n",
    "        print(\"SO THERE IS A CASE WHERE 1 ACCESSION is >1 protein sequence???\")\n",
    "\n",
    "    print(f'AMINO SEQUENCE of Accession {accession_ID}: ', rows['sequence'])\n",
    "    # organism = sorted({r.get('organism') for r in rows if r.get('organism')})\n",
    "    # seqs       = [r.get('sequence') for r in rows if r.get('sequence')]\n",
    "    # Prefer the longest sequence (single protein targets normally have one)\n",
    "    # seq = max(seqs, key=len) if seqs else None\n",
    "    # return organism, seq\n",
    "    return rows\n",
    "\n",
    "# 2) pull binding activities with strong QC & pChEMBL present\n",
    "def fetch_clean_activities(tid):\n",
    "    # Assay filter first (faster if you ever expand): relationship D, binding B\n",
    "    assays = assay_api.filter(target_chembl_id=tid,\n",
    "                              relationship_type='D',\n",
    "                              assay_type='B').only(['assay_chembl_id'])\n",
    "    assay_ids = [a['assay_chembl_id'] for a in assays]\n",
    "    # print(assay_ids)\n",
    "    # print(\"assay_ids: \",assay_ids)\n",
    "\n",
    "    if not assay_ids:\n",
    "        return pd.DataFrame()\n",
    "\n",
    "    # Chunk assay_ids with __in; and require pChEMBL present & valid\n",
    "    CHUNK = 200\n",
    "    recs = []\n",
    "    for i in range(0, len(assay_ids), CHUNK):\n",
    "        chunk = assay_ids[i:i+CHUNK]\n",
    "        # print(\"chunk:\",chunk)\n",
    "        acts = act_api.filter(assay_chembl_id__in=chunk, #\";\".join(chunk)\n",
    "                              pchembl_value__isnull=False,\n",
    "                              data_validity_comment__isnull=True) \\\n",
    "                      .only(['molecule_chembl_id','pchembl_value','standard_type',\n",
    "                             'standard_units','standard_relation'])\n",
    "        # print(\"acts:\",acts)\n",
    "        recs.extend(acts)\n",
    "\n",
    "    if not recs:\n",
    "        return pd.DataFrame()\n",
    "    # print(\"RECS: \",recs)\n",
    "    df = pd.DataFrame.from_records(recs)\n",
    "    # Keep exact values (relation \"=\") if present; pChEMBL already standardizes, but keep clean\n",
    "    if 'standard_relation' in df.columns:\n",
    "        df = df[(df['standard_relation'].isna()) | (df['standard_relation'] == '=')]\n",
    "    # Deduplicate molecule per target by best pChEMBL\n",
    "    df = df.sort_values('pchembl_value', ascending=False) \\\n",
    "           .drop_duplicates(subset=['molecule_chembl_id'])\n",
    "    return df[['molecule_chembl_id','pchembl_value']]"
   ]
  },
  {
   "cell_type": "code",
   "execution_count": 26,
   "id": "2fd33a69",
   "metadata": {},
   "outputs": [
    {
     "name": "stderr",
     "output_type": "stream",
     "text": [
      "Targets:   0%|          | 0/20 [00:00<?, ?it/s]"
     ]
    },
    {
     "name": "stderr",
     "output_type": "stream",
     "text": [
      "Targets:   5%|▌         | 1/20 [00:01<00:19,  1.02s/it]"
     ]
    },
    {
     "name": "stdout",
     "output_type": "stream",
     "text": [
      "AMINO SEQUENCE of Accession O43451:  MARKKLKKFTTLEIVLSVLLLVLFIISIVLIVLLAKESLKSTAPDPGTTGTPDPGTTGTPDPGTTGTTHARTTGPPDPGTTGTTPVSAECPVVNELERINCIPDQPPTKATCDQRGCCWNPQGAVSVPWCYYSKNHSYHVEGNLVNTNAGFTARLKNLPSSPVFGSNVDNVLLTAEYQTSNRFHFKLTDQTNNRFEVPHEHVQSFSGNAAASLTYQVEISRQPFSIKVTRRSNNRVLFDSSIGPLLFADQFLQLSTRLPSTNVYGLGEHVHQQYRHDMNWKTWPIFNRDTTPNGNGTNLYGAQTFFLCLEDASGLSFGVFLMNSNAMEVVLQPAPAITYRTIGGILDFYVFLGNTPEQVVQEYLELIGRPALPSYWALGFHLSRYEYGTLDNMREVVERNRAAQLPYDVQHADIDYMDERRDFTYDSVDFKGFPEFVNELHNNGQKLVIIVDPAISNNSSSSKPYGPYDRGSDMKIWVNSSDGVTPLIGEVWPGQTVFPDYTNPNCAVWWTKEFELFHNQVEFDGIWIDMNEVSNFVDGSVSGCSTNNLNNPPFTPRILDGYLFCKTLCMDAVQHWGKQYDIHNLYGYSMAVATAEAAKTVFPNKRSFILTRSTFAGSGKFAAHWLGDNTATWDDLRWSIPGVLEFNLFGIPMVGPDICGFALDTPEELCRRWMQLGAFYPFSRNHNGQGYKDQDPASFGADSLLLNSSRHYLNIRYTLLPYLYTLFFRAHSRGDTVARPLLHEFYEDNSTWDVHQQFLWGPGLLITPVLDEGAEKVMAYVPDAVWYDYETGSQVRWRKQKVEMELPGDKIGLHLRGGYIFPTQQPNTTTLASRKNPLGLIIALDENKEAKGELFWDNGETKDTVANKVYLLCEFSVTQNRLEVNISQSTYKDPNNLAFNEIKILGTEEPSNVTVKHNGVPSQTSPTVTYDSNLKVAIITDIDLLLGEAYTVEWSIKIRDEEKIDCYPDENGASAENCTARGCIWEASNSSGVPFCYFVNDLYSVSDVQYNSHGATADISLKSSVYANAFPSTPVNPLRLDVTYHKNEMLQFKIYDPNKNRYEVPVPLNIPSMPSSTPEGQLYDVLIKKNPFGIEIRRKSTGTIIWDSQLLGFTFSDMFIRISTRLPSKYLYGFGETEHRSYRRDLEWHTWGMFSRDQPPGYKKNSYGVHPYYMGLEEDGSAHGVLLLNSNAMDVTFQPLPALTYRTTGGVLDFYVFLGPTPELVTQQYTELIGRPVMVPYWSLGFQLCRYGYQNDSEIASLYDEMVAAQIPYDVQYSDIDYMERQLDFTLSPKFAGFPALINRMKADGMRVILILDPAISGNETQPYPAFTRGVEDDVFIKYPNDGDIVWGKVWPDFPDVVVNGSLDWDSQVELYRAYVAFPDFFRNSTAKWWKREIEELYNNPQNPERSLKFDGMWIDMNEPSSFVNGAVSPGCRDASLNHPPYMPHLESRDRGLSSKTLCMESQQILPDGSLVQHYNVHNLYGWSQTRPTYEAVQEVTGQRGVVITRSTFPSSGRWAGHWLGDNTAAWDQLKKSIIGMMEFSLFGISYTGADICGFFQDAEYEMCVRWMQLGAFYPFSRNHNTIGTRRQDPVSWDAAFVNISRNVLQTRYTLLPYLYTLMQKAHTEGVTVVRPLLHEFVSDQVTWDIDSQFLLGPAFLVSPVLERNARNVTAYFPRARWYDYYTGVDINARGEWKTLPAPLDHINLHVRGGYILPWQEPALNTHLSRKNPLGLIIALDENKEAKGELFWDDGQTKDTVAKKVYLLCEFSVTQNHLEVTISQSTYKDPNNLAFNEIKILGMEEPSNVTVKHNGVPSQTSPTVTYDSNLKVAIITDINLFLGEAYTVEWSIKIRDEEKIDCYPDENGDSAENCTARGCIWEASNSSGVPFCYFVNDLYSVSDVQYNSHGATADISLKSSVHANAFPSTPVNPLRLDVTYHKNEMLQFKIYDPNNNRYEVPVPLNIPSVPSSTPEGQLYDVLIKKNPFGIEIRRKSTGTIIWDSQLLGFTFNDMFIRISTRLPSKYLYGFGETEHTSYRRDLEWHTWGMFSRDQPPGYKKNSYGVHPYYMGLEEDGSAHGVLLLNSNAMDVTFQPLPALTYRTTGGVLDFYVFLGPTPELVTQQYTELIGRPVMVPYWSLGFQLCRYGYQNDSEISSLYDEMVAAQIPYDVQYSDIDYMERQLDFTLSPKFAGFPALINRMKADGMRVILILDPAISGNETQPYPAFTRGVEDDVFIKYPNDGDIVWGKVWPDFPDVVVNGSLDWDSQVELYRAYVAFPDFFRNSTAKWWKREIEELYNNPQNPERSLKFDGMWIDMNEPSSFVNGAVSPGCRDASLNHPPYMPYLESRDRGLSSKTLCMESQQILPDGSPVQHYNVHNLYGWSQTRPTYEAVQEVTGQRGVVITRSTFPSSGRWAGHWLGDNTAAWDQLKKSIIGMMEFSLFGISYTGADICGFFQDAEYEMCVRWMQLGAFYPFSRNHNTIGTRRQDPVSWDVAFVNISRTVLQTRYTLLPYLYTLMHKAHTEGVTVVRPLLHEFVSDQVTWDIDSQFLLGPAFLVSPVLERNARNVTAYFPRARWYDYYTGVDINARGEWKTLPAPLDHINLHVRGGYILPWQEPALNTHLSRQKFMGFKIALDDEGTAGGWLFWDDGQSIDTYGKGLYYLASFSASQNTMQSHIIFNNYITGTNPLKLGYIEIWGVGSVPVTSVSISVSGMVITPSFNNDPTTQVLSIDVTDRNISLHNFTSLTWISTL\n"
     ]
    },
    {
     "name": "stderr",
     "output_type": "stream",
     "text": [
      "Targets:  10%|█         | 2/20 [00:01<00:15,  1.19it/s]"
     ]
    },
    {
     "name": "stdout",
     "output_type": "stream",
     "text": [
      "AMINO SEQUENCE of Accession O60706:  MSLSFCGNNISSYNINDGVLQNSCFVDALNLVPHVFLLFITFPILFIGWGSQSSKVQIHHNTWLHFPGHNLRWILTFALLFVHVCEIAEGIVSDSRRESRHLHLFMPAVMGFVATTTSIVYYHNIETSNFPKLLLALFLYWVMAFITKTIKLVKYCQSGLDISNLRFCITGMMVILNGLLMAVEINVIRVRRYVFFMNPQKVKPPEDLQDLGVRFLQPFVNLLSKATYWWMNTLIISAHKKPIDLKAIGKLPIAMRAVTNYVCLKDAYEEQKKKVADHPNRTPSIWLAMYRAFGRPILLSSTFRYLADLLGFAGPLCISGIVQRVNETQNGTNNTTGISETLSSKEFLENAYVLAVLLFLALILQRTFLQASYYVTIETGINLRGALLAMIYNKILRLSTSNLSMGEMTLGQINNLVAIETNQLMWFLFLCPNLWAMPVQIIMGVILLYNLLGSSALVGAAVIVLLAPIQYFIATKLAEAQKSTLDYSTERLKKTNEILKGIKLLKLYAWEHIFCKSVEETRMKELSSLKTFALYTSLSIFMNAAIPIAAVLATFVTHAYASGNNLKPAEAFASLSLFHILVTPLFLLSTVVRFAVKAIISVQKLNEFLLSDEIGDDSWRTGESSLPFESCKKHTGVQPKTINRKQPGRYHLDSYEQSTRRLRPAETEDIAIKVTNGYFSWGSGLATLSNIDIRIPTGQLTMIVGQVGCGKSSLLLAILGEMQTLEGKVHWSNVNESEPSFEATRSRNRYSVAYAAQKPWLLNATVEENITFGSPFNKQRYKAVTDACSLQPDIDLLPFGDQTEIGERGINLSGGQRQRICVARALYQNTNIVFLDDPFSALDIHLSDHLMQEGILKFLQDDKRTLVLVTHKLQYLTHADWIIAMKDGSVLREGTLKDIQTKDVELYEHWKTLMNRQDQELEKDMEADQTTLERKTLRRAMYSREAKAQMEDEDEEEEEEEDEDDNMSTVMRLRTKMPWKTCWRYLTSGGFFLLILMIFSKLLKHSVIVAIDYWLATWTSEYSINNTGKADQTYYVAGFSILCGAGIFLCLVTSLTVEWMGLTAAKNLHHNLLNKIILGPIRFFDTTPLGLILNRFSADTNIIDQHIPPTLESLTRSTLLCLSAIGMISYATPVFLVALLPLGVAFYFIQKYFRVASKDLQELDDSTQLPLLCHFSETAEGLTTIRAFRHETRFKQRMLELTDTNNIAYLFLSAANRWLEVRTDYLGACIVLTASIASISGSSNSGLVGLGLLYALTITNYLNWVVRNLADLEVQMGAVKKVNSFLTMESENYEGTMDPSQVPEHWPQEGEIKIHDLCVRYENNLKPVLKHVKAYIKPGQKVGICGRTGSGKSSLSLAFFRMVDIFDGKIVIDGIDISKLPLHTLRSRLSIILQDPILFSGSIRFNLDPECKCTDDRLWEALEIAQLKNMVKSLPGGLDAVVTEGGENFSVGQRQLFCLARAFVRKSSILIMDEATASIDMATENILQKVVMTAFADRTVVTIAHRVSSIMDAGLVLVFSEGILVECDTVPNLLAHKNGLFSTLVMTNK\n"
     ]
    },
    {
     "name": "stderr",
     "output_type": "stream",
     "text": [
      "Targets:  15%|█▌        | 3/20 [00:02<00:13,  1.28it/s]"
     ]
    },
    {
     "name": "stdout",
     "output_type": "stream",
     "text": [
      "AMINO SEQUENCE of Accession O76074:  MERAGPSFGQQRQQQQPQQQKQQQRDQDSVEAWLDDHWDFTFSYFVRKATREMVNAWFAERVHTIPVCKEGIRGHTESCSCPLQQSPRADNSAPGTPTRKISASEFDRPLRPIVVKDSEGTVSFLSDSEKKEQMPLTPPRFDHDEGDQCSRLLELVKDISSHLDVTALCHKIFLHIHGLISADRYSLFLVCEDSSNDKFLISRLFDVAEGSTLEEVSNNCIRLEWNKGIVGHVAALGEPLNIKDAYEDPRFNAEVDQITGYKTQSILCMPIKNHREEVVGVAQAINKKSGNGGTFTEKDEKDFAAYLAFCGIVLHNAQLYETSLLENKRNQVLLDLASLIFEEQQSLEVILKKIAATIISFMQVQKCTIFIVDEDCSDSFSSVFHMECEELEKSSDTLTREHDANKINYMYAQYVKNTMEPLNIPDVSKDKRFPWTTENTGNVNQQCIRSLLCTPIKNGKKNKVIGVCQLVNKMEENTGKVKPFNRNDEQFLEAFVIFCGLGIQNTQMYEAVERAMAKQMVTLEVLSYHASAAEEETRELQSLAAAVVPSAQTLKITDFSFSDFELSDLETALCTIRMFTDLNLVQNFQMKHEVLCRWILSVKKNYRKNVAYHNWRHAFNTAQCMFAALKAGKIQNKLTDLEILALLIAALSHDLDHRGVNNSYIQRSEHPLAQLYCHSIMEHHHFDQCLMILNSPGNQILSGLSIEEYKTTLKIIKQAILATDLALYIKRRGEFFELIRKNQFNLEDPHQKELFLAMLMTACDLSAITKPWPIQQRIAELVATEFFDQGDRERKELNIEPTDLMNREKKNKIPSMQVGFIDAICLQLYEALTHVSEDCFPLLDGCRKNRQKWQALAEQQEKMLINGESGQAKRN\n"
     ]
    },
    {
     "name": "stderr",
     "output_type": "stream",
     "text": [
      "Targets:  20%|██        | 4/20 [00:03<00:12,  1.32it/s]"
     ]
    },
    {
     "name": "stdout",
     "output_type": "stream",
     "text": [
      "AMINO SEQUENCE of Accession O95180:  MTEGARAADEVRVPLGAPPPGPAALVGASPESPGAPGREAERGSELGVSPSESPAAERGAELGADEEQRVPYPALAATVFFCLGQTTRPRSWCLRLVCNPWFEHVSMLVIMLNCVTLGMFRPCEDVECGSERCNILEAFDAFIFAFFAVEMVIKMVALGLFGQKCYLGDTWNRLDFFIVVAGMMEYSLDGHNVSLSAIRTVRVLRPLRAINRVPSMRILVTLLLDTLPMLGNVLLLCFFVFFIFGIVGVQLWAGLLRNRCFLDSAFVRNNNLTFLRPYYQTEEGEENPFICSSRRDNGMQKCSHIPGRRELRMPCTLGWEAYTQPQAEGVGAARNACINWNQYYNVCRSGDSNPHNGAINFDNIGYAWIAIFQVITLEGWVDIMYYVMDAHSFYNFIYFILLIIVGSFFMINLCLVVIATQFSETKQRESQLMREQRARHLSNDSTLASFSEPGSCYEELLKYVGHIFRKVKRRSLRLYARWQSRWRKKVDPSAVQGQGPGHRQRRAGRHTASVHHLVYHHHHHHHHHYHFSHGSPRRPGPEPGACDTRLVRAGAPPSPPSPGRGPPDAESVHSIYHADCHIEGPQERARVAHAAATAAASLRLATGLGTMNYPTILPSGVGSGKGSTSPGPKGKWAGGPPGTGGHGPLSLNSPDPYEKIPHVVGEHGLGQAPGHLSGLSVPCPLPSPPAGTLTCELKSCPYCTRALEDPEGELSGSESGDSDGRGVYEFTQDVRHGDRWDPTRPPRATDTPGPGPGSPQRRAQQRAAPGEPGWMGRLWVTFSGKLRRIVDSKYFSRGIMMAILVNTLSMGVEYHEQPEELTNALEISNIVFTSMFALEMLLKLLACGPLGYIRNPYNIFDGIIVVISVWEIVGQADGGLSVLRTFRLLRVLKLVRFLPALRRQLVVLVKTMDNVATFCTLLMLFIFIFSILGMHLFGCKFSLKTDTGDTVPDRKNFDSLLWAIVTVFQILTQEDWNVVLYNGMASTSSWAALYFVALMTFGNYVLFNLLVAILVEGFQAEGDANRSDTDEDKTSVHFEEDFHKLRELQTTELKMCSLAVTPNGHLEGRGSLSPPLIMCTAATPMPTPKSSPFLDAAPSLPDSRRGSSSSGDPPLGDQKPPASLRSSPCAPWGPSGAWSSRRSSWSSLGRAPSLKRRGQCGERESLLSGEGKGSTDDEAEDGRAAPGPRATPLRRAESLDPRPLRPAALPPTKCRDRDGQVVALPSDFFLRIDSHREDAAELDDDSEDSCCLRLHKVLEPYKPQWCRSREAWALYLFSPQNRFRVSCQKVITHKMFDHVVLVFIFLNCVTIALERPDIDPGSTERVFLSVSNYIFTAIFVAEMMVKVVALGLLSGEHAYLQSSWNLLDGLLVLVSLVDIVVAMASAGGAKILGVLRVLRLLRTLRPLRVISRAPGLKLVVETLISSLRPIGNIVLICCAFFIIFGILGVQLFKGKFYYCEGPDTRNISTKAQCRAAHYRWVRRKYNFDNLGQALMSLFVLSSKDGWVNIMYDGLDAVGVDQQPVQNHNPWMLLYFISFLLIVSFFVLNMFVGVVVENFHKCRQHQEAEEARRREEKRLRRLERRRRSTFPSPEAQRRPYYADYSPTRRSIHSLCTSHYLDLFITFIICVNVITMSMEHYNQPKSLDEALKYCNYVFTIVFVFEAALKLVAFGFRRFFKDRWNQLDLAIVLLSLMGITLEEIEMSAALPINPTIIRIMRVLRIARVLKLLKMATGMRALLDTVVQALPQVGNLGLLFMLLFFIYAALGVELFGRLECSEDNPCEGLSRHATFSNFGMAFLTLFRVSTGDNWNGIMKDTLRECSREDKHCLSYLPALSPVYFVTFVLVAQFVLVNVVVAVLMKHLEESNKEAREDAELDAEIELEMAQGPGSARRVDADRPPLPQESPGARDAPNLVARKVSVSRMLSLPNDSYMFRPVVPASAPHPRPLQEVEMETYGAGTPLGSVASVHSPPAESCASLQIPLAVSSPARSGEPLHALSPRGTARSPSLSRLLCRQEAVHTDSLEGKIDSPRDTLDPAEPGEKTPVRPVTQGGSLQSPPRSPRPASVRTRKHTFGQRCVSSRPAAPGGEEAEASDPADEEVSHITSSACPWQPTAEPHGPEASPVAGGERDLRRLYSVDAQGFLDKPGRADEQWRPSAELGSGEPGEAKAWGPEAEPALGARRKKKMSPPCISVEPPAEDEGSARPSAAEGGSTTLRRRTPSCEATPHRDSLEPTEGSGAGGDPAAKGERWGQASCRAEHLTVPSFAFEPLDLGVPSGDPFLDGSHSVTPESRASSSGAIVPLEPPESEPPMPVGDPPEKRRGLYLTVPQCPLEKPGSPSATPAPGGGADDPV\n"
     ]
    },
    {
     "name": "stderr",
     "output_type": "stream",
     "text": [
      "Targets:  25%|██▌       | 5/20 [00:03<00:11,  1.36it/s]"
     ]
    },
    {
     "name": "stdout",
     "output_type": "stream",
     "text": [
      "AMINO SEQUENCE of Accession P00374:  MVGSLNCIVAVSQNMGIGKNGDLPWPPLRNEFRYFQRMTTTSSVEGKQNLVIMGKKTWFSIPEKNRPLKGRINLVLSRELKEPPQGAHFLSRSLDDALKLTEQPELANKVDMVWIVGGSSVYKEAMNHPGHLKLFVTRIMQDFESDTFFPEIDLEKYKLLPEYPGVLSDVQEEKGIKYKFEVYEKND\n"
     ]
    },
    {
     "name": "stderr",
     "output_type": "stream",
     "text": [
      "Targets:  30%|███       | 6/20 [00:04<00:10,  1.38it/s]"
     ]
    },
    {
     "name": "stdout",
     "output_type": "stream",
     "text": [
      "AMINO SEQUENCE of Accession P00519:  MLEICLKLVGCKSKKGLSSSSSCYLEEALQRPVASDFEPQGLSEAARWNSKENLLAGPSENDPNLFVALYDFVASGDNTLSITKGEKLRVLGYNHNGEWCEAQTKNGQGWVPSNYITPVNSLEKHSWYHGPVSRNAAEYLLSSGINGSFLVRESESSPGQRSISLRYEGRVYHYRINTASDGKLYVSSESRFNTLAELVHHHSTVADGLITTLHYPAPKRNKPTVYGVSPNYDKWEMERTDITMKHKLGGGQYGEVYEGVWKKYSLTVAVKTLKEDTMEVEEFLKEAAVMKEIKHPNLVQLLGVCTREPPFYIITEFMTYGNLLDYLRECNRQEVNAVVLLYMATQISSAMEYLEKKNFIHRDLAARNCLVGENHLVKVADFGLSRLMTGDTYTAHAGAKFPIKWTAPESLAYNKFSIKSDVWAFGVLLWEIATYGMSPYPGIDLSQVYELLEKDYRMERPEGCPEKVYELMRACWQWNPSDRPSFAEIHQAFETMFQESSISDEVEKELGKQGVRGAVSTLLQAPELPTKTRTSRRAAEHRDTTDVPEMPHSKGQGESDPLDHEPAVSPLLPRKERGPPEGGLNEDERLLPKDKKTNLFSALIKKKKKTAPTPPKRSSSFREMDGQPERRGAGEEEGRDISNGALAFTPLDTADPAKSPKPSNGAGVPNGALRESGGSGFRSPHLWKKSSTLTSSRLATGEEEGGGSSSKRFLRSCSASCVPHGAKDTEWRSVTLPRDLQSTGRQFDSSTFGGHKSEKPALPRKRAGENRSDQVTRGTVTPPPRLVKKNEEAADEVFKDIMESSPGSSPPNLTPKPLRRQVTVAPASGLPHKEEAGKGSALGTPAAAEPVTPTSKAGSGAPGGTSKGPAEESRVRRHKHSSESPGRDKGKLSRLKPAPPPPPAASAGKAGGKPSQSPSQEAAGEAVLGAKTKATSLVDAVNSDAAKPSQPGEGLKKPVLPATPKPQSAKPSGTPISPAPVPSTLPSASSALAGDQPSSTAFIPLISTRVSLRKTRQPPERIASGAITKGVVLDSTEALCLAISRNSEQMASHSAVLEAGKNLYTFCVSYVDSIQQMRNKFAFREAINKLENNLRELQICPATAGSGPAATQDFSKLLSSVKEISDIVQR\n"
     ]
    },
    {
     "name": "stderr",
     "output_type": "stream",
     "text": [
      "Targets:  35%|███▌      | 7/20 [00:05<00:09,  1.40it/s]"
     ]
    },
    {
     "name": "stdout",
     "output_type": "stream",
     "text": [
      "AMINO SEQUENCE of Accession P00533:  MRPSGTAGAALLALLAALCPASRALEEKKVCQGTSNKLTQLGTFEDHFLSLQRMFNNCEVVLGNLEITYVQRNYDLSFLKTIQEVAGYVLIALNTVERIPLENLQIIRGNMYYENSYALAVLSNYDANKTGLKELPMRNLQEILHGAVRFSNNPALCNVESIQWRDIVSSDFLSNMSMDFQNHLGSCQKCDPSCPNGSCWGAGEENCQKLTKIICAQQCSGRCRGKSPSDCCHNQCAAGCTGPRESDCLVCRKFRDEATCKDTCPPLMLYNPTTYQMDVNPEGKYSFGATCVKKCPRNYVVTDHGSCVRACGADSYEMEEDGVRKCKKCEGPCRKVCNGIGIGEFKDSLSINATNIKHFKNCTSISGDLHILPVAFRGDSFTHTPPLDPQELDILKTVKEITGFLLIQAWPENRTDLHAFENLEIIRGRTKQHGQFSLAVVSLNITSLGLRSLKEISDGDVIISGNKNLCYANTINWKKLFGTSGQKTKIISNRGENSCKATGQVCHALCSPEGCWGPEPRDCVSCRNVSRGRECVDKCNLLEGEPREFVENSECIQCHPECLPQAMNITCTGRGPDNCIQCAHYIDGPHCVKTCPAGVMGENNTLVWKYADAGHVCHLCHPNCTYGCTGPGLEGCPTNGPKIPSIATGMVGALLLLLVVALGIGLFMRRRHIVRKRTLRRLLQERELVEPLTPSGEAPNQALLRILKETEFKKIKVLGSGAFGTVYKGLWIPEGEKVKIPVAIKELREATSPKANKEILDEAYVMASVDNPHVCRLLGICLTSTVQLITQLMPFGCLLDYVREHKDNIGSQYLLNWCVQIAKGMNYLEDRRLVHRDLAARNVLVKTPQHVKITDFGLAKLLGAEEKEYHAEGGKVPIKWMALESILHRIYTHQSDVWSYGVTVWELMTFGSKPYDGIPASEISSILEKGERLPQPPICTIDVYMIMVKCWMIDADSRPKFRELIIEFSKMARDPQRYLVIQGDERMHLPSPTDSNFYRALMDEEDMDDVVDADEYLIPQQGFFSSPSTSRTPLLSSLSATSNNSTVACIDRNGLQSCPIKEDSFLQRYSSDPTGALTEDSIDDTFLPVPEYINQSVPKRPAGSVQNPVYHNQPLNPAPSRDPHYQDPHSTAVGNPEYLNTVQPTCVNSTFDSPAHWAQKGSHQISLDNPDYQQDFFPKEAKPNGIFKGSTAENAEYLRVAPQSSEFIGA\n"
     ]
    },
    {
     "name": "stderr",
     "output_type": "stream",
     "text": [
      "Targets:  40%|████      | 8/20 [00:05<00:08,  1.41it/s]"
     ]
    },
    {
     "name": "stdout",
     "output_type": "stream",
     "text": [
      "AMINO SEQUENCE of Accession P00734:  MAHVRGLQLPGCLALAALCSLVHSQHVFLAPQQARSLLQRVRRANTFLEEVRKGNLERECVEETCSYEEAFEALESSTATDVFWAKYTACETARTPRDKLAACLEGNCAEGLGTNYRGHVNITRSGIECQLWRSRYPHKPEINSTTHPGADLQENFCRNPDSSTTGPWCYTTDPTVRRQECSIPVCGQDQVTVAMTPRSEGSSVNLSPPLEQCVPDRGQQYQGRLAVTTHGLPCLAWASAQAKALSKHQDFNSAVQLVENFCRNPDGDEEGVWCYVAGKPGDFGYCDLNYCEEAVEEETGDGLDEDSDRAIEGRTATSEYQTFFNPRTFGSGEADCGLRPLFEKKSLEDKTERELLESYIDGRIVEGSDAEIGMSPWQVMLFRKSPQELLCGASLISDRWVLTAAHCLLYPPWDKNFTENDLLVRIGKHSRTRYERNIEKISMLEKIYIHPRYNWRENLDRDIALMKLKKPVAFSDYIHPVCLPDRETAASLLQAGYKGRVTGWGNLKETWTANVGKGQPSVLQVVNLPIVERPVCKDSTRIRITDNMFCAGYKPDEGKRGDACEGDSGGPFVMKSPFNNRWYQMGIVSWGEGCDRDGKYGFYTHVFRLKKWIQKVIDQFGE\n"
     ]
    },
    {
     "name": "stderr",
     "output_type": "stream",
     "text": [
      "Targets:  45%|████▌     | 9/20 [00:06<00:07,  1.42it/s]"
     ]
    },
    {
     "name": "stdout",
     "output_type": "stream",
     "text": [
      "AMINO SEQUENCE of Accession P00747:  MEHKEVVLLLLLFLKSGQGEPLDDYVNTQGASLFSVTKKQLGAGSIEECAAKCEEDEEFTCRAFQYHSKEQQCVIMAENRKSSIIIRMRDVVLFEKKVYLSECKTGNGKNYRGTMSKTKNGITCQKWSSTSPHRPRFSPATHPSEGLEENYCRNPDNDPQGPWCYTTDPEKRYDYCDILECEEECMHCSGENYDGKISKTMSGLECQAWDSQSPHAHGYIPSKFPNKNLKKNYCRNPDRELRPWCFTTDPNKRWELCDIPRCTTPPPSSGPTYQCLKGTGENYRGNVAVTVSGHTCQHWSAQTPHTHNRTPENFPCKNLDENYCRNPDGKRAPWCHTTNSQVRWEYCKIPSCDSSPVSTEQLAPTAPPELTPVVQDCYHGDGQSYRGTSSTTTTGKKCQSWSSMTPHRHQKTPENYPNAGLTMNYCRNPDADKGPWCFTTDPSVRWEYCNLKKCSGTEASVVAPPPVVLLPDVETPSEEDCMFGNGKGYRGKRATTVTGTPCQDWAAQEPHRHSIFTPETNPRAGLEKNYCRNPDGDVGGPWCYTTNPRKLYDYCDVPQCAAPSFDCGKPQVEPKKCPGRVVGGCVAHPHSWPWQVSLRTRFGMHFCGGTLISPEWVLTAAHCLEKSPRPSSYKVILGAHQEVNLEPHVQEIEVSRLFLEPTRKDIALLKLSSPAVITDKVIPACLPSPNYVVADRTECFITGWGETQGTFGAGLLKEAQLPVIENKVCNRYEFLNGRVQSTELCAGHLAGGTDSCQGDSGGPLVCFEKDKYILQGVTSWGLGCARPNKPGVYVRVSRFVTWIEGVMRNN\n"
     ]
    },
    {
     "name": "stderr",
     "output_type": "stream",
     "text": [
      "Targets:  50%|█████     | 10/20 [00:07<00:07,  1.42it/s]"
     ]
    },
    {
     "name": "stdout",
     "output_type": "stream",
     "text": [
      "AMINO SEQUENCE of Accession P00813:  MAQTPAFDKPKVELHVHLDGSIKPETILYYGRRRGIALPANTAEGLLNVIGMDKPLTLPDFLAKFDYYMPAIAGCREAIKRIAYEFVEMKAKEGVVYVEVRYSPHLLANSKVEPIPWNQAEGDLTPDEVVALVGQGLQEGERDFGVKARSILCCMRHQPNWSPKVVELCKKYQQQTVVAIDLAGDETIPGSSLLPGHVQAYQEAVKSGIHRTVHAGEVGSAEVVKEAVDILKTERLGHGYHTLEDQALYNRLRQENMHFEICPWSSYLTGAWKPDTEHAVIRLKNDQANYSLNTDDPLIFKSTLDTDYQMTKRDMGFTEEEFKRLNINAAKSSFLPEDEKRELLDLLYKAYGMPPSASAGQNL\n"
     ]
    },
    {
     "name": "stderr",
     "output_type": "stream",
     "text": [
      "Targets:  55%|█████▌    | 11/20 [00:08<00:06,  1.42it/s]"
     ]
    },
    {
     "name": "stdout",
     "output_type": "stream",
     "text": [
      "AMINO SEQUENCE of Accession P00918:  MSHHWGYGKHNGPEHWHKDFPIAKGERQSPVDIDTHTAKYDPSLKPLSVSYDQATSLRILNNGHAFNVEFDDSQDKAVLKGGPLDGTYRLIQFHFHWGSLDGQGSEHTVDKKKYAAELHLVHWNTKYGDFGKAVQQPDGLAVLGIFLKVGSAKPGLQKVVDVLDSIKTKGKSADFTNFDPRGLLPESLDYWTYPGSLTTPPLLECVTWIVLKEPISVSSEQVLKFRKLNFNGEGEPEELMVDNWRPAQPLKNRQIKASFK\n"
     ]
    },
    {
     "name": "stderr",
     "output_type": "stream",
     "text": [
      "Targets:  60%|██████    | 12/20 [00:08<00:05,  1.43it/s]"
     ]
    },
    {
     "name": "stdout",
     "output_type": "stream",
     "text": [
      "AMINO SEQUENCE of Accession P01008:  MYSNVIGTVTSGKRKVYLLSLLLIGFWDCVTCHGSPVDICTAKPRDIPMNPMCIYRSPEKKATEDEGSEQKIPEATNRRVWELSKANSRFATTFYQHLADSKNDNDNIFLSPLSISTAFAMTKLGACNDTLQQLMEVFKFDTISEKTSDQIHFFFAKLNCRLYRKANKSSKLVSANRLFGDKSLTFNETYQDISELVYGAKLQPLDFKENAEQSRAAINKWVSNKTEGRITDVIPSEAINELTVLVLVNTIYFKGLWKSKFSPENTRKELFYKADGESCSASMMYQEGKFRYRRVAEGTQVLELPFKGDDITMVLILPKPEKSLAKVEKELTPEVLQEWLDELEEMMLVVHMPRFRIEDGFSLKEQLQDMGLVDLFSPEKSKLPGIVAEGRDDLYVSDAFHKAFLEVNEEGSEAAASTAVVIAGRSLNPNRVTFKANRPFLVFIREVPLNTIIFMGRVANPCVK\n"
     ]
    },
    {
     "name": "stderr",
     "output_type": "stream",
     "text": [
      "Targets:  65%|██████▌   | 13/20 [00:09<00:04,  1.44it/s]"
     ]
    },
    {
     "name": "stdout",
     "output_type": "stream",
     "text": [
      "AMINO SEQUENCE of Accession P63316:  MDDIYKAAVEQLTEEQKNEFKAAFDIFVLGAEDGCISTKELGKVMRMLGQNPTPEELQEMIDEVDEDGSGTVDFDEFLVMMVRCMKDDSKGKSEEELSDLFRMFDKNADGYIDLDELKIMLQATGETITEDDIEELMKDGDKNNDGRIDYDEFLEFMKGVE\n"
     ]
    },
    {
     "name": "stderr",
     "output_type": "stream",
     "text": [
      "Targets:  70%|███████   | 14/20 [00:10<00:04,  1.44it/s]"
     ]
    },
    {
     "name": "stdout",
     "output_type": "stream",
     "text": [
      "AMINO SEQUENCE of Accession P03372:  MTMTLHTKASGMALLHQIQGNELEPLNRPQLKIPLERPLGEVYLDSSKPAVYNYPEGAAYEFNAAAAANAQVYGQTGLPYGPGSEAAAFGSNGLGGFPPLNSVSPSPLMLLHPPPQLSPFLQPHGQQVPYYLENEPSGYTVREAGPPAFYRPNSDNRRQGGRERLASTNDKGSMAMESAKETRYCAVCNDYASGYHYGVWSCEGCKAFFKRSIQGHNDYMCPATNQCTIDKNRRKSCQACRLRKCYEVGMMKGGIRKDRRGGRMLKHKRQRDDGEGRGEVGSAGDMRAANLWPSPLMIKRSKKNSLALSLTADQMVSALLDAEPPILYSEYDPTRPFSEASMMGLLTNLADRELVHMINWAKRVPGFVDLTLHDQVHLLECAWLEILMIGLVWRSMEHPGKLLFAPNLLLDRNQGKCVEGMVEIFDMLLATSSRFRMMNLQGEEFVCLKSIILLNSGVYTFLSSTLKSLEEKDHIHRVLDKITDTLIHLMAKAGLTLQQQHQRLAQLLLILSHIRHMSNKGMEHLYSMKCKNVVPLYDLLLEMLDAHRLHAPTSRGGASVEETDQSHLATAGSTSSHSLQKYYITGEAEGFPATV\n"
     ]
    },
    {
     "name": "stderr",
     "output_type": "stream",
     "text": [
      "Targets:  75%|███████▌  | 15/20 [00:10<00:03,  1.43it/s]"
     ]
    },
    {
     "name": "stdout",
     "output_type": "stream",
     "text": [
      "AMINO SEQUENCE of Accession P03952:  MILFKQATYFISLFATVSCGCLTQLYENAFFRGGDVASMYTPNAQYCQMRCTFHPRCLLFSFLPASSINDMEKRFGCFLKDSVTGTLPKVHRTGAVSGHSLKQCGHQISACHRDIYKGVDMRGVNFNVSKVSSVEECQKRCTSNIRCQFFSYATQTFHKAEYRNNCLLKYSPGGTPTAIKVLSNVESGFSLKPCALSEIGCHMNIFQHLAFSDVDVARVLTPDAFVCRTICTYHPNCLFFTFYTNVWKIESQRNVCLLKTSESGTPSSSTPQENTISGYSLLTCKRTLPEPCHSKIYPGVDFGGEELNVTFVKGVNVCQETCTKMIRCQFFTYSLLPEDCKEEKCKCFLRLSMDGSPTRIAYGTQGSSGYSLRLCNTGDNSVCTTKTSTRIVGGTNSSWGEWPWQVSLQVKLTAQRHLCGGSLIGHQWVLTAAHCFDGLPLQDVWRIYSGILNLSDITKDTPFSQIKEIIIHQNYKVSEGNHDIALIKLQAPLNYTEFQKPICLPSKGDTSTIYTNCWVTGWGFSKEKGEIQNILQKVNIPLVTNEECQKRYQDYKITQRMVCAGYKEGGKDACKGDSGGPLVCKHNGMWRLVGITSWGEGCARREQPGVYTKVAEYMDWILEKTQSSDGKAQMQSPA\n"
     ]
    },
    {
     "name": "stderr",
     "output_type": "stream",
     "text": [
      "Targets:  80%|████████  | 16/20 [00:11<00:02,  1.43it/s]"
     ]
    },
    {
     "name": "stdout",
     "output_type": "stream",
     "text": [
      "AMINO SEQUENCE of Accession P04035:  MLSRLFRMHGLFVASHPWEVIVGTVTLTICMMSMNMFTGNNKICGWNYECPKFEEDVLSSDIIILTITRCIAILYIYFQFQNLRQLGSKYILGIAGLFTIFSSFVFSTVVIHFLDKELTGLNEALPFFLLLIDLSRASTLAKFALSSNSQDEVRENIARGMAILGPTFTLDALVECLVIGVGTMSGVRQLEIMCCFGCMSVLANYFVFMTFFPACVSLVLELSRESREGRPIWQLSHFARVLEEEENKPNPVTQRVKMIMSLGLVLVHAHSRWIADPSPQNSTADTSKVSLGLDENVSKRIEPSVSLWQFYLSKMISMDIEQVITLSLALLLAVKYIFFEQTETESTLSLKNPITSPVVTQKKVPDNCCRREPMLVRNNQKCDSVEEETGINRERKVEVIKPLVAETDTPNRATFVVGNSSLLDTSSVLVTQEPEIELPREPRPNEECLQILGNAEKGAKFLSDAEIIQLVNAKHIPAYKLETLMETHERGVSIRRQLLSKKLSEPSSLQYLPYRDYNYSLVMGACCENVIGYMPIPVGVAGPLCLDEKEFQVPMATTEGCLVASTNRGCRAIGLGGGASSRVLADGMTRGPVVRLPRACDSAEVKAWLETSEGFAVIKEAFDSTSRFARLQKLHTSIAGRNLYIRFQSRSGDAMGMNMISKGTEKALSKLHEYFPEMQILAVSGNYCTDKKPAAINWIEGRGKSVVCEAVIPAKVVREVLKTTTEAMIEVNINKNLVGSAMAGSIGGYNAHAANIVTAIYIACGQDAAQNVGSSNCITLMEASGPTNEDLYISCTMPSIEIGTVGGGTNLLPQQACLQMLGVQGACKDNPGENARQLARIVCGTVMAGELSLMAALAAGHLVKSHMIHNRSKINLQDLQGACTKKTA\n"
     ]
    },
    {
     "name": "stderr",
     "output_type": "stream",
     "text": [
      "Targets:  85%|████████▌ | 17/20 [00:12<00:02,  1.43it/s]"
     ]
    },
    {
     "name": "stdout",
     "output_type": "stream",
     "text": [
      "AMINO SEQUENCE of Accession P04150:  MDSKESLTPGREENPSSVLAQERGDVMDFYKTLRGGATVKVSASSPSLAVASQSDSKQRRLLVDFPKGSVSNAQQPDLSKAVSLSMGLYMGETETKVMGNDLGFPQQGQISLSSGETDLKLLEESIANLNRSTSVPENPKSSASTAVSAAPTEKEFPKTHSDVSSEQQHLKGQTGTNGGNVKLYTTDQSTFDILQDLEFSSGSPGKETNESPWRSDLLIDENCLLSPLAGEDDSFLLEGNSNEDCKPLILPDTKPKIKDNGDLVLSSPSNVTLPQVKTEKEDFIELCTPGVIKQEKLGTVYCQASFPGANIIGNKMSAISVHGVSTSGGQMYHYDMNTASLSQQQDQKPIFNVIPPIPVGSENWNRCQGSGDDNLTSLGTLNFPGRTVFSNGYSSPSMRPDVSSPPSSSSTATTGPPPKLCLVCSDEASGCHYGVLTCGSCKVFFKRAVEGQHNYLCAGRNDCIIDKIRRKNCPACRYRKCLQAGMNLEARKTKKKIKGIQQATTGVSQETSENPGNKTIVPATLPQLTPTLVSLLEVIEPEVLYAGYDSSVPDSTWRIMTTLNMLGGRQVIAAVKWAKAIPGFRNLHLDDQMTLLQYSWMFLMAFALGWRSYRQSSANLLCFAPDLIINEQRMTLPCMYDQCKHMLYVSSELHRLQVSYEEYLCMKTLLLLSSVPKDGLKSQELFDEIRMTYIKELGKAIVKREGNSSQNWQRFYQLTKLLDSMHEVVENLLNYCFQTFLDKTMSIEFPEMLAEIITNQIPKYSNGNIKKLLFHQK\n"
     ]
    },
    {
     "name": "stderr",
     "output_type": "stream",
     "text": [
      "Targets:  90%|█████████ | 18/20 [00:12<00:01,  1.44it/s]"
     ]
    },
    {
     "name": "stdout",
     "output_type": "stream",
     "text": [
      "AMINO SEQUENCE of Accession P04818:  MPVAGSELPRRPLPPAAQERDAEPRPPHGELQYLGQIQHILRCGVRKDDRTGTGTLSVFGMQARYSLRDEFPLLTTKRVFWKGVLEELLWFIKGSTNAKELSSKGVKIWDANGSRDFLDSLGFSTREEGDLGPVYGFQWRHFGAEYRDMESDYSGQGVDQLQRVIDTIKTNPDDRRIIMCAWNPRDLPLMALPPCHALCQFYVVNSELSCQLYQRSGDMGLGVPFNIASYALLTYMIAHITGLKPGDFIHTLGDAHIYLNHIEPLKIQLQREPRPFPKLRILRKVEKIDDFKAEDFQIEGYNPHPTIKMEMAV\n"
     ]
    },
    {
     "name": "stderr",
     "output_type": "stream",
     "text": [
      "Targets:  95%|█████████▌| 19/20 [00:13<00:00,  1.43it/s]"
     ]
    },
    {
     "name": "stdout",
     "output_type": "stream",
     "text": [
      "AMINO SEQUENCE of Accession P05023:  MGKGVGRDKYEPAAVSEQGDKKGKKGKKDRDMDELKKEVSMDDHKLSLDELHRKYGTDLSRGLTSARAAEILARDGPNALTPPPTTPEWIKFCRQLFGGFSMLLWIGAILCFLAYSIQAATEEEPQNDNLYLGVVLSAVVIITGCFSYYQEAKSSKIMESFKNMVPQQALVIRNGEKMSINAEEVVVGDLVEVKGGDRIPADLRIISANGCKVDNSSLTGESEPQTRSPDFTNENPLETRNIAFFSTNCVEGTARGIVVYTGDRTVMGRIATLASGLEGGQTPIAAEIEHFIHIITGVAVFLGVSFFILSLILEYTWLEAVIFLIGIIVANVPEGLLATVTVCLTLTAKRMARKNCLVKNLEAVETLGSTSTICSDKTGTLTQNRMTVAHMWFDNQIHEADTTENQSGVSFDKTSATWLALSRIAGLCNRAVFQANQENLPILKRAVAGDASESALLKCIELCCGSVKEMRERYAKIVEIPFNSTNKYQLSIHKNPNTSEPQHLLVMKGAPERILDRCSSILLHGKEQPLDEELKDAFQNAYLELGGLGERVLGFCHLFLPDEQFPEGFQFDTDDVNFPIDNLCFVGLISMIDPPRAAVPDAVGKCRSAGIKVIMVTGDHPITAKAIAKGVGIISEGNETVEDIAARLNIPVSQVNPRDAKACVVHGSDLKDMTSEQLDDILKYHTEIVFARTSPQQKLIIVEGCQRQGAIVAVTGDGVNDSPALKKADIGVAMGIAGSDVSKQAADMILLDDNFASIVTGVEEGRLIFDNLKKSIAYTLTSNIPEITPFLIFIIANIPLPLGTVTILCIDLGTDMVPAISLAYEQAESDIMKRQPRNPKTDKLVNERLISMAYGQIGMIQALGGFFTYFVILAENGFLPIHLLGLRVDWDDRWINDVEDSYGQQWTYEQRKIVEFTCHTAFFVSIVVVQWADLVICKTRRNSVFQQGMKNKILIFGLFEETALAAFLSYCPGMGVALRMYPLKPTWWFCAFPYSLLIFVYDEVRKLIIRRRPGGWVEKETYY\n"
     ]
    },
    {
     "name": "stderr",
     "output_type": "stream",
     "text": [
      "Targets: 100%|██████████| 20/20 [00:14<00:00,  1.40it/s]"
     ]
    },
    {
     "name": "stdout",
     "output_type": "stream",
     "text": [
      "AMINO SEQUENCE of Accession P05091:  MLRAAARFGPRLGRRLLSAAATQAVPAPNQQPEVFCNQIFINNEWHDAVSRKTFPTVNPSTGEVICQVAEGDKEDVDKAVKAARAAFQLGSPWRRMDASHRGRLLNRLADLIERDRTYLAALETLDNGKPYVISYLVDLDMVLKCLRYYAGWADKYHGKTIPIDGDFFSYTRHEPVGVCGQIIPWNFPLLMQAWKLGPALATGNVVVMKVAEQTPLTALYVANLIKEAGFPPGVVNIVPGFGPTAGAAIASHEDVDKVAFTGSTEIGRVIQVAAGSSNLKRVTLELGGKSPNIIMSDADMDWAVEQAHFALFFNQGQCCCAGSRTFVQEDIYDEFVERSVARAKSRVVGNPFDSKTEQGPQVDETQFKKILGYINTGKQEGAKLLCGGGIAADRGYFIQPTVFGDVQDGMTIAKEEIFGPVMQILKFKTIEEVVGRANNSTYGLAAAVFTKDLDKANYLSQALQAGTVWVNCYDVFGAQSPFGGYKMSGSGRELGEYGLQAYTEVKTVTVKVPQKNS\n",
      "length: 20\n",
      "picked 2 {\n",
      "  \"target_chembl_id\": \"CHEMBL1971\",\n",
      "  \"pref_name\": \"Sulfonylurea receptor 2\",\n",
      "  \"accession\": \"O60706\",\n",
      "  \"component_id\": 294,\n",
      "  \"component_type\": \"PROTEIN\",\n",
      "  \"relationship\": \"SINGLE PROTEIN\",\n",
      "  \"sequence\": \"MSLSFCGNNISSYNINDGVLQNSCFVDALNLVPHVFLLFITFPILFIGWGSQSSKVQIHHNTWLHFPGHNLRWILTFALLFVHVCEIAEGIVSDSRRESRHLHLFMPAVMGFVATTTSIVYYHNIETSNFPKLLLALFLYWVMAFITKTIKLVKYCQSGLDISNLRFCITGMMVILNGLLMAVEINVIRVRRYVFFMNPQKVKPPEDLQDLGVRFLQPFVNLLSKATYWWMNTLIISAHKKPIDLKAIGKLPIAMRAVTNYVCLKDAYEEQKKKVADHPNRTPSIWLAMYRAFGRPILLSSTFRYLADLLGFAGPLCISGIVQRVNETQNGTNNTTGISETLSSKEFLENAYVLAVLLFLALILQRTFLQASYYVTIETGINLRGALLAMIYNKILRLSTSNLSMGEMTLGQINNLVAIETNQLMWFLFLCPNLWAMPVQIIMGVILLYNLLGSSALVGAAVIVLLAPIQYFIATKLAEAQKSTLDYSTERLKKTNEILKGIKLLKLYAWEHIFCKSVEETRMKELSSLKTFALYTSLSIFMNAAIPIAAVLATFVTHAYASGNNLKPAEAFASLSLFHILVTPLFLLSTVVRFAVKAIISVQKLNEFLLSDEIGDDSWRTGESSLPFESCKKHTGVQPKTINRKQPGRYHLDSYEQSTRRLRPAETEDIAIKVTNGYFSWGSGLATLSNIDIRIPTGQLTMIVGQVGCGKSSLLLAILGEMQTLEGKVHWSNVNESEPSFEATRSRNRYSVAYAAQKPWLLNATVEENITFGSPFNKQRYKAVTDACSLQPDIDLLPFGDQTEIGERGINLSGGQRQRICVARALYQNTNIVFLDDPFSALDIHLSDHLMQEGILKFLQDDKRTLVLVTHKLQYLTHADWIIAMKDGSVLREGTLKDIQTKDVELYEHWKTLMNRQDQELEKDMEADQTTLERKTLRRAMYSREAKAQMEDEDEEEEEEEDEDDNMSTVMRLRTKMPWKTCWRYLTSGGFFLLILMIFSKLLKHSVIVAIDYWLATWTSEYSINNTGKADQTYYVAGFSILCGAGIFLCLVTSLTVEWMGLTAAKNLHHNLLNKIILGPIRFFDTTPLGLILNRFSADTNIIDQHIPPTLESLTRSTLLCLSAIGMISYATPVFLVALLPLGVAFYFIQKYFRVASKDLQELDDSTQLPLLCHFSETAEGLTTIRAFRHETRFKQRMLELTDTNNIAYLFLSAANRWLEVRTDYLGACIVLTASIASISGSSNSGLVGLGLLYALTITNYLNWVVRNLADLEVQMGAVKKVNSFLTMESENYEGTMDPSQVPEHWPQEGEIKIHDLCVRYENNLKPVLKHVKAYIKPGQKVGICGRTGSGKSSLSLAFFRMVDIFDGKIVIDGIDISKLPLHTLRSRLSIILQDPILFSGSIRFNLDPECKCTDDRLWEALEIAQLKNMVKSLPGGLDAVVTEGGENFSVGQRQLFCLARAFVRKSSILIMDEATASIDMATENILQKVVMTAFADRTVVTIAHRVSSIMDAGLVLVFSEGILVECDTVPNLLAHKNGLFSTLVMTNK\",\n",
      "  \"organism\": \"Homo sapiens\"\n",
      "}\n",
      "picked 16 {\n",
      "  \"target_chembl_id\": \"CHEMBL402\",\n",
      "  \"pref_name\": \"HMG-CoA reductase\",\n",
      "  \"accession\": \"P04035\",\n",
      "  \"component_id\": 312,\n",
      "  \"component_type\": \"PROTEIN\",\n",
      "  \"relationship\": \"SINGLE PROTEIN\",\n",
      "  \"sequence\": \"MLSRLFRMHGLFVASHPWEVIVGTVTLTICMMSMNMFTGNNKICGWNYECPKFEEDVLSSDIIILTITRCIAILYIYFQFQNLRQLGSKYILGIAGLFTIFSSFVFSTVVIHFLDKELTGLNEALPFFLLLIDLSRASTLAKFALSSNSQDEVRENIARGMAILGPTFTLDALVECLVIGVGTMSGVRQLEIMCCFGCMSVLANYFVFMTFFPACVSLVLELSRESREGRPIWQLSHFARVLEEEENKPNPVTQRVKMIMSLGLVLVHAHSRWIADPSPQNSTADTSKVSLGLDENVSKRIEPSVSLWQFYLSKMISMDIEQVITLSLALLLAVKYIFFEQTETESTLSLKNPITSPVVTQKKVPDNCCRREPMLVRNNQKCDSVEEETGINRERKVEVIKPLVAETDTPNRATFVVGNSSLLDTSSVLVTQEPEIELPREPRPNEECLQILGNAEKGAKFLSDAEIIQLVNAKHIPAYKLETLMETHERGVSIRRQLLSKKLSEPSSLQYLPYRDYNYSLVMGACCENVIGYMPIPVGVAGPLCLDEKEFQVPMATTEGCLVASTNRGCRAIGLGGGASSRVLADGMTRGPVVRLPRACDSAEVKAWLETSEGFAVIKEAFDSTSRFARLQKLHTSIAGRNLYIRFQSRSGDAMGMNMISKGTEKALSKLHEYFPEMQILAVSGNYCTDKKPAAINWIEGRGKSVVCEAVIPAKVVREVLKTTTEAMIEVNINKNLVGSAMAGSIGGYNAHAANIVTAIYIACGQDAAQNVGSSNCITLMEASGPTNEDLYISCTMPSIEIGTVGGGTNLLPQQACLQMLGVQGACKDNPGENARQLARIVCGTVMAGELSLMAALAAGHLVKSHMIHNRSKINLQDLQGACTKKTA\",\n",
      "  \"organism\": \"Homo sapiens\"\n",
      "}\n"
     ]
    },
    {
     "name": "stderr",
     "output_type": "stream",
     "text": [
      "\n"
     ]
    }
   ],
   "source": [
    "\n",
    "# 3) iterate targets → compute per-target median, label, keep label==1\n",
    "all_pos = []\n",
    "target_info = {}\n",
    "for t in tqdm(PICKED_TARGETS, desc='Targets'):\n",
    "    accession = t['accession']\n",
    "    # print(t)\n",
    "    org_seq = fetch_sequence_bundle(accession)\n",
    "    # print(df,a)\n",
    "    target_info[accession] = org_seq['sequence']\n",
    "    t['sequence'] = org_seq['sequence']\n",
    "    t['organism'] = org_seq['organism']\n",
    "print(\"length:\", len(PICKED_TARGETS))\n",
    "# print('PICKED_TARGETS', json.dumps(PICKED_TARGETS,indent=2))\n",
    "print('picked 2', json.dumps(PICKED_TARGETS[1],indent=2))\n",
    "print('picked 16', json.dumps(PICKED_TARGETS[15],indent=2))\n",
    "#     if df.shape[0] < MIN_ACTS_PER_TARGET:\n",
    "#         continue\n",
    "#     df = df.head(MAX_ACTS_PER_TARGET)  # cap\n",
    "#     print(df.head())\n",
    "#     df['pchembl_value'] = df['pchembl_value'].apply(lambda x: round(float(x),2))\n",
    "#     med = df['pchembl_value'].median()\n",
    "#     print(\"==== MEDIAN : \", med)\n",
    "#     df['label'] = (df['pchembl_value'] > med).astype(int)\n",
    "#     df = df[df['label'] == 1]  # keep above-median only (DeepTarget-style)\n",
    "#     print(\"check df\",df.head())\n",
    "#     if df.empty:\n",
    "#         continue\n",
    "#     accs, seq = fetch_sequence_bundle(tid)\n",
    "#     # Filter out sequences with unknown 'X'\n",
    "#     if seq and ('X' in seq):\n",
    "#         continue\n",
    "\n",
    "#     for r in df.itertuples(index=False):\n",
    "#         all_pos.append({\n",
    "#             'target_chembl_id': tid,\n",
    "#             'target_pref_name': t['pref_name'],\n",
    "#             'uniprot_ids': \";\".join(accs) if accs else None,\n",
    "#             'protein_sequence': seq,\n",
    "#             'molecule_chembl_id': r.molecule_chembl_id,\n",
    "#             'pchembl_value': r.pchembl_value,\n",
    "#             'label': 1\n",
    "#         })\n",
    "# print(df.head())\n",
    "\n"
   ]
  },
  {
   "cell_type": "code",
   "execution_count": 75,
   "id": "900b4bc3",
   "metadata": {},
   "outputs": [
    {
     "data": {
      "text/plain": [
       "{'organism': 'Homo sapiens',\n",
       " 'sequence': 'MLRAAARFGPRLGRRLLSAAATQAVPAPNQQPEVFCNQIFINNEWHDAVSRKTFPTVNPSTGEVICQVAEGDKEDVDKAVKAARAAFQLGSPWRRMDASHRGRLLNRLADLIERDRTYLAALETLDNGKPYVISYLVDLDMVLKCLRYYAGWADKYHGKTIPIDGDFFSYTRHEPVGVCGQIIPWNFPLLMQAWKLGPALATGNVVVMKVAEQTPLTALYVANLIKEAGFPPGVVNIVPGFGPTAGAAIASHEDVDKVAFTGSTEIGRVIQVAAGSSNLKRVTLELGGKSPNIIMSDADMDWAVEQAHFALFFNQGQCCCAGSRTFVQEDIYDEFVERSVARAKSRVVGNPFDSKTEQGPQVDETQFKKILGYINTGKQEGAKLLCGGGIAADRGYFIQPTVFGDVQDGMTIAKEEIFGPVMQILKFKTIEEVVGRANNSTYGLAAAVFTKDLDKANYLSQALQAGTVWVNCYDVFGAQSPFGGYKMSGSGRELGEYGLQAYTEVKTVTVKVPQKNS'}"
      ]
     },
     "execution_count": 75,
     "metadata": {},
     "output_type": "execute_result"
    }
   ],
   "source": [
    "org_seq"
   ]
  },
  {
   "cell_type": "code",
   "execution_count": 27,
   "id": "3aa377a4",
   "metadata": {},
   "outputs": [
    {
     "data": {
      "text/plain": [
       "'MARKKLKKFTTLEIVLSVLLLVLFIISIVLIVLLAKESLKSTAPDPGTTGTPDPGTTGTPDPGTTGTTHARTTGPPDPGTTGTTPVSAECPVVNELERINCIPDQPPTKATCDQRGCCWNPQGAVSVPWCYYSKNHSYHVEGNLVNTNAGFTARLKNLPSSPVFGSNVDNVLLTAEYQTSNRFHFKLTDQTNNRFEVPHEHVQSFSGNAAASLTYQVEISRQPFSIKVTRRSNNRVLFDSSIGPLLFADQFLQLSTRLPSTNVYGLGEHVHQQYRHDMNWKTWPIFNRDTTPNGNGTNLYGAQTFFLCLEDASGLSFGVFLMNSNAMEVVLQPAPAITYRTIGGILDFYVFLGNTPEQVVQEYLELIGRPALPSYWALGFHLSRYEYGTLDNMREVVERNRAAQLPYDVQHADIDYMDERRDFTYDSVDFKGFPEFVNELHNNGQKLVIIVDPAISNNSSSSKPYGPYDRGSDMKIWVNSSDGVTPLIGEVWPGQTVFPDYTNPNCAVWWTKEFELFHNQVEFDGIWIDMNEVSNFVDGSVSGCSTNNLNNPPFTPRILDGYLFCKTLCMDAVQHWGKQYDIHNLYGYSMAVATAEAAKTVFPNKRSFILTRSTFAGSGKFAAHWLGDNTATWDDLRWSIPGVLEFNLFGIPMVGPDICGFALDTPEELCRRWMQLGAFYPFSRNHNGQGYKDQDPASFGADSLLLNSSRHYLNIRYTLLPYLYTLFFRAHSRGDTVARPLLHEFYEDNSTWDVHQQFLWGPGLLITPVLDEGAEKVMAYVPDAVWYDYETGSQVRWRKQKVEMELPGDKIGLHLRGGYIFPTQQPNTTTLASRKNPLGLIIALDENKEAKGELFWDNGETKDTVANKVYLLCEFSVTQNRLEVNISQSTYKDPNNLAFNEIKILGTEEPSNVTVKHNGVPSQTSPTVTYDSNLKVAIITDIDLLLGEAYTVEWSIKIRDEEKIDCYPDENGASAENCTARGCIWEASNSSGVPFCYFVNDLYSVSDVQYNSHGATADISLKSSVYANAFPSTPVNPLRLDVTYHKNEMLQFKIYDPNKNRYEVPVPLNIPSMPSSTPEGQLYDVLIKKNPFGIEIRRKSTGTIIWDSQLLGFTFSDMFIRISTRLPSKYLYGFGETEHRSYRRDLEWHTWGMFSRDQPPGYKKNSYGVHPYYMGLEEDGSAHGVLLLNSNAMDVTFQPLPALTYRTTGGVLDFYVFLGPTPELVTQQYTELIGRPVMVPYWSLGFQLCRYGYQNDSEIASLYDEMVAAQIPYDVQYSDIDYMERQLDFTLSPKFAGFPALINRMKADGMRVILILDPAISGNETQPYPAFTRGVEDDVFIKYPNDGDIVWGKVWPDFPDVVVNGSLDWDSQVELYRAYVAFPDFFRNSTAKWWKREIEELYNNPQNPERSLKFDGMWIDMNEPSSFVNGAVSPGCRDASLNHPPYMPHLESRDRGLSSKTLCMESQQILPDGSLVQHYNVHNLYGWSQTRPTYEAVQEVTGQRGVVITRSTFPSSGRWAGHWLGDNTAAWDQLKKSIIGMMEFSLFGISYTGADICGFFQDAEYEMCVRWMQLGAFYPFSRNHNTIGTRRQDPVSWDAAFVNISRNVLQTRYTLLPYLYTLMQKAHTEGVTVVRPLLHEFVSDQVTWDIDSQFLLGPAFLVSPVLERNARNVTAYFPRARWYDYYTGVDINARGEWKTLPAPLDHINLHVRGGYILPWQEPALNTHLSRKNPLGLIIALDENKEAKGELFWDDGQTKDTVAKKVYLLCEFSVTQNHLEVTISQSTYKDPNNLAFNEIKILGMEEPSNVTVKHNGVPSQTSPTVTYDSNLKVAIITDINLFLGEAYTVEWSIKIRDEEKIDCYPDENGDSAENCTARGCIWEASNSSGVPFCYFVNDLYSVSDVQYNSHGATADISLKSSVHANAFPSTPVNPLRLDVTYHKNEMLQFKIYDPNNNRYEVPVPLNIPSVPSSTPEGQLYDVLIKKNPFGIEIRRKSTGTIIWDSQLLGFTFNDMFIRISTRLPSKYLYGFGETEHTSYRRDLEWHTWGMFSRDQPPGYKKNSYGVHPYYMGLEEDGSAHGVLLLNSNAMDVTFQPLPALTYRTTGGVLDFYVFLGPTPELVTQQYTELIGRPVMVPYWSLGFQLCRYGYQNDSEISSLYDEMVAAQIPYDVQYSDIDYMERQLDFTLSPKFAGFPALINRMKADGMRVILILDPAISGNETQPYPAFTRGVEDDVFIKYPNDGDIVWGKVWPDFPDVVVNGSLDWDSQVELYRAYVAFPDFFRNSTAKWWKREIEELYNNPQNPERSLKFDGMWIDMNEPSSFVNGAVSPGCRDASLNHPPYMPYLESRDRGLSSKTLCMESQQILPDGSPVQHYNVHNLYGWSQTRPTYEAVQEVTGQRGVVITRSTFPSSGRWAGHWLGDNTAAWDQLKKSIIGMMEFSLFGISYTGADICGFFQDAEYEMCVRWMQLGAFYPFSRNHNTIGTRRQDPVSWDVAFVNISRTVLQTRYTLLPYLYTLMHKAHTEGVTVVRPLLHEFVSDQVTWDIDSQFLLGPAFLVSPVLERNARNVTAYFPRARWYDYYTGVDINARGEWKTLPAPLDHINLHVRGGYILPWQEPALNTHLSRQKFMGFKIALDDEGTAGGWLFWDDGQSIDTYGKGLYYLASFSASQNTMQSHIIFNNYITGTNPLKLGYIEIWGVGSVPVTSVSISVSGMVITPSFNNDPTTQVLSIDVTDRNISLHNFTSLTWISTL'"
      ]
     },
     "execution_count": 27,
     "metadata": {},
     "output_type": "execute_result"
    }
   ],
   "source": [
    "PICKED_TARGETS[0]['sequence']"
   ]
  },
  {
   "cell_type": "code",
   "execution_count": 28,
   "id": "53f4bb5e",
   "metadata": {},
   "outputs": [],
   "source": [
    "import torch\n",
    "from tape import ProteinBertModel, TAPETokenizer\n",
    "\n",
    "model = ProteinBertModel.from_pretrained('bert-base')\n",
    "tokenizer = TAPETokenizer(vocab='iupac')  # iupac is the vocab for TAPE models, use unirep for the UniRep model\n"
   ]
  },
  {
   "cell_type": "code",
   "execution_count": null,
   "id": "ea9e35a2",
   "metadata": {},
   "outputs": [],
   "source": [
    "\n",
    "# Pfam Family: Hexapep, Clan: CL0536\n",
    "sequence = 'GCTVEDRCLIGMGAILLNGCVIGSGSLVAAGALITQ'\n",
    "token_ids = torch.tensor([tokenizer.encode(sequence)])\n",
    "output = model(token_ids)\n",
    "sequence_output = output[0]\n",
    "pooled_output = output[1]\n",
    "\n",
    "# NOTE: pooled_output is *not* trained for the transformer, do not use\n",
    "# w/o fine-tuning. A better option for now is to simply take a mean of\n",
    "# the sequence output"
   ]
  },
  {
   "cell_type": "code",
   "execution_count": null,
   "id": "b98d09a0",
   "metadata": {},
   "outputs": [],
   "source": [
    "\n",
    "# 4) fetch SMILES for all molecules (RDKit cleaning next)\n",
    "pos_df = pd.DataFrame(all_pos)\n",
    "if pos_df.empty:\n",
    "    raise SystemExit(\"No positive pairs collected—try lowering MIN_ACTS_PER_TARGET or increase MAX_TARGETS.\")\n",
    "\n",
    "mol_ids = sorted(pos_df['molecule_chembl_id'].unique())\n",
    "MCHUNK = 100\n",
    "mol_rows = []\n",
    "for i in tqdm(range(0, len(mol_ids), MCHUNK), desc='Molecules'):\n",
    "    part = mol_ids[i:i+MCHUNK]\n",
    "    mres = mol_api.filter(molecule_chembl_id__in=\";\".join(part)) \\\n",
    "                  .only(['molecule_chembl_id','molecule_structures'])\n",
    "    for m in mres:\n",
    "        mid = m['molecule_chembl_id']\n",
    "        s   = (m.get('molecule_structures') or {}).get('canonical_smiles')\n",
    "        mol_rows.append({'molecule_chembl_id': mid, 'canonical_smiles': s})\n",
    "\n",
    "mol_df = pd.DataFrame(mol_rows)\n"
   ]
  },
  {
   "cell_type": "code",
   "execution_count": null,
   "id": "07e2c548",
   "metadata": {},
   "outputs": [],
   "source": [
    "\n",
    "# 5) RDKit cleaning (desalt, strip stereo, remove uncommon atoms)\n",
    "from rdkit import Chem\n",
    "\n",
    "ALLOWED = set(['B','C','N','O','P','S','F','Cl','Br','I','Si','H'])\n",
    "\n",
    "def clean_smiles(smi):\n",
    "    if not smi:\n",
    "        return None\n",
    "    # Keep largest fragment (desalt)\n",
    "    largest = max(smi.split('.'), key=len)\n",
    "    mol = Chem.MolFromSmiles(largest)\n",
    "    if mol is None:\n",
    "        return None\n",
    "    # Remove stereochemistry\n",
    "    Chem.RemoveStereochemistry(mol)\n",
    "    # Remove uncommon atoms\n",
    "    for atom in mol.GetAtoms():\n",
    "        sym = atom.GetSymbol()\n",
    "        if sym not in ALLOWED:\n",
    "            return None\n",
    "    return Chem.MolToSmiles(mol, isomericSmiles=False)\n",
    "\n",
    "mol_df['smiles_clean'] = mol_df['canonical_smiles'].map(clean_smiles)\n",
    "mol_df = mol_df.dropna(subset=['smiles_clean'])\n",
    "\n",
    "# 6) join & (optionally) add random negatives for 1:1 balance\n",
    "pairs = pos_df.merge(mol_df[['molecule_chembl_id','smiles_clean']],\n",
    "                     on='molecule_chembl_id', how='inner')\n",
    "\n",
    "if MAKE_BALANCED_1TO1:\n",
    "    # Build candidate negatives as (target, molecule) combos not in positives\n",
    "    pos_set = {(r.target_chembl_id, r.molecule_chembl_id) for r in pairs.itertuples()}\n",
    "    all_targets = pairs['target_chembl_id'].unique().tolist()\n",
    "    all_mols    = pairs['molecule_chembl_id'].unique().tolist()\n",
    "\n",
    "    neg_rows = []\n",
    "    tries = 0\n",
    "    goal = pairs.shape[0]\n",
    "    while len(neg_rows) < goal and tries < goal * 50:\n",
    "        tries += 1\n",
    "        t = random.choice(all_targets)\n",
    "        m = random.choice(all_mols)\n",
    "        if (t, m) in pos_set:\n",
    "            continue\n",
    "        neg_rows.append({'target_chembl_id': t, 'molecule_chembl_id': m, 'label': 0})\n",
    "    neg_df = pd.DataFrame(neg_rows).drop_duplicates().head(goal)\n",
    "\n",
    "    # Attach metadata & smiles\n",
    "    meta_cols = ['target_pref_name','uniprot_ids','protein_sequence']\n",
    "    target_meta = pairs[['target_chembl_id'] + meta_cols].drop_duplicates()\n",
    "    neg_df = neg_df.merge(target_meta, on='target_chembl_id', how='left') \\\n",
    "                   .merge(mol_df[['molecule_chembl_id','smiles_clean']], on='molecule_chembl_id', how='left') \\\n",
    "                   .dropna(subset=['smiles_clean'])\n",
    "\n",
    "    # Merge positives + negatives\n",
    "    base_cols = ['target_chembl_id','target_pref_name','uniprot_ids','protein_sequence',\n",
    "                 'molecule_chembl_id','smiles_clean','label']\n",
    "    pos_out = pairs[base_cols + ['pchembl_value']].copy()\n",
    "    neg_out = neg_df[base_cols].copy()\n",
    "    neg_out['pchembl_value'] = None\n",
    "\n",
    "    final_df = pd.concat([pos_out, neg_out], ignore_index=True)\n",
    "else:\n",
    "    final_df = pairs[['target_chembl_id','target_pref_name','uniprot_ids','protein_sequence',\n",
    "                      'molecule_chembl_id','smiles_clean','pchembl_value','label']].copy()\n",
    "\n",
    "# 7) write to CSV\n",
    "final_df.to_csv('deeptarget_like_pairs.csv', index=False)\n",
    "print(\"Wrote\", final_df.shape, \"to deeptarget_like_pairs.csv\")"
   ]
  }
 ],
 "metadata": {
  "kernelspec": {
   "display_name": "targetganPlay",
   "language": "python",
   "name": "python3"
  },
  "language_info": {
   "codemirror_mode": {
    "name": "ipython",
    "version": 3
   },
   "file_extension": ".py",
   "mimetype": "text/x-python",
   "name": "python",
   "nbconvert_exporter": "python",
   "pygments_lexer": "ipython3",
   "version": "3.10.18"
  }
 },
 "nbformat": 4,
 "nbformat_minor": 5
}
